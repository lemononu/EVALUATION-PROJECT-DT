{
 "cells": [
  {
   "cell_type": "code",
   "execution_count": 1,
   "id": "2aaab60b",
   "metadata": {},
   "outputs": [],
   "source": [
    "#IMPORT NECESSARY LIBRARIES\n",
    "import numpy as np\n",
    "import pandas as pd\n",
    "import seaborn as sns\n",
    "import matplotlib.pyplot as plt\n",
    "import warnings\n",
    "warnings.filterwarnings('ignore')"
   ]
  },
  {
   "cell_type": "code",
   "execution_count": 2,
   "id": "bee3e36e",
   "metadata": {},
   "outputs": [
    {
     "data": {
      "text/html": [
       "<div>\n",
       "<style scoped>\n",
       "    .dataframe tbody tr th:only-of-type {\n",
       "        vertical-align: middle;\n",
       "    }\n",
       "\n",
       "    .dataframe tbody tr th {\n",
       "        vertical-align: top;\n",
       "    }\n",
       "\n",
       "    .dataframe thead th {\n",
       "        text-align: right;\n",
       "    }\n",
       "</style>\n",
       "<table border=\"1\" class=\"dataframe\">\n",
       "  <thead>\n",
       "    <tr style=\"text-align: right;\">\n",
       "      <th></th>\n",
       "      <th>country</th>\n",
       "      <th>country_long</th>\n",
       "      <th>name</th>\n",
       "      <th>gppd_idnr</th>\n",
       "      <th>capacity_mw</th>\n",
       "      <th>latitude</th>\n",
       "      <th>longitude</th>\n",
       "      <th>primary_fuel</th>\n",
       "      <th>other_fuel1</th>\n",
       "      <th>other_fuel2</th>\n",
       "      <th>...</th>\n",
       "      <th>year_of_capacity_data</th>\n",
       "      <th>generation_gwh_2013</th>\n",
       "      <th>generation_gwh_2014</th>\n",
       "      <th>generation_gwh_2015</th>\n",
       "      <th>generation_gwh_2016</th>\n",
       "      <th>generation_gwh_2017</th>\n",
       "      <th>generation_gwh_2018</th>\n",
       "      <th>generation_gwh_2019</th>\n",
       "      <th>generation_data_source</th>\n",
       "      <th>estimated_generation_gwh</th>\n",
       "    </tr>\n",
       "  </thead>\n",
       "  <tbody>\n",
       "    <tr>\n",
       "      <th>0</th>\n",
       "      <td>IND</td>\n",
       "      <td>India</td>\n",
       "      <td>ACME Solar Tower</td>\n",
       "      <td>WRI1020239</td>\n",
       "      <td>2.5</td>\n",
       "      <td>28.1839</td>\n",
       "      <td>73.2407</td>\n",
       "      <td>Solar</td>\n",
       "      <td>NaN</td>\n",
       "      <td>NaN</td>\n",
       "      <td>...</td>\n",
       "      <td>NaN</td>\n",
       "      <td>NaN</td>\n",
       "      <td>NaN</td>\n",
       "      <td>NaN</td>\n",
       "      <td>NaN</td>\n",
       "      <td>NaN</td>\n",
       "      <td>NaN</td>\n",
       "      <td>NaN</td>\n",
       "      <td>NaN</td>\n",
       "      <td>NaN</td>\n",
       "    </tr>\n",
       "    <tr>\n",
       "      <th>1</th>\n",
       "      <td>IND</td>\n",
       "      <td>India</td>\n",
       "      <td>ADITYA CEMENT WORKS</td>\n",
       "      <td>WRI1019881</td>\n",
       "      <td>98.0</td>\n",
       "      <td>24.7663</td>\n",
       "      <td>74.6090</td>\n",
       "      <td>Coal</td>\n",
       "      <td>NaN</td>\n",
       "      <td>NaN</td>\n",
       "      <td>...</td>\n",
       "      <td>NaN</td>\n",
       "      <td>NaN</td>\n",
       "      <td>NaN</td>\n",
       "      <td>NaN</td>\n",
       "      <td>NaN</td>\n",
       "      <td>NaN</td>\n",
       "      <td>NaN</td>\n",
       "      <td>NaN</td>\n",
       "      <td>NaN</td>\n",
       "      <td>NaN</td>\n",
       "    </tr>\n",
       "    <tr>\n",
       "      <th>2</th>\n",
       "      <td>IND</td>\n",
       "      <td>India</td>\n",
       "      <td>AES Saurashtra Windfarms</td>\n",
       "      <td>WRI1026669</td>\n",
       "      <td>39.2</td>\n",
       "      <td>21.9038</td>\n",
       "      <td>69.3732</td>\n",
       "      <td>Wind</td>\n",
       "      <td>NaN</td>\n",
       "      <td>NaN</td>\n",
       "      <td>...</td>\n",
       "      <td>NaN</td>\n",
       "      <td>NaN</td>\n",
       "      <td>NaN</td>\n",
       "      <td>NaN</td>\n",
       "      <td>NaN</td>\n",
       "      <td>NaN</td>\n",
       "      <td>NaN</td>\n",
       "      <td>NaN</td>\n",
       "      <td>NaN</td>\n",
       "      <td>NaN</td>\n",
       "    </tr>\n",
       "    <tr>\n",
       "      <th>3</th>\n",
       "      <td>IND</td>\n",
       "      <td>India</td>\n",
       "      <td>AGARTALA GT</td>\n",
       "      <td>IND0000001</td>\n",
       "      <td>135.0</td>\n",
       "      <td>23.8712</td>\n",
       "      <td>91.3602</td>\n",
       "      <td>Gas</td>\n",
       "      <td>NaN</td>\n",
       "      <td>NaN</td>\n",
       "      <td>...</td>\n",
       "      <td>2019.0</td>\n",
       "      <td>NaN</td>\n",
       "      <td>617.789264</td>\n",
       "      <td>843.747</td>\n",
       "      <td>886.004428</td>\n",
       "      <td>663.774500</td>\n",
       "      <td>626.239128</td>\n",
       "      <td>NaN</td>\n",
       "      <td>Central Electricity Authority</td>\n",
       "      <td>NaN</td>\n",
       "    </tr>\n",
       "    <tr>\n",
       "      <th>4</th>\n",
       "      <td>IND</td>\n",
       "      <td>India</td>\n",
       "      <td>AKALTARA TPP</td>\n",
       "      <td>IND0000002</td>\n",
       "      <td>1800.0</td>\n",
       "      <td>21.9603</td>\n",
       "      <td>82.4091</td>\n",
       "      <td>Coal</td>\n",
       "      <td>Oil</td>\n",
       "      <td>NaN</td>\n",
       "      <td>...</td>\n",
       "      <td>2019.0</td>\n",
       "      <td>NaN</td>\n",
       "      <td>3035.550000</td>\n",
       "      <td>5916.370</td>\n",
       "      <td>6243.000000</td>\n",
       "      <td>5385.579736</td>\n",
       "      <td>7279.000000</td>\n",
       "      <td>NaN</td>\n",
       "      <td>Central Electricity Authority</td>\n",
       "      <td>NaN</td>\n",
       "    </tr>\n",
       "  </tbody>\n",
       "</table>\n",
       "<p>5 rows × 27 columns</p>\n",
       "</div>"
      ],
      "text/plain": [
       "  country country_long                      name   gppd_idnr  capacity_mw  \\\n",
       "0     IND        India          ACME Solar Tower  WRI1020239          2.5   \n",
       "1     IND        India       ADITYA CEMENT WORKS  WRI1019881         98.0   \n",
       "2     IND        India  AES Saurashtra Windfarms  WRI1026669         39.2   \n",
       "3     IND        India               AGARTALA GT  IND0000001        135.0   \n",
       "4     IND        India              AKALTARA TPP  IND0000002       1800.0   \n",
       "\n",
       "   latitude  longitude primary_fuel other_fuel1 other_fuel2  ...  \\\n",
       "0   28.1839    73.2407        Solar         NaN         NaN  ...   \n",
       "1   24.7663    74.6090         Coal         NaN         NaN  ...   \n",
       "2   21.9038    69.3732         Wind         NaN         NaN  ...   \n",
       "3   23.8712    91.3602          Gas         NaN         NaN  ...   \n",
       "4   21.9603    82.4091         Coal         Oil         NaN  ...   \n",
       "\n",
       "   year_of_capacity_data  generation_gwh_2013 generation_gwh_2014  \\\n",
       "0                    NaN                  NaN                 NaN   \n",
       "1                    NaN                  NaN                 NaN   \n",
       "2                    NaN                  NaN                 NaN   \n",
       "3                 2019.0                  NaN          617.789264   \n",
       "4                 2019.0                  NaN         3035.550000   \n",
       "\n",
       "  generation_gwh_2015 generation_gwh_2016 generation_gwh_2017  \\\n",
       "0                 NaN                 NaN                 NaN   \n",
       "1                 NaN                 NaN                 NaN   \n",
       "2                 NaN                 NaN                 NaN   \n",
       "3             843.747          886.004428          663.774500   \n",
       "4            5916.370         6243.000000         5385.579736   \n",
       "\n",
       "   generation_gwh_2018  generation_gwh_2019         generation_data_source  \\\n",
       "0                  NaN                  NaN                            NaN   \n",
       "1                  NaN                  NaN                            NaN   \n",
       "2                  NaN                  NaN                            NaN   \n",
       "3           626.239128                  NaN  Central Electricity Authority   \n",
       "4          7279.000000                  NaN  Central Electricity Authority   \n",
       "\n",
       "   estimated_generation_gwh  \n",
       "0                       NaN  \n",
       "1                       NaN  \n",
       "2                       NaN  \n",
       "3                       NaN  \n",
       "4                       NaN  \n",
       "\n",
       "[5 rows x 27 columns]"
      ]
     },
     "execution_count": 2,
     "metadata": {},
     "output_type": "execute_result"
    }
   ],
   "source": [
    "#upload the dataset\n",
    "df=pd.read_csv('global-power-plant-database')\n",
    "df.head()"
   ]
  },
  {
   "cell_type": "code",
   "execution_count": 3,
   "id": "e81abbcc",
   "metadata": {},
   "outputs": [
    {
     "data": {
      "text/plain": [
       "(907, 27)"
      ]
     },
     "execution_count": 3,
     "metadata": {},
     "output_type": "execute_result"
    }
   ],
   "source": [
    "df.shape"
   ]
  },
  {
   "cell_type": "markdown",
   "id": "13d713b1",
   "metadata": {},
   "source": [
    "So we have dataset in which there are 907 rows and 27 columns."
   ]
  },
  {
   "cell_type": "code",
   "execution_count": 4,
   "id": "8e31cb74",
   "metadata": {},
   "outputs": [
    {
     "name": "stdout",
     "output_type": "stream",
     "text": [
      "<class 'pandas.core.frame.DataFrame'>\n",
      "RangeIndex: 907 entries, 0 to 906\n",
      "Data columns (total 27 columns):\n",
      " #   Column                    Non-Null Count  Dtype  \n",
      "---  ------                    --------------  -----  \n",
      " 0   country                   907 non-null    object \n",
      " 1   country_long              907 non-null    object \n",
      " 2   name                      907 non-null    object \n",
      " 3   gppd_idnr                 907 non-null    object \n",
      " 4   capacity_mw               907 non-null    float64\n",
      " 5   latitude                  861 non-null    float64\n",
      " 6   longitude                 861 non-null    float64\n",
      " 7   primary_fuel              907 non-null    object \n",
      " 8   other_fuel1               198 non-null    object \n",
      " 9   other_fuel2               1 non-null      object \n",
      " 10  other_fuel3               0 non-null      float64\n",
      " 11  commissioning_year        527 non-null    float64\n",
      " 12  owner                     342 non-null    object \n",
      " 13  source                    907 non-null    object \n",
      " 14  url                       907 non-null    object \n",
      " 15  geolocation_source        888 non-null    object \n",
      " 16  wepp_id                   0 non-null      float64\n",
      " 17  year_of_capacity_data     519 non-null    float64\n",
      " 18  generation_gwh_2013       0 non-null      float64\n",
      " 19  generation_gwh_2014       398 non-null    float64\n",
      " 20  generation_gwh_2015       422 non-null    float64\n",
      " 21  generation_gwh_2016       434 non-null    float64\n",
      " 22  generation_gwh_2017       440 non-null    float64\n",
      " 23  generation_gwh_2018       448 non-null    float64\n",
      " 24  generation_gwh_2019       0 non-null      float64\n",
      " 25  generation_data_source    449 non-null    object \n",
      " 26  estimated_generation_gwh  0 non-null      float64\n",
      "dtypes: float64(15), object(12)\n",
      "memory usage: 191.4+ KB\n"
     ]
    }
   ],
   "source": [
    "df.info()"
   ]
  },
  {
   "cell_type": "code",
   "execution_count": 5,
   "id": "a639de1d",
   "metadata": {},
   "outputs": [
    {
     "data": {
      "text/plain": [
       "country                      object\n",
       "country_long                 object\n",
       "name                         object\n",
       "gppd_idnr                    object\n",
       "capacity_mw                 float64\n",
       "latitude                    float64\n",
       "longitude                   float64\n",
       "primary_fuel                 object\n",
       "other_fuel1                  object\n",
       "other_fuel2                  object\n",
       "other_fuel3                 float64\n",
       "commissioning_year          float64\n",
       "owner                        object\n",
       "source                       object\n",
       "url                          object\n",
       "geolocation_source           object\n",
       "wepp_id                     float64\n",
       "year_of_capacity_data       float64\n",
       "generation_gwh_2013         float64\n",
       "generation_gwh_2014         float64\n",
       "generation_gwh_2015         float64\n",
       "generation_gwh_2016         float64\n",
       "generation_gwh_2017         float64\n",
       "generation_gwh_2018         float64\n",
       "generation_gwh_2019         float64\n",
       "generation_data_source       object\n",
       "estimated_generation_gwh    float64\n",
       "dtype: object"
      ]
     },
     "execution_count": 5,
     "metadata": {},
     "output_type": "execute_result"
    }
   ],
   "source": [
    "df.dtypes"
   ]
  },
  {
   "cell_type": "markdown",
   "id": "9dc03eae",
   "metadata": {},
   "source": [
    "Here we have object and float types of data types in the dataset."
   ]
  },
  {
   "cell_type": "code",
   "execution_count": 6,
   "id": "fd5180b5",
   "metadata": {},
   "outputs": [
    {
     "data": {
      "text/html": [
       "<div>\n",
       "<style scoped>\n",
       "    .dataframe tbody tr th:only-of-type {\n",
       "        vertical-align: middle;\n",
       "    }\n",
       "\n",
       "    .dataframe tbody tr th {\n",
       "        vertical-align: top;\n",
       "    }\n",
       "\n",
       "    .dataframe thead th {\n",
       "        text-align: right;\n",
       "    }\n",
       "</style>\n",
       "<table border=\"1\" class=\"dataframe\">\n",
       "  <thead>\n",
       "    <tr style=\"text-align: right;\">\n",
       "      <th></th>\n",
       "      <th>capacity_mw</th>\n",
       "      <th>latitude</th>\n",
       "      <th>longitude</th>\n",
       "      <th>other_fuel3</th>\n",
       "      <th>commissioning_year</th>\n",
       "      <th>wepp_id</th>\n",
       "      <th>year_of_capacity_data</th>\n",
       "      <th>generation_gwh_2013</th>\n",
       "      <th>generation_gwh_2014</th>\n",
       "      <th>generation_gwh_2015</th>\n",
       "      <th>generation_gwh_2016</th>\n",
       "      <th>generation_gwh_2017</th>\n",
       "      <th>generation_gwh_2018</th>\n",
       "      <th>generation_gwh_2019</th>\n",
       "      <th>estimated_generation_gwh</th>\n",
       "    </tr>\n",
       "  </thead>\n",
       "  <tbody>\n",
       "    <tr>\n",
       "      <th>count</th>\n",
       "      <td>907.000000</td>\n",
       "      <td>861.000000</td>\n",
       "      <td>861.000000</td>\n",
       "      <td>0.0</td>\n",
       "      <td>527.000000</td>\n",
       "      <td>0.0</td>\n",
       "      <td>519.0</td>\n",
       "      <td>0.0</td>\n",
       "      <td>398.000000</td>\n",
       "      <td>422.000000</td>\n",
       "      <td>434.000000</td>\n",
       "      <td>440.000000</td>\n",
       "      <td>448.000000</td>\n",
       "      <td>0.0</td>\n",
       "      <td>0.0</td>\n",
       "    </tr>\n",
       "    <tr>\n",
       "      <th>mean</th>\n",
       "      <td>326.223755</td>\n",
       "      <td>21.197918</td>\n",
       "      <td>77.464907</td>\n",
       "      <td>NaN</td>\n",
       "      <td>1997.091082</td>\n",
       "      <td>NaN</td>\n",
       "      <td>2019.0</td>\n",
       "      <td>NaN</td>\n",
       "      <td>2431.823590</td>\n",
       "      <td>2428.226946</td>\n",
       "      <td>2467.936859</td>\n",
       "      <td>2547.759305</td>\n",
       "      <td>2600.804099</td>\n",
       "      <td>NaN</td>\n",
       "      <td>NaN</td>\n",
       "    </tr>\n",
       "    <tr>\n",
       "      <th>std</th>\n",
       "      <td>590.085456</td>\n",
       "      <td>6.239612</td>\n",
       "      <td>4.939316</td>\n",
       "      <td>NaN</td>\n",
       "      <td>17.082868</td>\n",
       "      <td>NaN</td>\n",
       "      <td>0.0</td>\n",
       "      <td>NaN</td>\n",
       "      <td>4026.440035</td>\n",
       "      <td>4194.596959</td>\n",
       "      <td>4162.884308</td>\n",
       "      <td>4196.991169</td>\n",
       "      <td>4314.880456</td>\n",
       "      <td>NaN</td>\n",
       "      <td>NaN</td>\n",
       "    </tr>\n",
       "    <tr>\n",
       "      <th>min</th>\n",
       "      <td>0.000000</td>\n",
       "      <td>8.168900</td>\n",
       "      <td>68.644700</td>\n",
       "      <td>NaN</td>\n",
       "      <td>1927.000000</td>\n",
       "      <td>NaN</td>\n",
       "      <td>2019.0</td>\n",
       "      <td>NaN</td>\n",
       "      <td>0.000000</td>\n",
       "      <td>0.000000</td>\n",
       "      <td>0.000000</td>\n",
       "      <td>0.000000</td>\n",
       "      <td>0.000000</td>\n",
       "      <td>NaN</td>\n",
       "      <td>NaN</td>\n",
       "    </tr>\n",
       "    <tr>\n",
       "      <th>25%</th>\n",
       "      <td>16.725000</td>\n",
       "      <td>16.773900</td>\n",
       "      <td>74.256200</td>\n",
       "      <td>NaN</td>\n",
       "      <td>1988.000000</td>\n",
       "      <td>NaN</td>\n",
       "      <td>2019.0</td>\n",
       "      <td>NaN</td>\n",
       "      <td>223.557672</td>\n",
       "      <td>176.381063</td>\n",
       "      <td>188.285252</td>\n",
       "      <td>177.874930</td>\n",
       "      <td>193.378250</td>\n",
       "      <td>NaN</td>\n",
       "      <td>NaN</td>\n",
       "    </tr>\n",
       "    <tr>\n",
       "      <th>50%</th>\n",
       "      <td>59.200000</td>\n",
       "      <td>21.780000</td>\n",
       "      <td>76.719500</td>\n",
       "      <td>NaN</td>\n",
       "      <td>2001.000000</td>\n",
       "      <td>NaN</td>\n",
       "      <td>2019.0</td>\n",
       "      <td>NaN</td>\n",
       "      <td>801.123775</td>\n",
       "      <td>711.181225</td>\n",
       "      <td>737.205450</td>\n",
       "      <td>817.977250</td>\n",
       "      <td>751.644375</td>\n",
       "      <td>NaN</td>\n",
       "      <td>NaN</td>\n",
       "    </tr>\n",
       "    <tr>\n",
       "      <th>75%</th>\n",
       "      <td>385.250000</td>\n",
       "      <td>25.512400</td>\n",
       "      <td>79.440800</td>\n",
       "      <td>NaN</td>\n",
       "      <td>2012.000000</td>\n",
       "      <td>NaN</td>\n",
       "      <td>2019.0</td>\n",
       "      <td>NaN</td>\n",
       "      <td>3035.306250</td>\n",
       "      <td>3084.121250</td>\n",
       "      <td>3282.861313</td>\n",
       "      <td>3275.690475</td>\n",
       "      <td>3143.535900</td>\n",
       "      <td>NaN</td>\n",
       "      <td>NaN</td>\n",
       "    </tr>\n",
       "    <tr>\n",
       "      <th>max</th>\n",
       "      <td>4760.000000</td>\n",
       "      <td>34.649000</td>\n",
       "      <td>95.408000</td>\n",
       "      <td>NaN</td>\n",
       "      <td>2018.000000</td>\n",
       "      <td>NaN</td>\n",
       "      <td>2019.0</td>\n",
       "      <td>NaN</td>\n",
       "      <td>28127.000000</td>\n",
       "      <td>30539.000000</td>\n",
       "      <td>30015.000000</td>\n",
       "      <td>35116.000000</td>\n",
       "      <td>35136.000000</td>\n",
       "      <td>NaN</td>\n",
       "      <td>NaN</td>\n",
       "    </tr>\n",
       "  </tbody>\n",
       "</table>\n",
       "</div>"
      ],
      "text/plain": [
       "       capacity_mw    latitude   longitude  other_fuel3  commissioning_year  \\\n",
       "count   907.000000  861.000000  861.000000          0.0          527.000000   \n",
       "mean    326.223755   21.197918   77.464907          NaN         1997.091082   \n",
       "std     590.085456    6.239612    4.939316          NaN           17.082868   \n",
       "min       0.000000    8.168900   68.644700          NaN         1927.000000   \n",
       "25%      16.725000   16.773900   74.256200          NaN         1988.000000   \n",
       "50%      59.200000   21.780000   76.719500          NaN         2001.000000   \n",
       "75%     385.250000   25.512400   79.440800          NaN         2012.000000   \n",
       "max    4760.000000   34.649000   95.408000          NaN         2018.000000   \n",
       "\n",
       "       wepp_id  year_of_capacity_data  generation_gwh_2013  \\\n",
       "count      0.0                  519.0                  0.0   \n",
       "mean       NaN                 2019.0                  NaN   \n",
       "std        NaN                    0.0                  NaN   \n",
       "min        NaN                 2019.0                  NaN   \n",
       "25%        NaN                 2019.0                  NaN   \n",
       "50%        NaN                 2019.0                  NaN   \n",
       "75%        NaN                 2019.0                  NaN   \n",
       "max        NaN                 2019.0                  NaN   \n",
       "\n",
       "       generation_gwh_2014  generation_gwh_2015  generation_gwh_2016  \\\n",
       "count           398.000000           422.000000           434.000000   \n",
       "mean           2431.823590          2428.226946          2467.936859   \n",
       "std            4026.440035          4194.596959          4162.884308   \n",
       "min               0.000000             0.000000             0.000000   \n",
       "25%             223.557672           176.381063           188.285252   \n",
       "50%             801.123775           711.181225           737.205450   \n",
       "75%            3035.306250          3084.121250          3282.861313   \n",
       "max           28127.000000         30539.000000         30015.000000   \n",
       "\n",
       "       generation_gwh_2017  generation_gwh_2018  generation_gwh_2019  \\\n",
       "count           440.000000           448.000000                  0.0   \n",
       "mean           2547.759305          2600.804099                  NaN   \n",
       "std            4196.991169          4314.880456                  NaN   \n",
       "min               0.000000             0.000000                  NaN   \n",
       "25%             177.874930           193.378250                  NaN   \n",
       "50%             817.977250           751.644375                  NaN   \n",
       "75%            3275.690475          3143.535900                  NaN   \n",
       "max           35116.000000         35136.000000                  NaN   \n",
       "\n",
       "       estimated_generation_gwh  \n",
       "count                       0.0  \n",
       "mean                        NaN  \n",
       "std                         NaN  \n",
       "min                         NaN  \n",
       "25%                         NaN  \n",
       "50%                         NaN  \n",
       "75%                         NaN  \n",
       "max                         NaN  "
      ]
     },
     "execution_count": 6,
     "metadata": {},
     "output_type": "execute_result"
    }
   ],
   "source": [
    "# Data Analysis and Visualization\n",
    "df.describe()"
   ]
  },
  {
   "cell_type": "markdown",
   "id": "4fcce9ab",
   "metadata": {},
   "source": [
    "This column shows the statistical values for the numerical data like mean,standard deviation and percentiles,minimum and maximum."
   ]
  },
  {
   "cell_type": "code",
   "execution_count": 7,
   "id": "e76117cf",
   "metadata": {},
   "outputs": [
    {
     "data": {
      "text/plain": [
       "country                       0\n",
       "country_long                  0\n",
       "name                          0\n",
       "gppd_idnr                     0\n",
       "capacity_mw                   0\n",
       "latitude                     46\n",
       "longitude                    46\n",
       "primary_fuel                  0\n",
       "other_fuel1                 709\n",
       "other_fuel2                 906\n",
       "other_fuel3                 907\n",
       "commissioning_year          380\n",
       "owner                       565\n",
       "source                        0\n",
       "url                           0\n",
       "geolocation_source           19\n",
       "wepp_id                     907\n",
       "year_of_capacity_data       388\n",
       "generation_gwh_2013         907\n",
       "generation_gwh_2014         509\n",
       "generation_gwh_2015         485\n",
       "generation_gwh_2016         473\n",
       "generation_gwh_2017         467\n",
       "generation_gwh_2018         459\n",
       "generation_gwh_2019         907\n",
       "generation_data_source      458\n",
       "estimated_generation_gwh    907\n",
       "dtype: int64"
      ]
     },
     "execution_count": 7,
     "metadata": {},
     "output_type": "execute_result"
    }
   ],
   "source": [
    "#checking for missing values\n",
    "df.isnull().sum()"
   ]
  },
  {
   "cell_type": "markdown",
   "id": "40cec218",
   "metadata": {},
   "source": [
    "So,it is obsetved from above observations that there are null values inside the dataset. so we need to replace the missing values with nan. we can also observe null values with visualization library seaborn."
   ]
  },
  {
   "cell_type": "code",
   "execution_count": 8,
   "id": "5adb6da1",
   "metadata": {},
   "outputs": [
    {
     "data": {
      "text/plain": [
       "<AxesSubplot:>"
      ]
     },
     "execution_count": 8,
     "metadata": {},
     "output_type": "execute_result"
    },
    {
     "data": {
      "image/png": "[encoded data removed]",
      "text/plain": [
       "<Figure size 432x288 with 1 Axes>"
      ]
     },
     "metadata": {
      "needs_background": "light"
     },
     "output_type": "display_data"
    }
   ],
   "source": [
    "sns.heatmap(df.isnull(),yticklabels=False,cbar=False,cmap='viridis')"
   ]
  },
  {
   "cell_type": "code",
   "execution_count": 9,
   "id": "9a79c1a2",
   "metadata": {},
   "outputs": [
    {
     "data": {
      "text/plain": [
       "IND    907\n",
       "Name: country, dtype: int64"
      ]
     },
     "execution_count": 9,
     "metadata": {},
     "output_type": "execute_result"
    }
   ],
   "source": [
    "df['country'].value_counts()"
   ]
  },
  {
   "cell_type": "code",
   "execution_count": 10,
   "id": "9a8c6069",
   "metadata": {},
   "outputs": [
    {
     "data": {
      "text/plain": [
       "India    907\n",
       "Name: country_long, dtype: int64"
      ]
     },
     "execution_count": 10,
     "metadata": {},
     "output_type": "execute_result"
    }
   ],
   "source": [
    "df['country_long'].value_counts()"
   ]
  },
  {
   "cell_type": "code",
   "execution_count": 11,
   "id": "aeceb332",
   "metadata": {},
   "outputs": [
    {
     "data": {
      "text/plain": [
       "2019.0    519\n",
       "Name: year_of_capacity_data, dtype: int64"
      ]
     },
     "execution_count": 11,
     "metadata": {},
     "output_type": "execute_result"
    }
   ],
   "source": [
    "df['year_of_capacity_data'].value_counts()"
   ]
  },
  {
   "cell_type": "code",
   "execution_count": 12,
   "id": "fa2e4828",
   "metadata": {},
   "outputs": [
    {
     "data": {
      "text/plain": [
       "array([  nan, 2019.])"
      ]
     },
     "execution_count": 12,
     "metadata": {},
     "output_type": "execute_result"
    }
   ],
   "source": [
    "df['year_of_capacity_data'].unique()"
   ]
  },
  {
   "cell_type": "markdown",
   "id": "6c9b1c77",
   "metadata": {},
   "source": [
    "As we can see the values in both the country and country_long column are same so we will also drop one of the column either. "
   ]
  },
  {
   "cell_type": "markdown",
   "id": "029e6d8c",
   "metadata": {},
   "source": [
    "So,first we will drop the columns which are completely null and also the country_long column."
   ]
  },
  {
   "cell_type": "code",
   "execution_count": 13,
   "id": "7a033818",
   "metadata": {},
   "outputs": [
    {
     "data": {
      "text/html": [
       "<div>\n",
       "<style scoped>\n",
       "    .dataframe tbody tr th:only-of-type {\n",
       "        vertical-align: middle;\n",
       "    }\n",
       "\n",
       "    .dataframe tbody tr th {\n",
       "        vertical-align: top;\n",
       "    }\n",
       "\n",
       "    .dataframe thead th {\n",
       "        text-align: right;\n",
       "    }\n",
       "</style>\n",
       "<table border=\"1\" class=\"dataframe\">\n",
       "  <thead>\n",
       "    <tr style=\"text-align: right;\">\n",
       "      <th></th>\n",
       "      <th>country</th>\n",
       "      <th>name</th>\n",
       "      <th>gppd_idnr</th>\n",
       "      <th>capacity_mw</th>\n",
       "      <th>latitude</th>\n",
       "      <th>longitude</th>\n",
       "      <th>primary_fuel</th>\n",
       "      <th>commissioning_year</th>\n",
       "      <th>owner</th>\n",
       "      <th>source</th>\n",
       "      <th>url</th>\n",
       "      <th>geolocation_source</th>\n",
       "      <th>generation_gwh_2014</th>\n",
       "      <th>generation_gwh_2015</th>\n",
       "      <th>generation_gwh_2016</th>\n",
       "      <th>generation_gwh_2017</th>\n",
       "      <th>generation_gwh_2018</th>\n",
       "      <th>generation_data_source</th>\n",
       "    </tr>\n",
       "  </thead>\n",
       "  <tbody>\n",
       "    <tr>\n",
       "      <th>0</th>\n",
       "      <td>IND</td>\n",
       "      <td>ACME Solar Tower</td>\n",
       "      <td>WRI1020239</td>\n",
       "      <td>2.5</td>\n",
       "      <td>28.1839</td>\n",
       "      <td>73.2407</td>\n",
       "      <td>Solar</td>\n",
       "      <td>2011.0</td>\n",
       "      <td>Solar Paces</td>\n",
       "      <td>National Renewable Energy Laboratory</td>\n",
       "      <td>http://www.nrel.gov/csp/solarpaces/project_det...</td>\n",
       "      <td>National Renewable Energy Laboratory</td>\n",
       "      <td>NaN</td>\n",
       "      <td>NaN</td>\n",
       "      <td>NaN</td>\n",
       "      <td>NaN</td>\n",
       "      <td>NaN</td>\n",
       "      <td>NaN</td>\n",
       "    </tr>\n",
       "    <tr>\n",
       "      <th>1</th>\n",
       "      <td>IND</td>\n",
       "      <td>ADITYA CEMENT WORKS</td>\n",
       "      <td>WRI1019881</td>\n",
       "      <td>98.0</td>\n",
       "      <td>24.7663</td>\n",
       "      <td>74.6090</td>\n",
       "      <td>Coal</td>\n",
       "      <td>NaN</td>\n",
       "      <td>Ultratech Cement ltd</td>\n",
       "      <td>Ultratech Cement ltd</td>\n",
       "      <td>http://www.ultratechcement.com/</td>\n",
       "      <td>WRI</td>\n",
       "      <td>NaN</td>\n",
       "      <td>NaN</td>\n",
       "      <td>NaN</td>\n",
       "      <td>NaN</td>\n",
       "      <td>NaN</td>\n",
       "      <td>NaN</td>\n",
       "    </tr>\n",
       "    <tr>\n",
       "      <th>2</th>\n",
       "      <td>IND</td>\n",
       "      <td>AES Saurashtra Windfarms</td>\n",
       "      <td>WRI1026669</td>\n",
       "      <td>39.2</td>\n",
       "      <td>21.9038</td>\n",
       "      <td>69.3732</td>\n",
       "      <td>Wind</td>\n",
       "      <td>NaN</td>\n",
       "      <td>AES</td>\n",
       "      <td>CDM</td>\n",
       "      <td>https://cdm.unfccc.int/Projects/DB/DNV-CUK1328...</td>\n",
       "      <td>WRI</td>\n",
       "      <td>NaN</td>\n",
       "      <td>NaN</td>\n",
       "      <td>NaN</td>\n",
       "      <td>NaN</td>\n",
       "      <td>NaN</td>\n",
       "      <td>NaN</td>\n",
       "    </tr>\n",
       "    <tr>\n",
       "      <th>3</th>\n",
       "      <td>IND</td>\n",
       "      <td>AGARTALA GT</td>\n",
       "      <td>IND0000001</td>\n",
       "      <td>135.0</td>\n",
       "      <td>23.8712</td>\n",
       "      <td>91.3602</td>\n",
       "      <td>Gas</td>\n",
       "      <td>2004.0</td>\n",
       "      <td>NaN</td>\n",
       "      <td>Central Electricity Authority</td>\n",
       "      <td>http://www.cea.nic.in/</td>\n",
       "      <td>WRI</td>\n",
       "      <td>617.789264</td>\n",
       "      <td>843.747</td>\n",
       "      <td>886.004428</td>\n",
       "      <td>663.774500</td>\n",
       "      <td>626.239128</td>\n",
       "      <td>Central Electricity Authority</td>\n",
       "    </tr>\n",
       "    <tr>\n",
       "      <th>4</th>\n",
       "      <td>IND</td>\n",
       "      <td>AKALTARA TPP</td>\n",
       "      <td>IND0000002</td>\n",
       "      <td>1800.0</td>\n",
       "      <td>21.9603</td>\n",
       "      <td>82.4091</td>\n",
       "      <td>Coal</td>\n",
       "      <td>2015.0</td>\n",
       "      <td>NaN</td>\n",
       "      <td>Central Electricity Authority</td>\n",
       "      <td>http://www.cea.nic.in/</td>\n",
       "      <td>WRI</td>\n",
       "      <td>3035.550000</td>\n",
       "      <td>5916.370</td>\n",
       "      <td>6243.000000</td>\n",
       "      <td>5385.579736</td>\n",
       "      <td>7279.000000</td>\n",
       "      <td>Central Electricity Authority</td>\n",
       "    </tr>\n",
       "  </tbody>\n",
       "</table>\n",
       "</div>"
      ],
      "text/plain": [
       "  country                      name   gppd_idnr  capacity_mw  latitude  \\\n",
       "0     IND          ACME Solar Tower  WRI1020239          2.5   28.1839   \n",
       "1     IND       ADITYA CEMENT WORKS  WRI1019881         98.0   24.7663   \n",
       "2     IND  AES Saurashtra Windfarms  WRI1026669         39.2   21.9038   \n",
       "3     IND               AGARTALA GT  IND0000001        135.0   23.8712   \n",
       "4     IND              AKALTARA TPP  IND0000002       1800.0   21.9603   \n",
       "\n",
       "   longitude primary_fuel  commissioning_year                 owner  \\\n",
       "0    73.2407        Solar              2011.0           Solar Paces   \n",
       "1    74.6090         Coal                 NaN  Ultratech Cement ltd   \n",
       "2    69.3732         Wind                 NaN                   AES   \n",
       "3    91.3602          Gas              2004.0                   NaN   \n",
       "4    82.4091         Coal              2015.0                   NaN   \n",
       "\n",
       "                                 source  \\\n",
       "0  National Renewable Energy Laboratory   \n",
       "1                  Ultratech Cement ltd   \n",
       "2                                   CDM   \n",
       "3         Central Electricity Authority   \n",
       "4         Central Electricity Authority   \n",
       "\n",
       "                                                 url  \\\n",
       "0  http://www.nrel.gov/csp/solarpaces/project_det...   \n",
       "1                    http://www.ultratechcement.com/   \n",
       "2  https://cdm.unfccc.int/Projects/DB/DNV-CUK1328...   \n",
       "3                             http://www.cea.nic.in/   \n",
       "4                             http://www.cea.nic.in/   \n",
       "\n",
       "                     geolocation_source  generation_gwh_2014  \\\n",
       "0  National Renewable Energy Laboratory                  NaN   \n",
       "1                                   WRI                  NaN   \n",
       "2                                   WRI                  NaN   \n",
       "3                                   WRI           617.789264   \n",
       "4                                   WRI          3035.550000   \n",
       "\n",
       "   generation_gwh_2015  generation_gwh_2016  generation_gwh_2017  \\\n",
       "0                  NaN                  NaN                  NaN   \n",
       "1                  NaN                  NaN                  NaN   \n",
       "2                  NaN                  NaN                  NaN   \n",
       "3              843.747           886.004428           663.774500   \n",
       "4             5916.370          6243.000000          5385.579736   \n",
       "\n",
       "   generation_gwh_2018         generation_data_source  \n",
       "0                  NaN                            NaN  \n",
       "1                  NaN                            NaN  \n",
       "2                  NaN                            NaN  \n",
       "3           626.239128  Central Electricity Authority  \n",
       "4          7279.000000  Central Electricity Authority  "
      ]
     },
     "execution_count": 13,
     "metadata": {},
     "output_type": "execute_result"
    }
   ],
   "source": [
    "df.drop(['country_long','other_fuel1','other_fuel2','other_fuel3','wepp_id','generation_gwh_2013','generation_gwh_2019','estimated_generation_gwh','year_of_capacity_data'],axis=1,inplace=True)\n",
    "df.head()"
   ]
  },
  {
   "cell_type": "code",
   "execution_count": 14,
   "id": "9dd2c911",
   "metadata": {},
   "outputs": [
    {
     "data": {
      "text/plain": [
       "(907, 18)"
      ]
     },
     "execution_count": 14,
     "metadata": {},
     "output_type": "execute_result"
    }
   ],
   "source": [
    "df.shape"
   ]
  },
  {
   "cell_type": "code",
   "execution_count": 15,
   "id": "3caddfc2",
   "metadata": {},
   "outputs": [
    {
     "data": {
      "text/plain": [
       "country                     0\n",
       "name                        0\n",
       "gppd_idnr                   0\n",
       "capacity_mw                 0\n",
       "latitude                   46\n",
       "longitude                  46\n",
       "primary_fuel                0\n",
       "commissioning_year        380\n",
       "owner                     565\n",
       "source                      0\n",
       "url                         0\n",
       "geolocation_source         19\n",
       "generation_gwh_2014       509\n",
       "generation_gwh_2015       485\n",
       "generation_gwh_2016       473\n",
       "generation_gwh_2017       467\n",
       "generation_gwh_2018       459\n",
       "generation_data_source    458\n",
       "dtype: int64"
      ]
     },
     "execution_count": 15,
     "metadata": {},
     "output_type": "execute_result"
    }
   ],
   "source": [
    "df.isnull().sum()"
   ]
  },
  {
   "cell_type": "markdown",
   "id": "7ee71fe1",
   "metadata": {},
   "source": [
    "Now, still there are some values isndide the column which are null so we will fill them with other value."
   ]
  },
  {
   "cell_type": "code",
   "execution_count": 16,
   "id": "a9695130",
   "metadata": {},
   "outputs": [
    {
     "data": {
      "text/html": [
       "<div>\n",
       "<style scoped>\n",
       "    .dataframe tbody tr th:only-of-type {\n",
       "        vertical-align: middle;\n",
       "    }\n",
       "\n",
       "    .dataframe tbody tr th {\n",
       "        vertical-align: top;\n",
       "    }\n",
       "\n",
       "    .dataframe thead th {\n",
       "        text-align: right;\n",
       "    }\n",
       "</style>\n",
       "<table border=\"1\" class=\"dataframe\">\n",
       "  <thead>\n",
       "    <tr style=\"text-align: right;\">\n",
       "      <th></th>\n",
       "      <th>country</th>\n",
       "      <th>name</th>\n",
       "      <th>gppd_idnr</th>\n",
       "      <th>capacity_mw</th>\n",
       "      <th>latitude</th>\n",
       "      <th>longitude</th>\n",
       "      <th>primary_fuel</th>\n",
       "      <th>commissioning_year</th>\n",
       "      <th>owner</th>\n",
       "      <th>source</th>\n",
       "      <th>url</th>\n",
       "      <th>geolocation_source</th>\n",
       "      <th>generation_gwh_2014</th>\n",
       "      <th>generation_gwh_2015</th>\n",
       "      <th>generation_gwh_2016</th>\n",
       "      <th>generation_gwh_2017</th>\n",
       "      <th>generation_gwh_2018</th>\n",
       "      <th>generation_data_source</th>\n",
       "    </tr>\n",
       "  </thead>\n",
       "  <tbody>\n",
       "    <tr>\n",
       "      <th>0</th>\n",
       "      <td>IND</td>\n",
       "      <td>ACME Solar Tower</td>\n",
       "      <td>WRI1020239</td>\n",
       "      <td>2.5</td>\n",
       "      <td>28.1839</td>\n",
       "      <td>73.2407</td>\n",
       "      <td>Solar</td>\n",
       "      <td>2011.0</td>\n",
       "      <td>Solar Paces</td>\n",
       "      <td>National Renewable Energy Laboratory</td>\n",
       "      <td>http://www.nrel.gov/csp/solarpaces/project_det...</td>\n",
       "      <td>National Renewable Energy Laboratory</td>\n",
       "      <td>NaN</td>\n",
       "      <td>NaN</td>\n",
       "      <td>NaN</td>\n",
       "      <td>NaN</td>\n",
       "      <td>NaN</td>\n",
       "      <td>NaN</td>\n",
       "    </tr>\n",
       "    <tr>\n",
       "      <th>1</th>\n",
       "      <td>IND</td>\n",
       "      <td>ADITYA CEMENT WORKS</td>\n",
       "      <td>WRI1019881</td>\n",
       "      <td>98.0</td>\n",
       "      <td>24.7663</td>\n",
       "      <td>74.6090</td>\n",
       "      <td>Coal</td>\n",
       "      <td>NaN</td>\n",
       "      <td>Ultratech Cement ltd</td>\n",
       "      <td>Ultratech Cement ltd</td>\n",
       "      <td>http://www.ultratechcement.com/</td>\n",
       "      <td>WRI</td>\n",
       "      <td>NaN</td>\n",
       "      <td>NaN</td>\n",
       "      <td>NaN</td>\n",
       "      <td>NaN</td>\n",
       "      <td>NaN</td>\n",
       "      <td>NaN</td>\n",
       "    </tr>\n",
       "    <tr>\n",
       "      <th>2</th>\n",
       "      <td>IND</td>\n",
       "      <td>AES Saurashtra Windfarms</td>\n",
       "      <td>WRI1026669</td>\n",
       "      <td>39.2</td>\n",
       "      <td>21.9038</td>\n",
       "      <td>69.3732</td>\n",
       "      <td>Wind</td>\n",
       "      <td>NaN</td>\n",
       "      <td>AES</td>\n",
       "      <td>CDM</td>\n",
       "      <td>https://cdm.unfccc.int/Projects/DB/DNV-CUK1328...</td>\n",
       "      <td>WRI</td>\n",
       "      <td>NaN</td>\n",
       "      <td>NaN</td>\n",
       "      <td>NaN</td>\n",
       "      <td>NaN</td>\n",
       "      <td>NaN</td>\n",
       "      <td>NaN</td>\n",
       "    </tr>\n",
       "    <tr>\n",
       "      <th>3</th>\n",
       "      <td>IND</td>\n",
       "      <td>AGARTALA GT</td>\n",
       "      <td>IND0000001</td>\n",
       "      <td>135.0</td>\n",
       "      <td>23.8712</td>\n",
       "      <td>91.3602</td>\n",
       "      <td>Gas</td>\n",
       "      <td>2004.0</td>\n",
       "      <td>NaN</td>\n",
       "      <td>Central Electricity Authority</td>\n",
       "      <td>http://www.cea.nic.in/</td>\n",
       "      <td>WRI</td>\n",
       "      <td>617.789264</td>\n",
       "      <td>843.747000</td>\n",
       "      <td>886.004428</td>\n",
       "      <td>663.774500</td>\n",
       "      <td>626.239128</td>\n",
       "      <td>Central Electricity Authority</td>\n",
       "    </tr>\n",
       "    <tr>\n",
       "      <th>4</th>\n",
       "      <td>IND</td>\n",
       "      <td>AKALTARA TPP</td>\n",
       "      <td>IND0000002</td>\n",
       "      <td>1800.0</td>\n",
       "      <td>21.9603</td>\n",
       "      <td>82.4091</td>\n",
       "      <td>Coal</td>\n",
       "      <td>2015.0</td>\n",
       "      <td>NaN</td>\n",
       "      <td>Central Electricity Authority</td>\n",
       "      <td>http://www.cea.nic.in/</td>\n",
       "      <td>WRI</td>\n",
       "      <td>3035.550000</td>\n",
       "      <td>5916.370000</td>\n",
       "      <td>6243.000000</td>\n",
       "      <td>5385.579736</td>\n",
       "      <td>7279.000000</td>\n",
       "      <td>Central Electricity Authority</td>\n",
       "    </tr>\n",
       "    <tr>\n",
       "      <th>...</th>\n",
       "      <td>...</td>\n",
       "      <td>...</td>\n",
       "      <td>...</td>\n",
       "      <td>...</td>\n",
       "      <td>...</td>\n",
       "      <td>...</td>\n",
       "      <td>...</td>\n",
       "      <td>...</td>\n",
       "      <td>...</td>\n",
       "      <td>...</td>\n",
       "      <td>...</td>\n",
       "      <td>...</td>\n",
       "      <td>...</td>\n",
       "      <td>...</td>\n",
       "      <td>...</td>\n",
       "      <td>...</td>\n",
       "      <td>...</td>\n",
       "      <td>...</td>\n",
       "    </tr>\n",
       "    <tr>\n",
       "      <th>902</th>\n",
       "      <td>IND</td>\n",
       "      <td>YERMARUS TPP</td>\n",
       "      <td>IND0000513</td>\n",
       "      <td>1600.0</td>\n",
       "      <td>16.2949</td>\n",
       "      <td>77.3568</td>\n",
       "      <td>Coal</td>\n",
       "      <td>2016.0</td>\n",
       "      <td>NaN</td>\n",
       "      <td>Central Electricity Authority</td>\n",
       "      <td>http://www.cea.nic.in/</td>\n",
       "      <td>WRI</td>\n",
       "      <td>NaN</td>\n",
       "      <td>0.994875</td>\n",
       "      <td>233.596650</td>\n",
       "      <td>865.400000</td>\n",
       "      <td>686.500000</td>\n",
       "      <td>Central Electricity Authority</td>\n",
       "    </tr>\n",
       "    <tr>\n",
       "      <th>903</th>\n",
       "      <td>IND</td>\n",
       "      <td>Yelesandra Solar Power Plant</td>\n",
       "      <td>WRI1026222</td>\n",
       "      <td>3.0</td>\n",
       "      <td>12.8932</td>\n",
       "      <td>78.1654</td>\n",
       "      <td>Solar</td>\n",
       "      <td>NaN</td>\n",
       "      <td>Karnataka Power Corporation Limited</td>\n",
       "      <td>Karnataka Power Corporation Limited</td>\n",
       "      <td>http://karnatakapower.com</td>\n",
       "      <td>Industry About</td>\n",
       "      <td>NaN</td>\n",
       "      <td>NaN</td>\n",
       "      <td>NaN</td>\n",
       "      <td>NaN</td>\n",
       "      <td>NaN</td>\n",
       "      <td>NaN</td>\n",
       "    </tr>\n",
       "    <tr>\n",
       "      <th>904</th>\n",
       "      <td>IND</td>\n",
       "      <td>Yelisirur wind power project</td>\n",
       "      <td>WRI1026776</td>\n",
       "      <td>25.5</td>\n",
       "      <td>15.2758</td>\n",
       "      <td>75.5811</td>\n",
       "      <td>Wind</td>\n",
       "      <td>NaN</td>\n",
       "      <td>NaN</td>\n",
       "      <td>CDM</td>\n",
       "      <td>https://cdm.unfccc.int/Projects/DB/TUEV-RHEIN1...</td>\n",
       "      <td>WRI</td>\n",
       "      <td>NaN</td>\n",
       "      <td>NaN</td>\n",
       "      <td>NaN</td>\n",
       "      <td>NaN</td>\n",
       "      <td>NaN</td>\n",
       "      <td>NaN</td>\n",
       "    </tr>\n",
       "    <tr>\n",
       "      <th>905</th>\n",
       "      <td>IND</td>\n",
       "      <td>ZAWAR MINES</td>\n",
       "      <td>WRI1019901</td>\n",
       "      <td>80.0</td>\n",
       "      <td>24.3500</td>\n",
       "      <td>73.7477</td>\n",
       "      <td>Coal</td>\n",
       "      <td>NaN</td>\n",
       "      <td>Hindustan Zinc ltd</td>\n",
       "      <td>Hindustan Zinc ltd</td>\n",
       "      <td>http://www.hzlindia.com/</td>\n",
       "      <td>WRI</td>\n",
       "      <td>NaN</td>\n",
       "      <td>NaN</td>\n",
       "      <td>NaN</td>\n",
       "      <td>NaN</td>\n",
       "      <td>NaN</td>\n",
       "      <td>NaN</td>\n",
       "    </tr>\n",
       "    <tr>\n",
       "      <th>906</th>\n",
       "      <td>IND</td>\n",
       "      <td>iEnergy Theni Wind Farm</td>\n",
       "      <td>WRI1026761</td>\n",
       "      <td>16.5</td>\n",
       "      <td>9.9344</td>\n",
       "      <td>77.4768</td>\n",
       "      <td>Wind</td>\n",
       "      <td>NaN</td>\n",
       "      <td>iEnergy Wind Farms</td>\n",
       "      <td>CDM</td>\n",
       "      <td>https://cdm.unfccc.int/Projects/DB/RWTUV134503...</td>\n",
       "      <td>WRI</td>\n",
       "      <td>NaN</td>\n",
       "      <td>NaN</td>\n",
       "      <td>NaN</td>\n",
       "      <td>NaN</td>\n",
       "      <td>NaN</td>\n",
       "      <td>NaN</td>\n",
       "    </tr>\n",
       "  </tbody>\n",
       "</table>\n",
       "<p>907 rows × 18 columns</p>\n",
       "</div>"
      ],
      "text/plain": [
       "    country                          name   gppd_idnr  capacity_mw  latitude  \\\n",
       "0       IND              ACME Solar Tower  WRI1020239          2.5   28.1839   \n",
       "1       IND           ADITYA CEMENT WORKS  WRI1019881         98.0   24.7663   \n",
       "2       IND      AES Saurashtra Windfarms  WRI1026669         39.2   21.9038   \n",
       "3       IND                   AGARTALA GT  IND0000001        135.0   23.8712   \n",
       "4       IND                  AKALTARA TPP  IND0000002       1800.0   21.9603   \n",
       "..      ...                           ...         ...          ...       ...   \n",
       "902     IND                  YERMARUS TPP  IND0000513       1600.0   16.2949   \n",
       "903     IND  Yelesandra Solar Power Plant  WRI1026222          3.0   12.8932   \n",
       "904     IND  Yelisirur wind power project  WRI1026776         25.5   15.2758   \n",
       "905     IND                   ZAWAR MINES  WRI1019901         80.0   24.3500   \n",
       "906     IND       iEnergy Theni Wind Farm  WRI1026761         16.5    9.9344   \n",
       "\n",
       "     longitude primary_fuel  commissioning_year  \\\n",
       "0      73.2407        Solar              2011.0   \n",
       "1      74.6090         Coal                 NaN   \n",
       "2      69.3732         Wind                 NaN   \n",
       "3      91.3602          Gas              2004.0   \n",
       "4      82.4091         Coal              2015.0   \n",
       "..         ...          ...                 ...   \n",
       "902    77.3568         Coal              2016.0   \n",
       "903    78.1654        Solar                 NaN   \n",
       "904    75.5811         Wind                 NaN   \n",
       "905    73.7477         Coal                 NaN   \n",
       "906    77.4768         Wind                 NaN   \n",
       "\n",
       "                                   owner  \\\n",
       "0                            Solar Paces   \n",
       "1                   Ultratech Cement ltd   \n",
       "2                                    AES   \n",
       "3                                    NaN   \n",
       "4                                    NaN   \n",
       "..                                   ...   \n",
       "902                                  NaN   \n",
       "903  Karnataka Power Corporation Limited   \n",
       "904                                  NaN   \n",
       "905                   Hindustan Zinc ltd   \n",
       "906                   iEnergy Wind Farms   \n",
       "\n",
       "                                   source  \\\n",
       "0    National Renewable Energy Laboratory   \n",
       "1                    Ultratech Cement ltd   \n",
       "2                                     CDM   \n",
       "3           Central Electricity Authority   \n",
       "4           Central Electricity Authority   \n",
       "..                                    ...   \n",
       "902         Central Electricity Authority   \n",
       "903   Karnataka Power Corporation Limited   \n",
       "904                                   CDM   \n",
       "905                    Hindustan Zinc ltd   \n",
       "906                                   CDM   \n",
       "\n",
       "                                                   url  \\\n",
       "0    http://www.nrel.gov/csp/solarpaces/project_det...   \n",
       "1                      http://www.ultratechcement.com/   \n",
       "2    https://cdm.unfccc.int/Projects/DB/DNV-CUK1328...   \n",
       "3                               http://www.cea.nic.in/   \n",
       "4                               http://www.cea.nic.in/   \n",
       "..                                                 ...   \n",
       "902                             http://www.cea.nic.in/   \n",
       "903                          http://karnatakapower.com   \n",
       "904  https://cdm.unfccc.int/Projects/DB/TUEV-RHEIN1...   \n",
       "905                           http://www.hzlindia.com/   \n",
       "906  https://cdm.unfccc.int/Projects/DB/RWTUV134503...   \n",
       "\n",
       "                       geolocation_source  generation_gwh_2014  \\\n",
       "0    National Renewable Energy Laboratory                  NaN   \n",
       "1                                     WRI                  NaN   \n",
       "2                                     WRI                  NaN   \n",
       "3                                     WRI           617.789264   \n",
       "4                                     WRI          3035.550000   \n",
       "..                                    ...                  ...   \n",
       "902                                   WRI                  NaN   \n",
       "903                        Industry About                  NaN   \n",
       "904                                   WRI                  NaN   \n",
       "905                                   WRI                  NaN   \n",
       "906                                   WRI                  NaN   \n",
       "\n",
       "     generation_gwh_2015  generation_gwh_2016  generation_gwh_2017  \\\n",
       "0                    NaN                  NaN                  NaN   \n",
       "1                    NaN                  NaN                  NaN   \n",
       "2                    NaN                  NaN                  NaN   \n",
       "3             843.747000           886.004428           663.774500   \n",
       "4            5916.370000          6243.000000          5385.579736   \n",
       "..                   ...                  ...                  ...   \n",
       "902             0.994875           233.596650           865.400000   \n",
       "903                  NaN                  NaN                  NaN   \n",
       "904                  NaN                  NaN                  NaN   \n",
       "905                  NaN                  NaN                  NaN   \n",
       "906                  NaN                  NaN                  NaN   \n",
       "\n",
       "     generation_gwh_2018         generation_data_source  \n",
       "0                    NaN                            NaN  \n",
       "1                    NaN                            NaN  \n",
       "2                    NaN                            NaN  \n",
       "3             626.239128  Central Electricity Authority  \n",
       "4            7279.000000  Central Electricity Authority  \n",
       "..                   ...                            ...  \n",
       "902           686.500000  Central Electricity Authority  \n",
       "903                  NaN                            NaN  \n",
       "904                  NaN                            NaN  \n",
       "905                  NaN                            NaN  \n",
       "906                  NaN                            NaN  \n",
       "\n",
       "[907 rows x 18 columns]"
      ]
     },
     "execution_count": 16,
     "metadata": {},
     "output_type": "execute_result"
    }
   ],
   "source": [
    "df"
   ]
  },
  {
   "cell_type": "code",
   "execution_count": 17,
   "id": "e924803a",
   "metadata": {},
   "outputs": [
    {
     "data": {
      "text/html": [
       "<div>\n",
       "<style scoped>\n",
       "    .dataframe tbody tr th:only-of-type {\n",
       "        vertical-align: middle;\n",
       "    }\n",
       "\n",
       "    .dataframe tbody tr th {\n",
       "        vertical-align: top;\n",
       "    }\n",
       "\n",
       "    .dataframe thead th {\n",
       "        text-align: right;\n",
       "    }\n",
       "</style>\n",
       "<table border=\"1\" class=\"dataframe\">\n",
       "  <thead>\n",
       "    <tr style=\"text-align: right;\">\n",
       "      <th></th>\n",
       "      <th>capacity_mw</th>\n",
       "      <th>latitude</th>\n",
       "      <th>longitude</th>\n",
       "      <th>commissioning_year</th>\n",
       "      <th>generation_gwh_2014</th>\n",
       "      <th>generation_gwh_2015</th>\n",
       "      <th>generation_gwh_2016</th>\n",
       "      <th>generation_gwh_2017</th>\n",
       "      <th>generation_gwh_2018</th>\n",
       "    </tr>\n",
       "  </thead>\n",
       "  <tbody>\n",
       "    <tr>\n",
       "      <th>capacity_mw</th>\n",
       "      <td>1.000000</td>\n",
       "      <td>0.051309</td>\n",
       "      <td>0.197129</td>\n",
       "      <td>0.304087</td>\n",
       "      <td>0.839094</td>\n",
       "      <td>0.844352</td>\n",
       "      <td>0.870620</td>\n",
       "      <td>0.886673</td>\n",
       "      <td>0.901918</td>\n",
       "    </tr>\n",
       "    <tr>\n",
       "      <th>latitude</th>\n",
       "      <td>0.051309</td>\n",
       "      <td>1.000000</td>\n",
       "      <td>0.036362</td>\n",
       "      <td>0.129902</td>\n",
       "      <td>0.060330</td>\n",
       "      <td>0.048610</td>\n",
       "      <td>0.041387</td>\n",
       "      <td>0.040568</td>\n",
       "      <td>0.040476</td>\n",
       "    </tr>\n",
       "    <tr>\n",
       "      <th>longitude</th>\n",
       "      <td>0.197129</td>\n",
       "      <td>0.036362</td>\n",
       "      <td>1.000000</td>\n",
       "      <td>0.121910</td>\n",
       "      <td>0.013511</td>\n",
       "      <td>0.022760</td>\n",
       "      <td>0.050732</td>\n",
       "      <td>0.048678</td>\n",
       "      <td>0.045599</td>\n",
       "    </tr>\n",
       "    <tr>\n",
       "      <th>commissioning_year</th>\n",
       "      <td>0.304087</td>\n",
       "      <td>0.129902</td>\n",
       "      <td>0.121910</td>\n",
       "      <td>1.000000</td>\n",
       "      <td>0.160014</td>\n",
       "      <td>0.170363</td>\n",
       "      <td>0.193743</td>\n",
       "      <td>0.191367</td>\n",
       "      <td>0.193694</td>\n",
       "    </tr>\n",
       "    <tr>\n",
       "      <th>generation_gwh_2014</th>\n",
       "      <td>0.839094</td>\n",
       "      <td>0.060330</td>\n",
       "      <td>0.013511</td>\n",
       "      <td>0.160014</td>\n",
       "      <td>1.000000</td>\n",
       "      <td>0.961098</td>\n",
       "      <td>0.937060</td>\n",
       "      <td>0.912561</td>\n",
       "      <td>0.902781</td>\n",
       "    </tr>\n",
       "    <tr>\n",
       "      <th>generation_gwh_2015</th>\n",
       "      <td>0.844352</td>\n",
       "      <td>0.048610</td>\n",
       "      <td>0.022760</td>\n",
       "      <td>0.170363</td>\n",
       "      <td>0.961098</td>\n",
       "      <td>1.000000</td>\n",
       "      <td>0.974918</td>\n",
       "      <td>0.940191</td>\n",
       "      <td>0.934371</td>\n",
       "    </tr>\n",
       "    <tr>\n",
       "      <th>generation_gwh_2016</th>\n",
       "      <td>0.870620</td>\n",
       "      <td>0.041387</td>\n",
       "      <td>0.050732</td>\n",
       "      <td>0.193743</td>\n",
       "      <td>0.937060</td>\n",
       "      <td>0.974918</td>\n",
       "      <td>1.000000</td>\n",
       "      <td>0.972024</td>\n",
       "      <td>0.962073</td>\n",
       "    </tr>\n",
       "    <tr>\n",
       "      <th>generation_gwh_2017</th>\n",
       "      <td>0.886673</td>\n",
       "      <td>0.040568</td>\n",
       "      <td>0.048678</td>\n",
       "      <td>0.191367</td>\n",
       "      <td>0.912561</td>\n",
       "      <td>0.940191</td>\n",
       "      <td>0.972024</td>\n",
       "      <td>1.000000</td>\n",
       "      <td>0.985856</td>\n",
       "    </tr>\n",
       "    <tr>\n",
       "      <th>generation_gwh_2018</th>\n",
       "      <td>0.901918</td>\n",
       "      <td>0.040476</td>\n",
       "      <td>0.045599</td>\n",
       "      <td>0.193694</td>\n",
       "      <td>0.902781</td>\n",
       "      <td>0.934371</td>\n",
       "      <td>0.962073</td>\n",
       "      <td>0.985856</td>\n",
       "      <td>1.000000</td>\n",
       "    </tr>\n",
       "  </tbody>\n",
       "</table>\n",
       "</div>"
      ],
      "text/plain": [
       "                     capacity_mw  latitude  longitude  commissioning_year  \\\n",
       "capacity_mw             1.000000  0.051309   0.197129            0.304087   \n",
       "latitude                0.051309  1.000000   0.036362            0.129902   \n",
       "longitude               0.197129  0.036362   1.000000            0.121910   \n",
       "commissioning_year      0.304087  0.129902   0.121910            1.000000   \n",
       "generation_gwh_2014     0.839094  0.060330   0.013511            0.160014   \n",
       "generation_gwh_2015     0.844352  0.048610   0.022760            0.170363   \n",
       "generation_gwh_2016     0.870620  0.041387   0.050732            0.193743   \n",
       "generation_gwh_2017     0.886673  0.040568   0.048678            0.191367   \n",
       "generation_gwh_2018     0.901918  0.040476   0.045599            0.193694   \n",
       "\n",
       "                     generation_gwh_2014  generation_gwh_2015  \\\n",
       "capacity_mw                     0.839094             0.844352   \n",
       "latitude                        0.060330             0.048610   \n",
       "longitude                       0.013511             0.022760   \n",
       "commissioning_year              0.160014             0.170363   \n",
       "generation_gwh_2014             1.000000             0.961098   \n",
       "generation_gwh_2015             0.961098             1.000000   \n",
       "generation_gwh_2016             0.937060             0.974918   \n",
       "generation_gwh_2017             0.912561             0.940191   \n",
       "generation_gwh_2018             0.902781             0.934371   \n",
       "\n",
       "                     generation_gwh_2016  generation_gwh_2017  \\\n",
       "capacity_mw                     0.870620             0.886673   \n",
       "latitude                        0.041387             0.040568   \n",
       "longitude                       0.050732             0.048678   \n",
       "commissioning_year              0.193743             0.191367   \n",
       "generation_gwh_2014             0.937060             0.912561   \n",
       "generation_gwh_2015             0.974918             0.940191   \n",
       "generation_gwh_2016             1.000000             0.972024   \n",
       "generation_gwh_2017             0.972024             1.000000   \n",
       "generation_gwh_2018             0.962073             0.985856   \n",
       "\n",
       "                     generation_gwh_2018  \n",
       "capacity_mw                     0.901918  \n",
       "latitude                        0.040476  \n",
       "longitude                       0.045599  \n",
       "commissioning_year              0.193694  \n",
       "generation_gwh_2014             0.902781  \n",
       "generation_gwh_2015             0.934371  \n",
       "generation_gwh_2016             0.962073  \n",
       "generation_gwh_2017             0.985856  \n",
       "generation_gwh_2018             1.000000  "
      ]
     },
     "execution_count": 17,
     "metadata": {},
     "output_type": "execute_result"
    }
   ],
   "source": [
    "df.corr()"
   ]
  },
  {
   "cell_type": "code",
   "execution_count": 18,
   "id": "d7795e7c",
   "metadata": {},
   "outputs": [
    {
     "data": {
      "text/plain": [
       "<AxesSubplot:>"
      ]
     },
     "execution_count": 18,
     "metadata": {},
     "output_type": "execute_result"
    },
    {
     "data": {
      "image/png": "[encoded data removed]",
      "text/plain": [
       "<Figure size 432x288 with 2 Axes>"
      ]
     },
     "metadata": {
      "needs_background": "light"
     },
     "output_type": "display_data"
    }
   ],
   "source": [
    "sns.heatmap(df.corr(),annot=True)"
   ]
  },
  {
   "cell_type": "markdown",
   "id": "1cb61f53",
   "metadata": {},
   "source": [
    "As we can see form the above plot there is multicolinearity exist inside the data set. So in order to handle this we will use variance inflatuon factor."
   ]
  },
  {
   "cell_type": "code",
   "execution_count": 19,
   "id": "2ec6ccea",
   "metadata": {},
   "outputs": [
    {
     "data": {
      "text/plain": [
       "Index(['country', 'name', 'gppd_idnr', 'capacity_mw', 'latitude', 'longitude',\n",
       "       'primary_fuel', 'commissioning_year', 'owner', 'source', 'url',\n",
       "       'geolocation_source', 'generation_gwh_2014', 'generation_gwh_2015',\n",
       "       'generation_gwh_2016', 'generation_gwh_2017', 'generation_gwh_2018',\n",
       "       'generation_data_source'],\n",
       "      dtype='object')"
      ]
     },
     "execution_count": 19,
     "metadata": {},
     "output_type": "execute_result"
    }
   ],
   "source": [
    "df.columns"
   ]
  },
  {
   "cell_type": "code",
   "execution_count": 20,
   "id": "85ae2407",
   "metadata": {},
   "outputs": [
    {
     "data": {
      "text/plain": [
       "country                    object\n",
       "name                       object\n",
       "gppd_idnr                  object\n",
       "capacity_mw               float64\n",
       "latitude                  float64\n",
       "longitude                 float64\n",
       "primary_fuel               object\n",
       "commissioning_year        float64\n",
       "owner                      object\n",
       "source                     object\n",
       "url                        object\n",
       "geolocation_source         object\n",
       "generation_gwh_2014       float64\n",
       "generation_gwh_2015       float64\n",
       "generation_gwh_2016       float64\n",
       "generation_gwh_2017       float64\n",
       "generation_gwh_2018       float64\n",
       "generation_data_source     object\n",
       "dtype: object"
      ]
     },
     "execution_count": 20,
     "metadata": {},
     "output_type": "execute_result"
    }
   ],
   "source": [
    "df.dtypes"
   ]
  },
  {
   "cell_type": "code",
   "execution_count": 21,
   "id": "3f7d74d0",
   "metadata": {},
   "outputs": [],
   "source": [
    "#LABEL ENCODING\n",
    "from sklearn.preprocessing import LabelEncoder\n",
    "lencode=LabelEncoder()\n",
    "df['country']=lencode.fit_transform(df['country'])\n",
    "df['name']=lencode.fit_transform(df['name'])\n",
    "df['gppd_idnr']=lencode.fit_transform(df['gppd_idnr'])\n",
    "df['primary_fuel']=lencode.fit_transform(df['primary_fuel'])\n",
    "df['owner']=lencode.fit_transform(df['owner'])\n",
    "df['source']=lencode.fit_transform(df['source'])\n",
    "df['url']=lencode.fit_transform(df['url'])\n",
    "df['generation_data_source']=lencode.fit_transform(df['generation_data_source'])\n",
    "df['geolocation_source']=lencode.fit_transform(df['geolocation_source'])\n",
    "df['capacity_mw']=lencode.fit_transform(df['capacity_mw'])"
   ]
  },
  {
   "cell_type": "code",
   "execution_count": 22,
   "id": "0612f6f7",
   "metadata": {},
   "outputs": [
    {
     "data": {
      "text/html": [
       "<div>\n",
       "<style scoped>\n",
       "    .dataframe tbody tr th:only-of-type {\n",
       "        vertical-align: middle;\n",
       "    }\n",
       "\n",
       "    .dataframe tbody tr th {\n",
       "        vertical-align: top;\n",
       "    }\n",
       "\n",
       "    .dataframe thead th {\n",
       "        text-align: right;\n",
       "    }\n",
       "</style>\n",
       "<table border=\"1\" class=\"dataframe\">\n",
       "  <thead>\n",
       "    <tr style=\"text-align: right;\">\n",
       "      <th></th>\n",
       "      <th>country</th>\n",
       "      <th>name</th>\n",
       "      <th>gppd_idnr</th>\n",
       "      <th>capacity_mw</th>\n",
       "      <th>latitude</th>\n",
       "      <th>longitude</th>\n",
       "      <th>primary_fuel</th>\n",
       "      <th>commissioning_year</th>\n",
       "      <th>owner</th>\n",
       "      <th>source</th>\n",
       "      <th>url</th>\n",
       "      <th>geolocation_source</th>\n",
       "      <th>generation_gwh_2014</th>\n",
       "      <th>generation_gwh_2015</th>\n",
       "      <th>generation_gwh_2016</th>\n",
       "      <th>generation_gwh_2017</th>\n",
       "      <th>generation_gwh_2018</th>\n",
       "      <th>generation_data_source</th>\n",
       "    </tr>\n",
       "  </thead>\n",
       "  <tbody>\n",
       "    <tr>\n",
       "      <th>0</th>\n",
       "      <td>0</td>\n",
       "      <td>0</td>\n",
       "      <td>657</td>\n",
       "      <td>9</td>\n",
       "      <td>28.1839</td>\n",
       "      <td>73.2407</td>\n",
       "      <td>6</td>\n",
       "      <td>2011.0</td>\n",
       "      <td>229</td>\n",
       "      <td>109</td>\n",
       "      <td>128</td>\n",
       "      <td>1</td>\n",
       "      <td>NaN</td>\n",
       "      <td>NaN</td>\n",
       "      <td>NaN</td>\n",
       "      <td>NaN</td>\n",
       "      <td>NaN</td>\n",
       "      <td>1</td>\n",
       "    </tr>\n",
       "    <tr>\n",
       "      <th>1</th>\n",
       "      <td>0</td>\n",
       "      <td>1</td>\n",
       "      <td>519</td>\n",
       "      <td>177</td>\n",
       "      <td>24.7663</td>\n",
       "      <td>74.6090</td>\n",
       "      <td>1</td>\n",
       "      <td>NaN</td>\n",
       "      <td>258</td>\n",
       "      <td>174</td>\n",
       "      <td>173</td>\n",
       "      <td>2</td>\n",
       "      <td>NaN</td>\n",
       "      <td>NaN</td>\n",
       "      <td>NaN</td>\n",
       "      <td>NaN</td>\n",
       "      <td>NaN</td>\n",
       "      <td>1</td>\n",
       "    </tr>\n",
       "    <tr>\n",
       "      <th>2</th>\n",
       "      <td>0</td>\n",
       "      <td>2</td>\n",
       "      <td>853</td>\n",
       "      <td>121</td>\n",
       "      <td>21.9038</td>\n",
       "      <td>69.3732</td>\n",
       "      <td>7</td>\n",
       "      <td>NaN</td>\n",
       "      <td>2</td>\n",
       "      <td>21</td>\n",
       "      <td>205</td>\n",
       "      <td>2</td>\n",
       "      <td>NaN</td>\n",
       "      <td>NaN</td>\n",
       "      <td>NaN</td>\n",
       "      <td>NaN</td>\n",
       "      <td>NaN</td>\n",
       "      <td>1</td>\n",
       "    </tr>\n",
       "    <tr>\n",
       "      <th>3</th>\n",
       "      <td>0</td>\n",
       "      <td>3</td>\n",
       "      <td>0</td>\n",
       "      <td>200</td>\n",
       "      <td>23.8712</td>\n",
       "      <td>91.3602</td>\n",
       "      <td>2</td>\n",
       "      <td>2004.0</td>\n",
       "      <td>280</td>\n",
       "      <td>22</td>\n",
       "      <td>58</td>\n",
       "      <td>2</td>\n",
       "      <td>617.789264</td>\n",
       "      <td>843.747</td>\n",
       "      <td>886.004428</td>\n",
       "      <td>663.774500</td>\n",
       "      <td>626.239128</td>\n",
       "      <td>0</td>\n",
       "    </tr>\n",
       "    <tr>\n",
       "      <th>4</th>\n",
       "      <td>0</td>\n",
       "      <td>4</td>\n",
       "      <td>1</td>\n",
       "      <td>340</td>\n",
       "      <td>21.9603</td>\n",
       "      <td>82.4091</td>\n",
       "      <td>1</td>\n",
       "      <td>2015.0</td>\n",
       "      <td>280</td>\n",
       "      <td>22</td>\n",
       "      <td>58</td>\n",
       "      <td>2</td>\n",
       "      <td>3035.550000</td>\n",
       "      <td>5916.370</td>\n",
       "      <td>6243.000000</td>\n",
       "      <td>5385.579736</td>\n",
       "      <td>7279.000000</td>\n",
       "      <td>0</td>\n",
       "    </tr>\n",
       "  </tbody>\n",
       "</table>\n",
       "</div>"
      ],
      "text/plain": [
       "   country  name  gppd_idnr  capacity_mw  latitude  longitude  primary_fuel  \\\n",
       "0        0     0        657            9   28.1839    73.2407             6   \n",
       "1        0     1        519          177   24.7663    74.6090             1   \n",
       "2        0     2        853          121   21.9038    69.3732             7   \n",
       "3        0     3          0          200   23.8712    91.3602             2   \n",
       "4        0     4          1          340   21.9603    82.4091             1   \n",
       "\n",
       "   commissioning_year  owner  source  url  geolocation_source  \\\n",
       "0              2011.0    229     109  128                   1   \n",
       "1                 NaN    258     174  173                   2   \n",
       "2                 NaN      2      21  205                   2   \n",
       "3              2004.0    280      22   58                   2   \n",
       "4              2015.0    280      22   58                   2   \n",
       "\n",
       "   generation_gwh_2014  generation_gwh_2015  generation_gwh_2016  \\\n",
       "0                  NaN                  NaN                  NaN   \n",
       "1                  NaN                  NaN                  NaN   \n",
       "2                  NaN                  NaN                  NaN   \n",
       "3           617.789264              843.747           886.004428   \n",
       "4          3035.550000             5916.370          6243.000000   \n",
       "\n",
       "   generation_gwh_2017  generation_gwh_2018  generation_data_source  \n",
       "0                  NaN                  NaN                       1  \n",
       "1                  NaN                  NaN                       1  \n",
       "2                  NaN                  NaN                       1  \n",
       "3           663.774500           626.239128                       0  \n",
       "4          5385.579736          7279.000000                       0  "
      ]
     },
     "execution_count": 22,
     "metadata": {},
     "output_type": "execute_result"
    }
   ],
   "source": [
    "df.head()"
   ]
  },
  {
   "cell_type": "code",
   "execution_count": 23,
   "id": "482042c2",
   "metadata": {},
   "outputs": [
    {
     "data": {
      "text/plain": [
       "country                     int64\n",
       "name                        int64\n",
       "gppd_idnr                   int64\n",
       "capacity_mw                 int64\n",
       "latitude                  float64\n",
       "longitude                 float64\n",
       "primary_fuel                int64\n",
       "commissioning_year        float64\n",
       "owner                       int64\n",
       "source                      int64\n",
       "url                         int64\n",
       "geolocation_source          int64\n",
       "generation_gwh_2014       float64\n",
       "generation_gwh_2015       float64\n",
       "generation_gwh_2016       float64\n",
       "generation_gwh_2017       float64\n",
       "generation_gwh_2018       float64\n",
       "generation_data_source      int64\n",
       "dtype: object"
      ]
     },
     "execution_count": 23,
     "metadata": {},
     "output_type": "execute_result"
    }
   ],
   "source": [
    "df.dtypes"
   ]
  },
  {
   "cell_type": "code",
   "execution_count": 24,
   "id": "e3158993",
   "metadata": {},
   "outputs": [
    {
     "data": {
      "text/plain": [
       "Text(0, 0.5, 'capacity_mw')"
      ]
     },
     "execution_count": 24,
     "metadata": {},
     "output_type": "execute_result"
    },
    {
     "data": {
      "image/png": "[encoded data removed]",
      "text/plain": [
       "<Figure size 432x288 with 1 Axes>"
      ]
     },
     "metadata": {
      "needs_background": "light"
     },
     "output_type": "display_data"
    }
   ],
   "source": [
    "plt.scatter('gppd_idnr','capacity_mw',data=df)\n",
    "plt.xlabel('gppd_idnr')\n",
    "plt.ylabel('capacity_mw')"
   ]
  },
  {
   "cell_type": "markdown",
   "id": "48474c4b",
   "metadata": {},
   "source": [
    "As we can observe from the above plot that data points are dense in the range 0-1000mw and also outliers can be seen."
   ]
  },
  {
   "cell_type": "code",
   "execution_count": 25,
   "id": "27b7eeee",
   "metadata": {},
   "outputs": [
    {
     "data": {
      "text/plain": [
       "Text(0, 0.5, 'capacity_mw')"
      ]
     },
     "execution_count": 25,
     "metadata": {},
     "output_type": "execute_result"
    },
    {
     "data": {
      "image/png": "[encoded data removed]",
      "text/plain": [
       "<Figure size 432x288 with 1 Axes>"
      ]
     },
     "metadata": {
      "needs_background": "light"
     },
     "output_type": "display_data"
    }
   ],
   "source": [
    "plt.scatter('name','capacity_mw',data=df)\n",
    "plt.xlabel('name')\n",
    "plt.ylabel('capacity_mw')"
   ]
  },
  {
   "cell_type": "code",
   "execution_count": 26,
   "id": "6224aa8a",
   "metadata": {},
   "outputs": [
    {
     "data": {
      "text/plain": [
       "Text(0, 0.5, 'capacity_mw')"
      ]
     },
     "execution_count": 26,
     "metadata": {},
     "output_type": "execute_result"
    },
    {
     "data": {
      "image/png": "[encoded data removed]",
      "text/plain": [
       "<Figure size 432x288 with 1 Axes>"
      ]
     },
     "metadata": {
      "needs_background": "light"
     },
     "output_type": "display_data"
    }
   ],
   "source": [
    "plt.scatter('commissioning_year','capacity_mw',data=df)\n",
    "plt.xlabel('commissioning_year')\n",
    "plt.ylabel('capacity_mw')"
   ]
  },
  {
   "cell_type": "markdown",
   "id": "74594159",
   "metadata": {},
   "source": [
    "As observed in the yyear between 2020 and 2022 the capacity mw is high and outliers can be seen here."
   ]
  },
  {
   "cell_type": "code",
   "execution_count": 27,
   "id": "436ae086",
   "metadata": {},
   "outputs": [
    {
     "data": {
      "text/plain": [
       "<AxesSubplot:xlabel='capacity_mw', ylabel='Density'>"
      ]
     },
     "execution_count": 27,
     "metadata": {},
     "output_type": "execute_result"
    },
    {
     "data": {
      "image/png": "[encoded data removed]",
      "text/plain": [
       "<Figure size 432x288 with 1 Axes>"
      ]
     },
     "metadata": {
      "needs_background": "light"
     },
     "output_type": "display_data"
    }
   ],
   "source": [
    "#data visualization\n",
    "sns.distplot(df['capacity_mw'])"
   ]
  },
  {
   "cell_type": "markdown",
   "id": "e803793d",
   "metadata": {},
   "source": [
    "As we can observe from the above plot that data is not a normally distibuted data.skewness is present."
   ]
  },
  {
   "cell_type": "code",
   "execution_count": 28,
   "id": "0757ccd5",
   "metadata": {},
   "outputs": [
    {
     "data": {
      "text/plain": [
       "<AxesSubplot:xlabel='latitude', ylabel='Density'>"
      ]
     },
     "execution_count": 28,
     "metadata": {},
     "output_type": "execute_result"
    },
    {
     "data": {
      "image/png": "[encoded data removed]",
      "text/plain": [
       "<Figure size 432x288 with 1 Axes>"
      ]
     },
     "metadata": {
      "needs_background": "light"
     },
     "output_type": "display_data"
    }
   ],
   "source": [
    "sns.distplot(df['latitude'])"
   ]
  },
  {
   "cell_type": "markdown",
   "id": "28cedbdc",
   "metadata": {},
   "source": [
    "As we can observe from the above plot that data is not a normally distibuted data.skewness is present."
   ]
  },
  {
   "cell_type": "code",
   "execution_count": 29,
   "id": "a9d46cdd",
   "metadata": {},
   "outputs": [
    {
     "data": {
      "text/plain": [
       "<AxesSubplot:xlabel='longitude', ylabel='Density'>"
      ]
     },
     "execution_count": 29,
     "metadata": {},
     "output_type": "execute_result"
    },
    {
     "data": {
      "image/png": "[encoded data removed]",
      "text/plain": [
       "<Figure size 432x288 with 1 Axes>"
      ]
     },
     "metadata": {
      "needs_background": "light"
     },
     "output_type": "display_data"
    }
   ],
   "source": [
    "sns.distplot(df['longitude'])"
   ]
  },
  {
   "cell_type": "markdown",
   "id": "fe5fc0b5",
   "metadata": {},
   "source": [
    "It is we can say a normally distributed data."
   ]
  },
  {
   "cell_type": "code",
   "execution_count": 30,
   "id": "85216714",
   "metadata": {},
   "outputs": [
    {
     "data": {
      "text/plain": [
       "<AxesSubplot:xlabel='commissioning_year', ylabel='Density'>"
      ]
     },
     "execution_count": 30,
     "metadata": {},
     "output_type": "execute_result"
    },
    {
     "data": {
      "image/png": "[encoded data removed]",
      "text/plain": [
       "<Figure size 432x288 with 1 Axes>"
      ]
     },
     "metadata": {
      "needs_background": "light"
     },
     "output_type": "display_data"
    }
   ],
   "source": [
    "sns.distplot(df['commissioning_year'])"
   ]
  },
  {
   "cell_type": "markdown",
   "id": "459c9253",
   "metadata": {},
   "source": [
    "As we can see from the above plot that this data is a left skewed data and it is also not a normally distributed data."
   ]
  },
  {
   "cell_type": "code",
   "execution_count": 31,
   "id": "c841df3c",
   "metadata": {},
   "outputs": [
    {
     "data": {
      "text/html": [
       "<div>\n",
       "<style scoped>\n",
       "    .dataframe tbody tr th:only-of-type {\n",
       "        vertical-align: middle;\n",
       "    }\n",
       "\n",
       "    .dataframe tbody tr th {\n",
       "        vertical-align: top;\n",
       "    }\n",
       "\n",
       "    .dataframe thead th {\n",
       "        text-align: right;\n",
       "    }\n",
       "</style>\n",
       "<table border=\"1\" class=\"dataframe\">\n",
       "  <thead>\n",
       "    <tr style=\"text-align: right;\">\n",
       "      <th></th>\n",
       "      <th>country</th>\n",
       "      <th>name</th>\n",
       "      <th>gppd_idnr</th>\n",
       "      <th>capacity_mw</th>\n",
       "      <th>latitude</th>\n",
       "      <th>longitude</th>\n",
       "      <th>primary_fuel</th>\n",
       "      <th>commissioning_year</th>\n",
       "      <th>owner</th>\n",
       "      <th>source</th>\n",
       "      <th>url</th>\n",
       "      <th>geolocation_source</th>\n",
       "      <th>generation_gwh_2014</th>\n",
       "      <th>generation_gwh_2015</th>\n",
       "      <th>generation_gwh_2016</th>\n",
       "      <th>generation_gwh_2017</th>\n",
       "      <th>generation_gwh_2018</th>\n",
       "      <th>generation_data_source</th>\n",
       "    </tr>\n",
       "  </thead>\n",
       "  <tbody>\n",
       "    <tr>\n",
       "      <th>0</th>\n",
       "      <td>0</td>\n",
       "      <td>0</td>\n",
       "      <td>657</td>\n",
       "      <td>9</td>\n",
       "      <td>28.1839</td>\n",
       "      <td>73.2407</td>\n",
       "      <td>6</td>\n",
       "      <td>2011.0</td>\n",
       "      <td>229</td>\n",
       "      <td>109</td>\n",
       "      <td>128</td>\n",
       "      <td>1</td>\n",
       "      <td>0.000000</td>\n",
       "      <td>0.000</td>\n",
       "      <td>0.000000</td>\n",
       "      <td>0.000000</td>\n",
       "      <td>0.000000</td>\n",
       "      <td>1</td>\n",
       "    </tr>\n",
       "    <tr>\n",
       "      <th>1</th>\n",
       "      <td>0</td>\n",
       "      <td>1</td>\n",
       "      <td>519</td>\n",
       "      <td>177</td>\n",
       "      <td>24.7663</td>\n",
       "      <td>74.6090</td>\n",
       "      <td>1</td>\n",
       "      <td>0.0</td>\n",
       "      <td>258</td>\n",
       "      <td>174</td>\n",
       "      <td>173</td>\n",
       "      <td>2</td>\n",
       "      <td>0.000000</td>\n",
       "      <td>0.000</td>\n",
       "      <td>0.000000</td>\n",
       "      <td>0.000000</td>\n",
       "      <td>0.000000</td>\n",
       "      <td>1</td>\n",
       "    </tr>\n",
       "    <tr>\n",
       "      <th>2</th>\n",
       "      <td>0</td>\n",
       "      <td>2</td>\n",
       "      <td>853</td>\n",
       "      <td>121</td>\n",
       "      <td>21.9038</td>\n",
       "      <td>69.3732</td>\n",
       "      <td>7</td>\n",
       "      <td>0.0</td>\n",
       "      <td>2</td>\n",
       "      <td>21</td>\n",
       "      <td>205</td>\n",
       "      <td>2</td>\n",
       "      <td>0.000000</td>\n",
       "      <td>0.000</td>\n",
       "      <td>0.000000</td>\n",
       "      <td>0.000000</td>\n",
       "      <td>0.000000</td>\n",
       "      <td>1</td>\n",
       "    </tr>\n",
       "    <tr>\n",
       "      <th>3</th>\n",
       "      <td>0</td>\n",
       "      <td>3</td>\n",
       "      <td>0</td>\n",
       "      <td>200</td>\n",
       "      <td>23.8712</td>\n",
       "      <td>91.3602</td>\n",
       "      <td>2</td>\n",
       "      <td>2004.0</td>\n",
       "      <td>280</td>\n",
       "      <td>22</td>\n",
       "      <td>58</td>\n",
       "      <td>2</td>\n",
       "      <td>617.789264</td>\n",
       "      <td>843.747</td>\n",
       "      <td>886.004428</td>\n",
       "      <td>663.774500</td>\n",
       "      <td>626.239128</td>\n",
       "      <td>0</td>\n",
       "    </tr>\n",
       "    <tr>\n",
       "      <th>4</th>\n",
       "      <td>0</td>\n",
       "      <td>4</td>\n",
       "      <td>1</td>\n",
       "      <td>340</td>\n",
       "      <td>21.9603</td>\n",
       "      <td>82.4091</td>\n",
       "      <td>1</td>\n",
       "      <td>2015.0</td>\n",
       "      <td>280</td>\n",
       "      <td>22</td>\n",
       "      <td>58</td>\n",
       "      <td>2</td>\n",
       "      <td>3035.550000</td>\n",
       "      <td>5916.370</td>\n",
       "      <td>6243.000000</td>\n",
       "      <td>5385.579736</td>\n",
       "      <td>7279.000000</td>\n",
       "      <td>0</td>\n",
       "    </tr>\n",
       "  </tbody>\n",
       "</table>\n",
       "</div>"
      ],
      "text/plain": [
       "   country  name  gppd_idnr  capacity_mw  latitude  longitude  primary_fuel  \\\n",
       "0        0     0        657            9   28.1839    73.2407             6   \n",
       "1        0     1        519          177   24.7663    74.6090             1   \n",
       "2        0     2        853          121   21.9038    69.3732             7   \n",
       "3        0     3          0          200   23.8712    91.3602             2   \n",
       "4        0     4          1          340   21.9603    82.4091             1   \n",
       "\n",
       "   commissioning_year  owner  source  url  geolocation_source  \\\n",
       "0              2011.0    229     109  128                   1   \n",
       "1                 0.0    258     174  173                   2   \n",
       "2                 0.0      2      21  205                   2   \n",
       "3              2004.0    280      22   58                   2   \n",
       "4              2015.0    280      22   58                   2   \n",
       "\n",
       "   generation_gwh_2014  generation_gwh_2015  generation_gwh_2016  \\\n",
       "0             0.000000                0.000             0.000000   \n",
       "1             0.000000                0.000             0.000000   \n",
       "2             0.000000                0.000             0.000000   \n",
       "3           617.789264              843.747           886.004428   \n",
       "4          3035.550000             5916.370          6243.000000   \n",
       "\n",
       "   generation_gwh_2017  generation_gwh_2018  generation_data_source  \n",
       "0             0.000000             0.000000                       1  \n",
       "1             0.000000             0.000000                       1  \n",
       "2             0.000000             0.000000                       1  \n",
       "3           663.774500           626.239128                       0  \n",
       "4          5385.579736          7279.000000                       0  "
      ]
     },
     "execution_count": 31,
     "metadata": {},
     "output_type": "execute_result"
    }
   ],
   "source": [
    "df=df.fillna(value=0)\n",
    "df.head()"
   ]
  },
  {
   "cell_type": "code",
   "execution_count": 32,
   "id": "23b83de1",
   "metadata": {},
   "outputs": [
    {
     "data": {
      "text/html": [
       "<div>\n",
       "<style scoped>\n",
       "    .dataframe tbody tr th:only-of-type {\n",
       "        vertical-align: middle;\n",
       "    }\n",
       "\n",
       "    .dataframe tbody tr th {\n",
       "        vertical-align: top;\n",
       "    }\n",
       "\n",
       "    .dataframe thead th {\n",
       "        text-align: right;\n",
       "    }\n",
       "</style>\n",
       "<table border=\"1\" class=\"dataframe\">\n",
       "  <thead>\n",
       "    <tr style=\"text-align: right;\">\n",
       "      <th></th>\n",
       "      <th>country</th>\n",
       "      <th>name</th>\n",
       "      <th>gppd_idnr</th>\n",
       "      <th>capacity_mw</th>\n",
       "      <th>latitude</th>\n",
       "      <th>longitude</th>\n",
       "      <th>commissioning_year</th>\n",
       "      <th>owner</th>\n",
       "      <th>source</th>\n",
       "      <th>url</th>\n",
       "      <th>geolocation_source</th>\n",
       "      <th>generation_gwh_2014</th>\n",
       "      <th>generation_gwh_2015</th>\n",
       "      <th>generation_gwh_2016</th>\n",
       "      <th>generation_gwh_2017</th>\n",
       "      <th>generation_gwh_2018</th>\n",
       "      <th>generation_data_source</th>\n",
       "    </tr>\n",
       "  </thead>\n",
       "  <tbody>\n",
       "    <tr>\n",
       "      <th>0</th>\n",
       "      <td>0</td>\n",
       "      <td>0</td>\n",
       "      <td>657</td>\n",
       "      <td>9</td>\n",
       "      <td>28.1839</td>\n",
       "      <td>73.2407</td>\n",
       "      <td>2011.0</td>\n",
       "      <td>229</td>\n",
       "      <td>109</td>\n",
       "      <td>128</td>\n",
       "      <td>1</td>\n",
       "      <td>0.000000</td>\n",
       "      <td>0.000000</td>\n",
       "      <td>0.000000</td>\n",
       "      <td>0.000000</td>\n",
       "      <td>0.000000</td>\n",
       "      <td>1</td>\n",
       "    </tr>\n",
       "    <tr>\n",
       "      <th>1</th>\n",
       "      <td>0</td>\n",
       "      <td>1</td>\n",
       "      <td>519</td>\n",
       "      <td>177</td>\n",
       "      <td>24.7663</td>\n",
       "      <td>74.6090</td>\n",
       "      <td>0.0</td>\n",
       "      <td>258</td>\n",
       "      <td>174</td>\n",
       "      <td>173</td>\n",
       "      <td>2</td>\n",
       "      <td>0.000000</td>\n",
       "      <td>0.000000</td>\n",
       "      <td>0.000000</td>\n",
       "      <td>0.000000</td>\n",
       "      <td>0.000000</td>\n",
       "      <td>1</td>\n",
       "    </tr>\n",
       "    <tr>\n",
       "      <th>2</th>\n",
       "      <td>0</td>\n",
       "      <td>2</td>\n",
       "      <td>853</td>\n",
       "      <td>121</td>\n",
       "      <td>21.9038</td>\n",
       "      <td>69.3732</td>\n",
       "      <td>0.0</td>\n",
       "      <td>2</td>\n",
       "      <td>21</td>\n",
       "      <td>205</td>\n",
       "      <td>2</td>\n",
       "      <td>0.000000</td>\n",
       "      <td>0.000000</td>\n",
       "      <td>0.000000</td>\n",
       "      <td>0.000000</td>\n",
       "      <td>0.000000</td>\n",
       "      <td>1</td>\n",
       "    </tr>\n",
       "    <tr>\n",
       "      <th>3</th>\n",
       "      <td>0</td>\n",
       "      <td>3</td>\n",
       "      <td>0</td>\n",
       "      <td>200</td>\n",
       "      <td>23.8712</td>\n",
       "      <td>91.3602</td>\n",
       "      <td>2004.0</td>\n",
       "      <td>280</td>\n",
       "      <td>22</td>\n",
       "      <td>58</td>\n",
       "      <td>2</td>\n",
       "      <td>617.789264</td>\n",
       "      <td>843.747000</td>\n",
       "      <td>886.004428</td>\n",
       "      <td>663.774500</td>\n",
       "      <td>626.239128</td>\n",
       "      <td>0</td>\n",
       "    </tr>\n",
       "    <tr>\n",
       "      <th>4</th>\n",
       "      <td>0</td>\n",
       "      <td>4</td>\n",
       "      <td>1</td>\n",
       "      <td>340</td>\n",
       "      <td>21.9603</td>\n",
       "      <td>82.4091</td>\n",
       "      <td>2015.0</td>\n",
       "      <td>280</td>\n",
       "      <td>22</td>\n",
       "      <td>58</td>\n",
       "      <td>2</td>\n",
       "      <td>3035.550000</td>\n",
       "      <td>5916.370000</td>\n",
       "      <td>6243.000000</td>\n",
       "      <td>5385.579736</td>\n",
       "      <td>7279.000000</td>\n",
       "      <td>0</td>\n",
       "    </tr>\n",
       "    <tr>\n",
       "      <th>...</th>\n",
       "      <td>...</td>\n",
       "      <td>...</td>\n",
       "      <td>...</td>\n",
       "      <td>...</td>\n",
       "      <td>...</td>\n",
       "      <td>...</td>\n",
       "      <td>...</td>\n",
       "      <td>...</td>\n",
       "      <td>...</td>\n",
       "      <td>...</td>\n",
       "      <td>...</td>\n",
       "      <td>...</td>\n",
       "      <td>...</td>\n",
       "      <td>...</td>\n",
       "      <td>...</td>\n",
       "      <td>...</td>\n",
       "      <td>...</td>\n",
       "    </tr>\n",
       "    <tr>\n",
       "      <th>902</th>\n",
       "      <td>0</td>\n",
       "      <td>902</td>\n",
       "      <td>491</td>\n",
       "      <td>336</td>\n",
       "      <td>16.2949</td>\n",
       "      <td>77.3568</td>\n",
       "      <td>2016.0</td>\n",
       "      <td>280</td>\n",
       "      <td>22</td>\n",
       "      <td>58</td>\n",
       "      <td>2</td>\n",
       "      <td>0.000000</td>\n",
       "      <td>0.994875</td>\n",
       "      <td>233.596650</td>\n",
       "      <td>865.400000</td>\n",
       "      <td>686.500000</td>\n",
       "      <td>0</td>\n",
       "    </tr>\n",
       "    <tr>\n",
       "      <th>903</th>\n",
       "      <td>0</td>\n",
       "      <td>903</td>\n",
       "      <td>822</td>\n",
       "      <td>10</td>\n",
       "      <td>12.8932</td>\n",
       "      <td>78.1654</td>\n",
       "      <td>0.0</td>\n",
       "      <td>114</td>\n",
       "      <td>77</td>\n",
       "      <td>22</td>\n",
       "      <td>0</td>\n",
       "      <td>0.000000</td>\n",
       "      <td>0.000000</td>\n",
       "      <td>0.000000</td>\n",
       "      <td>0.000000</td>\n",
       "      <td>0.000000</td>\n",
       "      <td>1</td>\n",
       "    </tr>\n",
       "    <tr>\n",
       "      <th>904</th>\n",
       "      <td>0</td>\n",
       "      <td>904</td>\n",
       "      <td>891</td>\n",
       "      <td>81</td>\n",
       "      <td>15.2758</td>\n",
       "      <td>75.5811</td>\n",
       "      <td>0.0</td>\n",
       "      <td>280</td>\n",
       "      <td>21</td>\n",
       "      <td>260</td>\n",
       "      <td>2</td>\n",
       "      <td>0.000000</td>\n",
       "      <td>0.000000</td>\n",
       "      <td>0.000000</td>\n",
       "      <td>0.000000</td>\n",
       "      <td>0.000000</td>\n",
       "      <td>1</td>\n",
       "    </tr>\n",
       "    <tr>\n",
       "      <th>905</th>\n",
       "      <td>0</td>\n",
       "      <td>905</td>\n",
       "      <td>539</td>\n",
       "      <td>167</td>\n",
       "      <td>24.3500</td>\n",
       "      <td>73.7477</td>\n",
       "      <td>0.0</td>\n",
       "      <td>91</td>\n",
       "      <td>59</td>\n",
       "      <td>82</td>\n",
       "      <td>2</td>\n",
       "      <td>0.000000</td>\n",
       "      <td>0.000000</td>\n",
       "      <td>0.000000</td>\n",
       "      <td>0.000000</td>\n",
       "      <td>0.000000</td>\n",
       "      <td>1</td>\n",
       "    </tr>\n",
       "    <tr>\n",
       "      <th>906</th>\n",
       "      <td>0</td>\n",
       "      <td>906</td>\n",
       "      <td>876</td>\n",
       "      <td>56</td>\n",
       "      <td>9.9344</td>\n",
       "      <td>77.4768</td>\n",
       "      <td>0.0</td>\n",
       "      <td>279</td>\n",
       "      <td>21</td>\n",
       "      <td>245</td>\n",
       "      <td>2</td>\n",
       "      <td>0.000000</td>\n",
       "      <td>0.000000</td>\n",
       "      <td>0.000000</td>\n",
       "      <td>0.000000</td>\n",
       "      <td>0.000000</td>\n",
       "      <td>1</td>\n",
       "    </tr>\n",
       "  </tbody>\n",
       "</table>\n",
       "<p>907 rows × 17 columns</p>\n",
       "</div>"
      ],
      "text/plain": [
       "     country  name  gppd_idnr  capacity_mw  latitude  longitude  \\\n",
       "0          0     0        657            9   28.1839    73.2407   \n",
       "1          0     1        519          177   24.7663    74.6090   \n",
       "2          0     2        853          121   21.9038    69.3732   \n",
       "3          0     3          0          200   23.8712    91.3602   \n",
       "4          0     4          1          340   21.9603    82.4091   \n",
       "..       ...   ...        ...          ...       ...        ...   \n",
       "902        0   902        491          336   16.2949    77.3568   \n",
       "903        0   903        822           10   12.8932    78.1654   \n",
       "904        0   904        891           81   15.2758    75.5811   \n",
       "905        0   905        539          167   24.3500    73.7477   \n",
       "906        0   906        876           56    9.9344    77.4768   \n",
       "\n",
       "     commissioning_year  owner  source  url  geolocation_source  \\\n",
       "0                2011.0    229     109  128                   1   \n",
       "1                   0.0    258     174  173                   2   \n",
       "2                   0.0      2      21  205                   2   \n",
       "3                2004.0    280      22   58                   2   \n",
       "4                2015.0    280      22   58                   2   \n",
       "..                  ...    ...     ...  ...                 ...   \n",
       "902              2016.0    280      22   58                   2   \n",
       "903                 0.0    114      77   22                   0   \n",
       "904                 0.0    280      21  260                   2   \n",
       "905                 0.0     91      59   82                   2   \n",
       "906                 0.0    279      21  245                   2   \n",
       "\n",
       "     generation_gwh_2014  generation_gwh_2015  generation_gwh_2016  \\\n",
       "0               0.000000             0.000000             0.000000   \n",
       "1               0.000000             0.000000             0.000000   \n",
       "2               0.000000             0.000000             0.000000   \n",
       "3             617.789264           843.747000           886.004428   \n",
       "4            3035.550000          5916.370000          6243.000000   \n",
       "..                   ...                  ...                  ...   \n",
       "902             0.000000             0.994875           233.596650   \n",
       "903             0.000000             0.000000             0.000000   \n",
       "904             0.000000             0.000000             0.000000   \n",
       "905             0.000000             0.000000             0.000000   \n",
       "906             0.000000             0.000000             0.000000   \n",
       "\n",
       "     generation_gwh_2017  generation_gwh_2018  generation_data_source  \n",
       "0               0.000000             0.000000                       1  \n",
       "1               0.000000             0.000000                       1  \n",
       "2               0.000000             0.000000                       1  \n",
       "3             663.774500           626.239128                       0  \n",
       "4            5385.579736          7279.000000                       0  \n",
       "..                   ...                  ...                     ...  \n",
       "902           865.400000           686.500000                       0  \n",
       "903             0.000000             0.000000                       1  \n",
       "904             0.000000             0.000000                       1  \n",
       "905             0.000000             0.000000                       1  \n",
       "906             0.000000             0.000000                       1  \n",
       "\n",
       "[907 rows x 17 columns]"
      ]
     },
     "execution_count": 32,
     "metadata": {},
     "output_type": "execute_result"
    }
   ],
   "source": [
    "#Splitting the independent variables and target\n",
    "x=df.drop('primary_fuel',axis=1)\n",
    "x"
   ]
  },
  {
   "cell_type": "code",
   "execution_count": 33,
   "id": "f3beb433",
   "metadata": {},
   "outputs": [
    {
     "data": {
      "text/plain": [
       "array([6, 1, 7, 2, 3, 0, 5, 4])"
      ]
     },
     "execution_count": 33,
     "metadata": {},
     "output_type": "execute_result"
    }
   ],
   "source": [
    "df['primary_fuel'].unique()"
   ]
  },
  {
   "cell_type": "code",
   "execution_count": 34,
   "id": "cfb5f799",
   "metadata": {},
   "outputs": [
    {
     "data": {
      "text/plain": [
       "0      6\n",
       "1      1\n",
       "2      7\n",
       "3      2\n",
       "4      1\n",
       "      ..\n",
       "902    1\n",
       "903    6\n",
       "904    7\n",
       "905    1\n",
       "906    7\n",
       "Name: primary_fuel, Length: 907, dtype: int64"
      ]
     },
     "execution_count": 34,
     "metadata": {},
     "output_type": "execute_result"
    }
   ],
   "source": [
    "y=df['primary_fuel']\n",
    "y"
   ]
  },
  {
   "cell_type": "code",
   "execution_count": 35,
   "id": "ecf62687",
   "metadata": {},
   "outputs": [
    {
     "data": {
      "text/plain": [
       "generation_gwh_2015       5.260778\n",
       "generation_gwh_2014       4.986588\n",
       "generation_gwh_2016       4.984874\n",
       "generation_gwh_2017       4.979870\n",
       "generation_gwh_2018       4.846091\n",
       "source                    1.827373\n",
       "url                       1.510537\n",
       "capacity_mw               0.240003\n",
       "country                   0.000000\n",
       "name                      0.000000\n",
       "gppd_idnr                 0.000000\n",
       "generation_data_source   -0.019880\n",
       "commissioning_year       -0.328505\n",
       "latitude                 -0.730074\n",
       "owner                    -1.373940\n",
       "geolocation_source       -1.920302\n",
       "longitude                -3.581827\n",
       "dtype: float64"
      ]
     },
     "execution_count": 35,
     "metadata": {},
     "output_type": "execute_result"
    }
   ],
   "source": [
    "from scipy.stats import skew\n",
    "from sklearn.preprocessing import power_transform\n",
    "x.skew().sort_values(ascending=False)"
   ]
  },
  {
   "cell_type": "code",
   "execution_count": 36,
   "id": "8b40828e",
   "metadata": {},
   "outputs": [
    {
     "data": {
      "text/plain": [
       "numpy.ndarray"
      ]
     },
     "execution_count": 36,
     "metadata": {},
     "output_type": "execute_result"
    }
   ],
   "source": [
    "x_new=power_transform(x)\n",
    "type(x_new)"
   ]
  },
  {
   "cell_type": "code",
   "execution_count": 37,
   "id": "b10149cd",
   "metadata": {},
   "outputs": [
    {
     "data": {
      "text/html": [
       "<div>\n",
       "<style scoped>\n",
       "    .dataframe tbody tr th:only-of-type {\n",
       "        vertical-align: middle;\n",
       "    }\n",
       "\n",
       "    .dataframe tbody tr th {\n",
       "        vertical-align: top;\n",
       "    }\n",
       "\n",
       "    .dataframe thead th {\n",
       "        text-align: right;\n",
       "    }\n",
       "</style>\n",
       "<table border=\"1\" class=\"dataframe\">\n",
       "  <thead>\n",
       "    <tr style=\"text-align: right;\">\n",
       "      <th></th>\n",
       "      <th>country</th>\n",
       "      <th>name</th>\n",
       "      <th>gppd_idnr</th>\n",
       "      <th>capacity_mw</th>\n",
       "      <th>latitude</th>\n",
       "      <th>longitude</th>\n",
       "      <th>commissioning_year</th>\n",
       "      <th>owner</th>\n",
       "      <th>source</th>\n",
       "      <th>url</th>\n",
       "      <th>geolocation_source</th>\n",
       "      <th>generation_gwh_2014</th>\n",
       "      <th>generation_gwh_2015</th>\n",
       "      <th>generation_gwh_2016</th>\n",
       "      <th>generation_gwh_2017</th>\n",
       "      <th>generation_gwh_2018</th>\n",
       "      <th>generation_data_source</th>\n",
       "    </tr>\n",
       "  </thead>\n",
       "  <tbody>\n",
       "    <tr>\n",
       "      <th>0</th>\n",
       "      <td>0.0</td>\n",
       "      <td>-2.165615</td>\n",
       "      <td>0.790633</td>\n",
       "      <td>-1.719037</td>\n",
       "      <td>1.115167</td>\n",
       "      <td>-0.326393</td>\n",
       "      <td>0.852078</td>\n",
       "      <td>-0.232283</td>\n",
       "      <td>1.582861</td>\n",
       "      <td>0.759357</td>\n",
       "      <td>-1.550925</td>\n",
       "      <td>-0.813809</td>\n",
       "      <td>-0.853614</td>\n",
       "      <td>-0.872976</td>\n",
       "      <td>-0.878131</td>\n",
       "      <td>-0.883788</td>\n",
       "      <td>0.990126</td>\n",
       "    </tr>\n",
       "    <tr>\n",
       "      <th>1</th>\n",
       "      <td>0.0</td>\n",
       "      <td>-2.146630</td>\n",
       "      <td>0.331335</td>\n",
       "      <td>0.355492</td>\n",
       "      <td>0.600229</td>\n",
       "      <td>-0.175387</td>\n",
       "      <td>-1.177638</td>\n",
       "      <td>0.262001</td>\n",
       "      <td>2.036658</td>\n",
       "      <td>1.238398</td>\n",
       "      <td>0.244573</td>\n",
       "      <td>-0.813809</td>\n",
       "      <td>-0.853614</td>\n",
       "      <td>-0.872976</td>\n",
       "      <td>-0.878131</td>\n",
       "      <td>-0.883788</td>\n",
       "      <td>0.990126</td>\n",
       "    </tr>\n",
       "    <tr>\n",
       "      <th>2</th>\n",
       "      <td>0.0</td>\n",
       "      <td>-2.130340</td>\n",
       "      <td>1.397466</td>\n",
       "      <td>-0.125820</td>\n",
       "      <td>0.184311</td>\n",
       "      <td>-0.729750</td>\n",
       "      <td>-1.177638</td>\n",
       "      <td>-2.008703</td>\n",
       "      <td>-0.471879</td>\n",
       "      <td>1.516759</td>\n",
       "      <td>0.244573</td>\n",
       "      <td>-0.813809</td>\n",
       "      <td>-0.853614</td>\n",
       "      <td>-0.872976</td>\n",
       "      <td>-0.878131</td>\n",
       "      <td>-0.883788</td>\n",
       "      <td>0.990126</td>\n",
       "    </tr>\n",
       "    <tr>\n",
       "      <th>3</th>\n",
       "      <td>0.0</td>\n",
       "      <td>-2.115584</td>\n",
       "      <td>-2.165615</td>\n",
       "      <td>0.531995</td>\n",
       "      <td>0.468605</td>\n",
       "      <td>2.045228</td>\n",
       "      <td>0.850614</td>\n",
       "      <td>0.678838</td>\n",
       "      <td>-0.403248</td>\n",
       "      <td>-0.410584</td>\n",
       "      <td>0.244573</td>\n",
       "      <td>1.174182</td>\n",
       "      <td>1.168585</td>\n",
       "      <td>1.140233</td>\n",
       "      <td>1.069326</td>\n",
       "      <td>1.038383</td>\n",
       "      <td>-1.009973</td>\n",
       "    </tr>\n",
       "    <tr>\n",
       "      <th>4</th>\n",
       "      <td>0.0</td>\n",
       "      <td>-2.101875</td>\n",
       "      <td>-2.146630</td>\n",
       "      <td>1.447124</td>\n",
       "      <td>0.192377</td>\n",
       "      <td>0.771157</td>\n",
       "      <td>0.852912</td>\n",
       "      <td>0.678838</td>\n",
       "      <td>-0.403248</td>\n",
       "      <td>-0.410584</td>\n",
       "      <td>0.244573</td>\n",
       "      <td>1.380682</td>\n",
       "      <td>1.432242</td>\n",
       "      <td>1.423083</td>\n",
       "      <td>1.390376</td>\n",
       "      <td>1.420200</td>\n",
       "      <td>-1.009973</td>\n",
       "    </tr>\n",
       "    <tr>\n",
       "      <th>...</th>\n",
       "      <td>...</td>\n",
       "      <td>...</td>\n",
       "      <td>...</td>\n",
       "      <td>...</td>\n",
       "      <td>...</td>\n",
       "      <td>...</td>\n",
       "      <td>...</td>\n",
       "      <td>...</td>\n",
       "      <td>...</td>\n",
       "      <td>...</td>\n",
       "      <td>...</td>\n",
       "      <td>...</td>\n",
       "      <td>...</td>\n",
       "      <td>...</td>\n",
       "      <td>...</td>\n",
       "      <td>...</td>\n",
       "      <td>...</td>\n",
       "    </tr>\n",
       "    <tr>\n",
       "      <th>902</th>\n",
       "      <td>0.0</td>\n",
       "      <td>1.542553</td>\n",
       "      <td>0.234021</td>\n",
       "      <td>1.423770</td>\n",
       "      <td>-0.584878</td>\n",
       "      <td>0.141244</td>\n",
       "      <td>0.853121</td>\n",
       "      <td>0.678838</td>\n",
       "      <td>-0.403248</td>\n",
       "      <td>-0.410584</td>\n",
       "      <td>0.244573</td>\n",
       "      <td>-0.813809</td>\n",
       "      <td>-0.523935</td>\n",
       "      <td>0.892411</td>\n",
       "      <td>1.115671</td>\n",
       "      <td>1.055150</td>\n",
       "      <td>-1.009973</td>\n",
       "    </tr>\n",
       "    <tr>\n",
       "      <th>903</th>\n",
       "      <td>0.0</td>\n",
       "      <td>1.545490</td>\n",
       "      <td>1.304428</td>\n",
       "      <td>-1.689216</td>\n",
       "      <td>-1.017364</td>\n",
       "      <td>0.237866</td>\n",
       "      <td>-1.177638</td>\n",
       "      <td>-1.584945</td>\n",
       "      <td>1.211010</td>\n",
       "      <td>-1.674188</td>\n",
       "      <td>-2.154019</td>\n",
       "      <td>-0.813809</td>\n",
       "      <td>-0.853614</td>\n",
       "      <td>-0.872976</td>\n",
       "      <td>-0.878131</td>\n",
       "      <td>-0.883788</td>\n",
       "      <td>0.990126</td>\n",
       "    </tr>\n",
       "    <tr>\n",
       "      <th>904</th>\n",
       "      <td>0.0</td>\n",
       "      <td>1.548426</td>\n",
       "      <td>1.510186</td>\n",
       "      <td>-0.537990</td>\n",
       "      <td>-0.717383</td>\n",
       "      <td>-0.065426</td>\n",
       "      <td>-1.177638</td>\n",
       "      <td>0.678838</td>\n",
       "      <td>-0.471879</td>\n",
       "      <td>1.917089</td>\n",
       "      <td>0.244573</td>\n",
       "      <td>-0.813809</td>\n",
       "      <td>-0.853614</td>\n",
       "      <td>-0.872976</td>\n",
       "      <td>-0.878131</td>\n",
       "      <td>-0.883788</td>\n",
       "      <td>0.990126</td>\n",
       "    </tr>\n",
       "    <tr>\n",
       "      <th>905</th>\n",
       "      <td>0.0</td>\n",
       "      <td>1.551361</td>\n",
       "      <td>0.399915</td>\n",
       "      <td>0.275426</td>\n",
       "      <td>0.538839</td>\n",
       "      <td>-0.270952</td>\n",
       "      <td>-1.177638</td>\n",
       "      <td>-1.741610</td>\n",
       "      <td>0.904767</td>\n",
       "      <td>0.085658</td>\n",
       "      <td>0.244573</td>\n",
       "      <td>-0.813809</td>\n",
       "      <td>-0.853614</td>\n",
       "      <td>-0.872976</td>\n",
       "      <td>-0.878131</td>\n",
       "      <td>-0.883788</td>\n",
       "      <td>0.990126</td>\n",
       "    </tr>\n",
       "    <tr>\n",
       "      <th>906</th>\n",
       "      <td>0.0</td>\n",
       "      <td>1.554295</td>\n",
       "      <td>1.465861</td>\n",
       "      <td>-0.846187</td>\n",
       "      <td>-1.368683</td>\n",
       "      <td>0.155484</td>\n",
       "      <td>-1.177638</td>\n",
       "      <td>0.659104</td>\n",
       "      <td>-0.471879</td>\n",
       "      <td>1.815833</td>\n",
       "      <td>0.244573</td>\n",
       "      <td>-0.813809</td>\n",
       "      <td>-0.853614</td>\n",
       "      <td>-0.872976</td>\n",
       "      <td>-0.878131</td>\n",
       "      <td>-0.883788</td>\n",
       "      <td>0.990126</td>\n",
       "    </tr>\n",
       "  </tbody>\n",
       "</table>\n",
       "<p>907 rows × 17 columns</p>\n",
       "</div>"
      ],
      "text/plain": [
       "     country      name  gppd_idnr  capacity_mw  latitude  longitude  \\\n",
       "0        0.0 -2.165615   0.790633    -1.719037  1.115167  -0.326393   \n",
       "1        0.0 -2.146630   0.331335     0.355492  0.600229  -0.175387   \n",
       "2        0.0 -2.130340   1.397466    -0.125820  0.184311  -0.729750   \n",
       "3        0.0 -2.115584  -2.165615     0.531995  0.468605   2.045228   \n",
       "4        0.0 -2.101875  -2.146630     1.447124  0.192377   0.771157   \n",
       "..       ...       ...        ...          ...       ...        ...   \n",
       "902      0.0  1.542553   0.234021     1.423770 -0.584878   0.141244   \n",
       "903      0.0  1.545490   1.304428    -1.689216 -1.017364   0.237866   \n",
       "904      0.0  1.548426   1.510186    -0.537990 -0.717383  -0.065426   \n",
       "905      0.0  1.551361   0.399915     0.275426  0.538839  -0.270952   \n",
       "906      0.0  1.554295   1.465861    -0.846187 -1.368683   0.155484   \n",
       "\n",
       "     commissioning_year     owner    source       url  geolocation_source  \\\n",
       "0              0.852078 -0.232283  1.582861  0.759357           -1.550925   \n",
       "1             -1.177638  0.262001  2.036658  1.238398            0.244573   \n",
       "2             -1.177638 -2.008703 -0.471879  1.516759            0.244573   \n",
       "3              0.850614  0.678838 -0.403248 -0.410584            0.244573   \n",
       "4              0.852912  0.678838 -0.403248 -0.410584            0.244573   \n",
       "..                  ...       ...       ...       ...                 ...   \n",
       "902            0.853121  0.678838 -0.403248 -0.410584            0.244573   \n",
       "903           -1.177638 -1.584945  1.211010 -1.674188           -2.154019   \n",
       "904           -1.177638  0.678838 -0.471879  1.917089            0.244573   \n",
       "905           -1.177638 -1.741610  0.904767  0.085658            0.244573   \n",
       "906           -1.177638  0.659104 -0.471879  1.815833            0.244573   \n",
       "\n",
       "     generation_gwh_2014  generation_gwh_2015  generation_gwh_2016  \\\n",
       "0              -0.813809            -0.853614            -0.872976   \n",
       "1              -0.813809            -0.853614            -0.872976   \n",
       "2              -0.813809            -0.853614            -0.872976   \n",
       "3               1.174182             1.168585             1.140233   \n",
       "4               1.380682             1.432242             1.423083   \n",
       "..                   ...                  ...                  ...   \n",
       "902            -0.813809            -0.523935             0.892411   \n",
       "903            -0.813809            -0.853614            -0.872976   \n",
       "904            -0.813809            -0.853614            -0.872976   \n",
       "905            -0.813809            -0.853614            -0.872976   \n",
       "906            -0.813809            -0.853614            -0.872976   \n",
       "\n",
       "     generation_gwh_2017  generation_gwh_2018  generation_data_source  \n",
       "0              -0.878131            -0.883788                0.990126  \n",
       "1              -0.878131            -0.883788                0.990126  \n",
       "2              -0.878131            -0.883788                0.990126  \n",
       "3               1.069326             1.038383               -1.009973  \n",
       "4               1.390376             1.420200               -1.009973  \n",
       "..                   ...                  ...                     ...  \n",
       "902             1.115671             1.055150               -1.009973  \n",
       "903            -0.878131            -0.883788                0.990126  \n",
       "904            -0.878131            -0.883788                0.990126  \n",
       "905            -0.878131            -0.883788                0.990126  \n",
       "906            -0.878131            -0.883788                0.990126  \n",
       "\n",
       "[907 rows x 17 columns]"
      ]
     },
     "execution_count": 37,
     "metadata": {},
     "output_type": "execute_result"
    }
   ],
   "source": [
    "x=pd.DataFrame(x_new,columns=x.columns)\n",
    "x"
   ]
  },
  {
   "cell_type": "code",
   "execution_count": 38,
   "id": "2ddda47c",
   "metadata": {},
   "outputs": [
    {
     "data": {
      "text/plain": [
       "generation_gwh_2014       0.460708\n",
       "generation_gwh_2015       0.385627\n",
       "generation_gwh_2016       0.345864\n",
       "generation_gwh_2017       0.334327\n",
       "generation_gwh_2018       0.317200\n",
       "url                       0.064576\n",
       "country                   0.000000\n",
       "geolocation_source       -0.004464\n",
       "generation_data_source   -0.019880\n",
       "source                   -0.214066\n",
       "capacity_mw              -0.244410\n",
       "name                     -0.288179\n",
       "gppd_idnr                -0.288179\n",
       "latitude                 -0.323518\n",
       "commissioning_year       -0.329010\n",
       "owner                    -1.025314\n",
       "longitude                -1.532802\n",
       "dtype: float64"
      ]
     },
     "execution_count": 38,
     "metadata": {},
     "output_type": "execute_result"
    }
   ],
   "source": [
    "x.skew().sort_values(ascending=False)"
   ]
  },
  {
   "cell_type": "code",
   "execution_count": 39,
   "id": "18b3981c",
   "metadata": {},
   "outputs": [
    {
     "data": {
      "text/plain": [
       "country                   0.000000\n",
       "name                     -0.288179\n",
       "gppd_idnr                -0.288179\n",
       "capacity_mw              -0.244410\n",
       "latitude                 -0.323518\n",
       "longitude                -1.532802\n",
       "commissioning_year       -0.329010\n",
       "owner                    -1.025314\n",
       "source                   -0.214066\n",
       "url                       0.064576\n",
       "geolocation_source       -0.004464\n",
       "generation_gwh_2014       0.460708\n",
       "generation_gwh_2015       0.385627\n",
       "generation_gwh_2016       0.345864\n",
       "generation_gwh_2017       0.334327\n",
       "generation_gwh_2018       0.317200\n",
       "generation_data_source   -0.019880\n",
       "dtype: float64"
      ]
     },
     "execution_count": 39,
     "metadata": {},
     "output_type": "execute_result"
    }
   ],
   "source": [
    "sk=x.skew()\n",
    "sk"
   ]
  },
  {
   "cell_type": "code",
   "execution_count": 40,
   "id": "f38abd69",
   "metadata": {},
   "outputs": [
    {
     "data": {
      "text/plain": [
       "country                     int64\n",
       "name                        int64\n",
       "gppd_idnr                   int64\n",
       "capacity_mw                 int64\n",
       "latitude                  float64\n",
       "longitude                 float64\n",
       "primary_fuel                int64\n",
       "commissioning_year        float64\n",
       "owner                       int64\n",
       "source                      int64\n",
       "url                         int64\n",
       "geolocation_source          int64\n",
       "generation_gwh_2014       float64\n",
       "generation_gwh_2015       float64\n",
       "generation_gwh_2016       float64\n",
       "generation_gwh_2017       float64\n",
       "generation_gwh_2018       float64\n",
       "generation_data_source      int64\n",
       "dtype: object"
      ]
     },
     "execution_count": 40,
     "metadata": {},
     "output_type": "execute_result"
    }
   ],
   "source": [
    "df.dtypes"
   ]
  },
  {
   "cell_type": "code",
   "execution_count": 41,
   "id": "f56f1d4a",
   "metadata": {},
   "outputs": [
    {
     "data": {
      "text/plain": [
       "{'whiskers': [<matplotlib.lines.Line2D at 0x11d7f5130>,\n",
       "  <matplotlib.lines.Line2D at 0x11d7f5490>],\n",
       " 'caps': [<matplotlib.lines.Line2D at 0x11d7f57f0>,\n",
       "  <matplotlib.lines.Line2D at 0x11d7f5b50>],\n",
       " 'boxes': [<matplotlib.lines.Line2D at 0x11d7e9d90>],\n",
       " 'medians': [<matplotlib.lines.Line2D at 0x11d7f5eb0>],\n",
       " 'fliers': [<matplotlib.lines.Line2D at 0x11d801250>],\n",
       " 'means': []}"
      ]
     },
     "execution_count": 41,
     "metadata": {},
     "output_type": "execute_result"
    },
    {
     "data": {
      "image/png": "[encoded data removed]",
      "text/plain": [
       "<Figure size 432x288 with 1 Axes>"
      ]
     },
     "metadata": {
      "needs_background": "light"
     },
     "output_type": "display_data"
    }
   ],
   "source": [
    "#CHECKING OUTLIERS\n",
    "plt.boxplot(df['capacity_mw'])"
   ]
  },
  {
   "cell_type": "markdown",
   "id": "5ce33b3a",
   "metadata": {},
   "source": [
    "Observation\n",
    "\n",
    "Outliers are present"
   ]
  },
  {
   "cell_type": "code",
   "execution_count": 42,
   "id": "3c15237d",
   "metadata": {},
   "outputs": [
    {
     "data": {
      "text/plain": [
       "{'whiskers': [<matplotlib.lines.Line2D at 0x11d87d250>,\n",
       "  <matplotlib.lines.Line2D at 0x11d87d5b0>],\n",
       " 'caps': [<matplotlib.lines.Line2D at 0x11d87d910>,\n",
       "  <matplotlib.lines.Line2D at 0x11d87dc70>],\n",
       " 'boxes': [<matplotlib.lines.Line2D at 0x11d86feb0>],\n",
       " 'medians': [<matplotlib.lines.Line2D at 0x11d87dfd0>],\n",
       " 'fliers': [<matplotlib.lines.Line2D at 0x11d8e4370>],\n",
       " 'means': []}"
      ]
     },
     "execution_count": 42,
     "metadata": {},
     "output_type": "execute_result"
    },
    {
     "data": {
      "image/png": "[encoded data removed]",
      "text/plain": [
       "<Figure size 432x288 with 1 Axes>"
      ]
     },
     "metadata": {
      "needs_background": "light"
     },
     "output_type": "display_data"
    }
   ],
   "source": [
    "plt.boxplot(df['generation_gwh_2018'])"
   ]
  },
  {
   "cell_type": "code",
   "execution_count": 43,
   "id": "896f8fb5",
   "metadata": {},
   "outputs": [],
   "source": [
    "cols=['capacity_mw']\n",
    "Q1=df['capacity_mw']. quantile(0.25)\n",
    "Q3=df['capacity_mw']. quantile(0.75)\n",
    "IQR=Q3 - Q1"
   ]
  },
  {
   "cell_type": "code",
   "execution_count": 44,
   "id": "8fa19444",
   "metadata": {},
   "outputs": [],
   "source": [
    "df=df[~((df[cols]<(Q1 - 1.5 * IQR))|(df[cols]>(Q3 + 1.5 * IQR))). any(axis=1)]"
   ]
  },
  {
   "cell_type": "code",
   "execution_count": 45,
   "id": "0c9c9853",
   "metadata": {},
   "outputs": [
    {
     "data": {
      "text/html": [
       "<div>\n",
       "<style scoped>\n",
       "    .dataframe tbody tr th:only-of-type {\n",
       "        vertical-align: middle;\n",
       "    }\n",
       "\n",
       "    .dataframe tbody tr th {\n",
       "        vertical-align: top;\n",
       "    }\n",
       "\n",
       "    .dataframe thead th {\n",
       "        text-align: right;\n",
       "    }\n",
       "</style>\n",
       "<table border=\"1\" class=\"dataframe\">\n",
       "  <thead>\n",
       "    <tr style=\"text-align: right;\">\n",
       "      <th></th>\n",
       "      <th>country</th>\n",
       "      <th>name</th>\n",
       "      <th>gppd_idnr</th>\n",
       "      <th>capacity_mw</th>\n",
       "      <th>latitude</th>\n",
       "      <th>longitude</th>\n",
       "      <th>primary_fuel</th>\n",
       "      <th>commissioning_year</th>\n",
       "      <th>owner</th>\n",
       "      <th>source</th>\n",
       "      <th>url</th>\n",
       "      <th>geolocation_source</th>\n",
       "      <th>generation_gwh_2014</th>\n",
       "      <th>generation_gwh_2015</th>\n",
       "      <th>generation_gwh_2016</th>\n",
       "      <th>generation_gwh_2017</th>\n",
       "      <th>generation_gwh_2018</th>\n",
       "      <th>generation_data_source</th>\n",
       "    </tr>\n",
       "  </thead>\n",
       "  <tbody>\n",
       "    <tr>\n",
       "      <th>0</th>\n",
       "      <td>0</td>\n",
       "      <td>0</td>\n",
       "      <td>657</td>\n",
       "      <td>9</td>\n",
       "      <td>28.1839</td>\n",
       "      <td>73.2407</td>\n",
       "      <td>6</td>\n",
       "      <td>2011.0</td>\n",
       "      <td>229</td>\n",
       "      <td>109</td>\n",
       "      <td>128</td>\n",
       "      <td>1</td>\n",
       "      <td>0.000000</td>\n",
       "      <td>0.000000</td>\n",
       "      <td>0.000000</td>\n",
       "      <td>0.000000</td>\n",
       "      <td>0.000000</td>\n",
       "      <td>1</td>\n",
       "    </tr>\n",
       "    <tr>\n",
       "      <th>1</th>\n",
       "      <td>0</td>\n",
       "      <td>1</td>\n",
       "      <td>519</td>\n",
       "      <td>177</td>\n",
       "      <td>24.7663</td>\n",
       "      <td>74.6090</td>\n",
       "      <td>1</td>\n",
       "      <td>0.0</td>\n",
       "      <td>258</td>\n",
       "      <td>174</td>\n",
       "      <td>173</td>\n",
       "      <td>2</td>\n",
       "      <td>0.000000</td>\n",
       "      <td>0.000000</td>\n",
       "      <td>0.000000</td>\n",
       "      <td>0.000000</td>\n",
       "      <td>0.000000</td>\n",
       "      <td>1</td>\n",
       "    </tr>\n",
       "    <tr>\n",
       "      <th>2</th>\n",
       "      <td>0</td>\n",
       "      <td>2</td>\n",
       "      <td>853</td>\n",
       "      <td>121</td>\n",
       "      <td>21.9038</td>\n",
       "      <td>69.3732</td>\n",
       "      <td>7</td>\n",
       "      <td>0.0</td>\n",
       "      <td>2</td>\n",
       "      <td>21</td>\n",
       "      <td>205</td>\n",
       "      <td>2</td>\n",
       "      <td>0.000000</td>\n",
       "      <td>0.000000</td>\n",
       "      <td>0.000000</td>\n",
       "      <td>0.000000</td>\n",
       "      <td>0.000000</td>\n",
       "      <td>1</td>\n",
       "    </tr>\n",
       "    <tr>\n",
       "      <th>3</th>\n",
       "      <td>0</td>\n",
       "      <td>3</td>\n",
       "      <td>0</td>\n",
       "      <td>200</td>\n",
       "      <td>23.8712</td>\n",
       "      <td>91.3602</td>\n",
       "      <td>2</td>\n",
       "      <td>2004.0</td>\n",
       "      <td>280</td>\n",
       "      <td>22</td>\n",
       "      <td>58</td>\n",
       "      <td>2</td>\n",
       "      <td>617.789264</td>\n",
       "      <td>843.747000</td>\n",
       "      <td>886.004428</td>\n",
       "      <td>663.774500</td>\n",
       "      <td>626.239128</td>\n",
       "      <td>0</td>\n",
       "    </tr>\n",
       "    <tr>\n",
       "      <th>4</th>\n",
       "      <td>0</td>\n",
       "      <td>4</td>\n",
       "      <td>1</td>\n",
       "      <td>340</td>\n",
       "      <td>21.9603</td>\n",
       "      <td>82.4091</td>\n",
       "      <td>1</td>\n",
       "      <td>2015.0</td>\n",
       "      <td>280</td>\n",
       "      <td>22</td>\n",
       "      <td>58</td>\n",
       "      <td>2</td>\n",
       "      <td>3035.550000</td>\n",
       "      <td>5916.370000</td>\n",
       "      <td>6243.000000</td>\n",
       "      <td>5385.579736</td>\n",
       "      <td>7279.000000</td>\n",
       "      <td>0</td>\n",
       "    </tr>\n",
       "    <tr>\n",
       "      <th>...</th>\n",
       "      <td>...</td>\n",
       "      <td>...</td>\n",
       "      <td>...</td>\n",
       "      <td>...</td>\n",
       "      <td>...</td>\n",
       "      <td>...</td>\n",
       "      <td>...</td>\n",
       "      <td>...</td>\n",
       "      <td>...</td>\n",
       "      <td>...</td>\n",
       "      <td>...</td>\n",
       "      <td>...</td>\n",
       "      <td>...</td>\n",
       "      <td>...</td>\n",
       "      <td>...</td>\n",
       "      <td>...</td>\n",
       "      <td>...</td>\n",
       "      <td>...</td>\n",
       "    </tr>\n",
       "    <tr>\n",
       "      <th>902</th>\n",
       "      <td>0</td>\n",
       "      <td>902</td>\n",
       "      <td>491</td>\n",
       "      <td>336</td>\n",
       "      <td>16.2949</td>\n",
       "      <td>77.3568</td>\n",
       "      <td>1</td>\n",
       "      <td>2016.0</td>\n",
       "      <td>280</td>\n",
       "      <td>22</td>\n",
       "      <td>58</td>\n",
       "      <td>2</td>\n",
       "      <td>0.000000</td>\n",
       "      <td>0.994875</td>\n",
       "      <td>233.596650</td>\n",
       "      <td>865.400000</td>\n",
       "      <td>686.500000</td>\n",
       "      <td>0</td>\n",
       "    </tr>\n",
       "    <tr>\n",
       "      <th>903</th>\n",
       "      <td>0</td>\n",
       "      <td>903</td>\n",
       "      <td>822</td>\n",
       "      <td>10</td>\n",
       "      <td>12.8932</td>\n",
       "      <td>78.1654</td>\n",
       "      <td>6</td>\n",
       "      <td>0.0</td>\n",
       "      <td>114</td>\n",
       "      <td>77</td>\n",
       "      <td>22</td>\n",
       "      <td>0</td>\n",
       "      <td>0.000000</td>\n",
       "      <td>0.000000</td>\n",
       "      <td>0.000000</td>\n",
       "      <td>0.000000</td>\n",
       "      <td>0.000000</td>\n",
       "      <td>1</td>\n",
       "    </tr>\n",
       "    <tr>\n",
       "      <th>904</th>\n",
       "      <td>0</td>\n",
       "      <td>904</td>\n",
       "      <td>891</td>\n",
       "      <td>81</td>\n",
       "      <td>15.2758</td>\n",
       "      <td>75.5811</td>\n",
       "      <td>7</td>\n",
       "      <td>0.0</td>\n",
       "      <td>280</td>\n",
       "      <td>21</td>\n",
       "      <td>260</td>\n",
       "      <td>2</td>\n",
       "      <td>0.000000</td>\n",
       "      <td>0.000000</td>\n",
       "      <td>0.000000</td>\n",
       "      <td>0.000000</td>\n",
       "      <td>0.000000</td>\n",
       "      <td>1</td>\n",
       "    </tr>\n",
       "    <tr>\n",
       "      <th>905</th>\n",
       "      <td>0</td>\n",
       "      <td>905</td>\n",
       "      <td>539</td>\n",
       "      <td>167</td>\n",
       "      <td>24.3500</td>\n",
       "      <td>73.7477</td>\n",
       "      <td>1</td>\n",
       "      <td>0.0</td>\n",
       "      <td>91</td>\n",
       "      <td>59</td>\n",
       "      <td>82</td>\n",
       "      <td>2</td>\n",
       "      <td>0.000000</td>\n",
       "      <td>0.000000</td>\n",
       "      <td>0.000000</td>\n",
       "      <td>0.000000</td>\n",
       "      <td>0.000000</td>\n",
       "      <td>1</td>\n",
       "    </tr>\n",
       "    <tr>\n",
       "      <th>906</th>\n",
       "      <td>0</td>\n",
       "      <td>906</td>\n",
       "      <td>876</td>\n",
       "      <td>56</td>\n",
       "      <td>9.9344</td>\n",
       "      <td>77.4768</td>\n",
       "      <td>7</td>\n",
       "      <td>0.0</td>\n",
       "      <td>279</td>\n",
       "      <td>21</td>\n",
       "      <td>245</td>\n",
       "      <td>2</td>\n",
       "      <td>0.000000</td>\n",
       "      <td>0.000000</td>\n",
       "      <td>0.000000</td>\n",
       "      <td>0.000000</td>\n",
       "      <td>0.000000</td>\n",
       "      <td>1</td>\n",
       "    </tr>\n",
       "  </tbody>\n",
       "</table>\n",
       "<p>907 rows × 18 columns</p>\n",
       "</div>"
      ],
      "text/plain": [
       "     country  name  gppd_idnr  capacity_mw  latitude  longitude  primary_fuel  \\\n",
       "0          0     0        657            9   28.1839    73.2407             6   \n",
       "1          0     1        519          177   24.7663    74.6090             1   \n",
       "2          0     2        853          121   21.9038    69.3732             7   \n",
       "3          0     3          0          200   23.8712    91.3602             2   \n",
       "4          0     4          1          340   21.9603    82.4091             1   \n",
       "..       ...   ...        ...          ...       ...        ...           ...   \n",
       "902        0   902        491          336   16.2949    77.3568             1   \n",
       "903        0   903        822           10   12.8932    78.1654             6   \n",
       "904        0   904        891           81   15.2758    75.5811             7   \n",
       "905        0   905        539          167   24.3500    73.7477             1   \n",
       "906        0   906        876           56    9.9344    77.4768             7   \n",
       "\n",
       "     commissioning_year  owner  source  url  geolocation_source  \\\n",
       "0                2011.0    229     109  128                   1   \n",
       "1                   0.0    258     174  173                   2   \n",
       "2                   0.0      2      21  205                   2   \n",
       "3                2004.0    280      22   58                   2   \n",
       "4                2015.0    280      22   58                   2   \n",
       "..                  ...    ...     ...  ...                 ...   \n",
       "902              2016.0    280      22   58                   2   \n",
       "903                 0.0    114      77   22                   0   \n",
       "904                 0.0    280      21  260                   2   \n",
       "905                 0.0     91      59   82                   2   \n",
       "906                 0.0    279      21  245                   2   \n",
       "\n",
       "     generation_gwh_2014  generation_gwh_2015  generation_gwh_2016  \\\n",
       "0               0.000000             0.000000             0.000000   \n",
       "1               0.000000             0.000000             0.000000   \n",
       "2               0.000000             0.000000             0.000000   \n",
       "3             617.789264           843.747000           886.004428   \n",
       "4            3035.550000          5916.370000          6243.000000   \n",
       "..                   ...                  ...                  ...   \n",
       "902             0.000000             0.994875           233.596650   \n",
       "903             0.000000             0.000000             0.000000   \n",
       "904             0.000000             0.000000             0.000000   \n",
       "905             0.000000             0.000000             0.000000   \n",
       "906             0.000000             0.000000             0.000000   \n",
       "\n",
       "     generation_gwh_2017  generation_gwh_2018  generation_data_source  \n",
       "0               0.000000             0.000000                       1  \n",
       "1               0.000000             0.000000                       1  \n",
       "2               0.000000             0.000000                       1  \n",
       "3             663.774500           626.239128                       0  \n",
       "4            5385.579736          7279.000000                       0  \n",
       "..                   ...                  ...                     ...  \n",
       "902           865.400000           686.500000                       0  \n",
       "903             0.000000             0.000000                       1  \n",
       "904             0.000000             0.000000                       1  \n",
       "905             0.000000             0.000000                       1  \n",
       "906             0.000000             0.000000                       1  \n",
       "\n",
       "[907 rows x 18 columns]"
      ]
     },
     "execution_count": 45,
     "metadata": {},
     "output_type": "execute_result"
    }
   ],
   "source": [
    "df"
   ]
  },
  {
   "cell_type": "code",
   "execution_count": 46,
   "id": "2c0c6004",
   "metadata": {},
   "outputs": [],
   "source": [
    "from statsmodels.stats.outliers_influence import variance_inflation_factor"
   ]
  },
  {
   "cell_type": "code",
   "execution_count": 47,
   "id": "4e6b863b",
   "metadata": {},
   "outputs": [],
   "source": [
    "def var_calc():\n",
    "    vif=pd.DataFrame()\n",
    "    vif['VIF Factor']=[variance_inflation_factor(x.values,i) for i in range(x.shape[1])]\n",
    "    vif['features']=x.columns\n",
    "    print(vif)"
   ]
  },
  {
   "cell_type": "code",
   "execution_count": 48,
   "id": "e0b04504",
   "metadata": {},
   "outputs": [
    {
     "name": "stdout",
     "output_type": "stream",
     "text": [
      "    VIF Factor                features\n",
      "0          NaN                 country\n",
      "1     2.144948                    name\n",
      "2     6.951241               gppd_idnr\n",
      "3     3.300769             capacity_mw\n",
      "4     1.442138                latitude\n",
      "5     1.476585               longitude\n",
      "6     8.182637      commissioning_year\n",
      "7     3.015889                   owner\n",
      "8     1.345037                  source\n",
      "9     1.711269                     url\n",
      "10    1.754385      geolocation_source\n",
      "11    7.732094     generation_gwh_2014\n",
      "12   16.690779     generation_gwh_2015\n",
      "13   23.955900     generation_gwh_2016\n",
      "14   36.007360     generation_gwh_2017\n",
      "15   27.639327     generation_gwh_2018\n",
      "16    9.052921  generation_data_source\n"
     ]
    }
   ],
   "source": [
    "var_calc()"
   ]
  },
  {
   "cell_type": "code",
   "execution_count": 49,
   "id": "be039405",
   "metadata": {},
   "outputs": [
    {
     "data": {
      "text/plain": [
       "country                   0\n",
       "name                      0\n",
       "gppd_idnr                 0\n",
       "capacity_mw               0\n",
       "latitude                  0\n",
       "longitude                 0\n",
       "primary_fuel              0\n",
       "commissioning_year        0\n",
       "owner                     0\n",
       "source                    0\n",
       "url                       0\n",
       "geolocation_source        0\n",
       "generation_gwh_2014       0\n",
       "generation_gwh_2015       0\n",
       "generation_gwh_2016       0\n",
       "generation_gwh_2017       0\n",
       "generation_gwh_2018       0\n",
       "generation_data_source    0\n",
       "dtype: int64"
      ]
     },
     "execution_count": 49,
     "metadata": {},
     "output_type": "execute_result"
    }
   ],
   "source": [
    "df.isnull().sum()"
   ]
  },
  {
   "cell_type": "code",
   "execution_count": 50,
   "id": "61bf88c3",
   "metadata": {},
   "outputs": [],
   "source": [
    "from sklearn.model_selection import train_test_split\n",
    "from sklearn.linear_model import LogisticRegression\n",
    "from sklearn.ensemble import RandomForestClassifier\n",
    "from sklearn.svm import SVC\n",
    "from sklearn.metrics import accuracy_score\n",
    "from sklearn.metrics import confusion_matrix,classification_report\n",
    "from sklearn.model_selection import cross_val_score\n",
    "from sklearn.model_selection import GridSearchCV"
   ]
  },
  {
   "cell_type": "code",
   "execution_count": 51,
   "id": "dd522f98",
   "metadata": {},
   "outputs": [
    {
     "data": {
      "text/plain": [
       "(907, 17)"
      ]
     },
     "execution_count": 51,
     "metadata": {},
     "output_type": "execute_result"
    }
   ],
   "source": [
    "x.shape"
   ]
  },
  {
   "cell_type": "code",
   "execution_count": 52,
   "id": "e7970718",
   "metadata": {},
   "outputs": [
    {
     "data": {
      "text/plain": [
       "(907,)"
      ]
     },
     "execution_count": 52,
     "metadata": {},
     "output_type": "execute_result"
    }
   ],
   "source": [
    "y.shape"
   ]
  },
  {
   "cell_type": "code",
   "execution_count": 53,
   "id": "ed193f09",
   "metadata": {},
   "outputs": [],
   "source": [
    "#training and testing of model\n",
    "xtrain,xtest,ytrain,ytest=train_test_split(x,y,test_size=.20,random_state=149)"
   ]
  },
  {
   "cell_type": "code",
   "execution_count": 54,
   "id": "e34b72bc",
   "metadata": {},
   "outputs": [
    {
     "data": {
      "text/plain": [
       "(725, 17)"
      ]
     },
     "execution_count": 54,
     "metadata": {},
     "output_type": "execute_result"
    }
   ],
   "source": [
    "xtrain.shape"
   ]
  },
  {
   "cell_type": "code",
   "execution_count": 55,
   "id": "82e201e8",
   "metadata": {},
   "outputs": [
    {
     "data": {
      "text/plain": [
       "(725,)"
      ]
     },
     "execution_count": 55,
     "metadata": {},
     "output_type": "execute_result"
    }
   ],
   "source": [
    "ytrain.shape"
   ]
  },
  {
   "cell_type": "code",
   "execution_count": 56,
   "id": "9e361a1e",
   "metadata": {},
   "outputs": [
    {
     "data": {
      "text/plain": [
       "(182, 17)"
      ]
     },
     "execution_count": 56,
     "metadata": {},
     "output_type": "execute_result"
    }
   ],
   "source": [
    "xtest.shape"
   ]
  },
  {
   "cell_type": "code",
   "execution_count": 57,
   "id": "bbe146d3",
   "metadata": {},
   "outputs": [
    {
     "data": {
      "text/plain": [
       "(182,)"
      ]
     },
     "execution_count": 57,
     "metadata": {},
     "output_type": "execute_result"
    }
   ],
   "source": [
    "ytest.shape"
   ]
  },
  {
   "cell_type": "code",
   "execution_count": 58,
   "id": "23d92226",
   "metadata": {},
   "outputs": [
    {
     "name": "stdout",
     "output_type": "stream",
     "text": [
      "0.8351648351648352\n",
      "              precision    recall  f1-score   support\n",
      "\n",
      "           0       0.67      1.00      0.80        10\n",
      "           1       0.80      0.83      0.81        63\n",
      "           2       0.43      0.33      0.38         9\n",
      "           3       0.89      0.80      0.84        49\n",
      "           5       0.00      0.00      0.00         2\n",
      "           6       1.00      0.95      0.98        22\n",
      "           7       1.00      1.00      1.00        27\n",
      "\n",
      "    accuracy                           0.84       182\n",
      "   macro avg       0.68      0.70      0.69       182\n",
      "weighted avg       0.84      0.84      0.84       182\n",
      "\n",
      "[[10  0  0  0  0  0  0]\n",
      " [ 4 52  3  2  2  0  0]\n",
      " [ 0  2  3  3  1  0  0]\n",
      " [ 0 10  0 39  0  0  0]\n",
      " [ 0  1  1  0  0  0  0]\n",
      " [ 1  0  0  0  0 21  0]\n",
      " [ 0  0  0  0  0  0 27]]\n"
     ]
    }
   ],
   "source": [
    "#APPLYING ML ALGORITHMS\n",
    "#LogisticRegression\n",
    "lg=LogisticRegression()\n",
    "lg.fit(xtrain,ytrain)\n",
    "predlg=lg.predict(xtest)\n",
    "print(accuracy_score(ytest,predlg))\n",
    "print(classification_report(ytest,predlg))\n",
    "print(confusion_matrix(ytest,predlg))"
   ]
  },
  {
   "cell_type": "code",
   "execution_count": 59,
   "id": "1a0be451",
   "metadata": {},
   "outputs": [
    {
     "name": "stdout",
     "output_type": "stream",
     "text": [
      "0.8956043956043956\n",
      "              precision    recall  f1-score   support\n",
      "\n",
      "           0       0.82      0.90      0.86        10\n",
      "           1       0.89      0.90      0.90        63\n",
      "           2       0.40      0.44      0.42         9\n",
      "           3       0.94      0.90      0.92        49\n",
      "           5       0.00      0.00      0.00         2\n",
      "           6       1.00      1.00      1.00        22\n",
      "           7       1.00      1.00      1.00        27\n",
      "\n",
      "    accuracy                           0.90       182\n",
      "   macro avg       0.72      0.74      0.73       182\n",
      "weighted avg       0.89      0.90      0.89       182\n",
      "\n",
      "[[ 9  1  0  0  0  0  0]\n",
      " [ 2 57  3  0  1  0  0]\n",
      " [ 0  2  4  3  0  0  0]\n",
      " [ 0  4  1 44  0  0  0]\n",
      " [ 0  0  2  0  0  0  0]\n",
      " [ 0  0  0  0  0 22  0]\n",
      " [ 0  0  0  0  0  0 27]]\n"
     ]
    }
   ],
   "source": [
    "#RandomForestClassifier\n",
    "rfc=RandomForestClassifier()\n",
    "rfc.fit(xtrain,ytrain)\n",
    "predrfc=rfc.predict(xtest)\n",
    "print(accuracy_score(ytest,predrfc))\n",
    "print(classification_report(ytest,predrfc))\n",
    "print(confusion_matrix(ytest,predrfc))"
   ]
  },
  {
   "cell_type": "code",
   "execution_count": 60,
   "id": "c7046a0d",
   "metadata": {},
   "outputs": [
    {
     "name": "stdout",
     "output_type": "stream",
     "text": [
      "0.5934065934065934\n",
      "[[10  0  0  0  0  0  0]\n",
      " [19  0  0 44  0  0  0]\n",
      " [ 1  0  0  8  0  0  0]\n",
      " [ 0  0  0 49  0  0  0]\n",
      " [ 1  0  0  1  0  0  0]\n",
      " [ 0  0  0  0  0 22  0]\n",
      " [ 0  0  0  0  0  0 27]]\n",
      "              precision    recall  f1-score   support\n",
      "\n",
      "           0       0.32      1.00      0.49        10\n",
      "           1       0.00      0.00      0.00        63\n",
      "           2       0.00      0.00      0.00         9\n",
      "           3       0.48      1.00      0.65        49\n",
      "           5       0.00      0.00      0.00         2\n",
      "           6       1.00      1.00      1.00        22\n",
      "           7       1.00      1.00      1.00        27\n",
      "\n",
      "    accuracy                           0.59       182\n",
      "   macro avg       0.40      0.57      0.45       182\n",
      "weighted avg       0.42      0.59      0.47       182\n",
      "\n"
     ]
    }
   ],
   "source": [
    "#GaussianNB\n",
    "from sklearn.naive_bayes import GaussianNB\n",
    "gnb=GaussianNB()\n",
    "gnb.fit(xtrain,ytrain)\n",
    "gnb.score(xtrain,ytrain)\n",
    "predgnb=gnb.predict(xtest)\n",
    "print(accuracy_score(ytest,predgnb))\n",
    "print(confusion_matrix(ytest,predgnb))\n",
    "print(classification_report(ytest,predgnb))"
   ]
  },
  {
   "cell_type": "code",
   "execution_count": 61,
   "id": "efc55ce9",
   "metadata": {},
   "outputs": [
    {
     "name": "stdout",
     "output_type": "stream",
     "text": [
      "0.8076923076923077\n",
      "[[ 8  2  0  0  0  0  0]\n",
      " [ 3 49  7  3  1  0  0]\n",
      " [ 0  3  2  4  0  0  0]\n",
      " [ 0  7  3 38  1  0  0]\n",
      " [ 0  0  1  0  1  0  0]\n",
      " [ 0  0  0  0  0 22  0]\n",
      " [ 0  0  0  0  0  0 27]]\n",
      "              precision    recall  f1-score   support\n",
      "\n",
      "           0       0.73      0.80      0.76        10\n",
      "           1       0.80      0.78      0.79        63\n",
      "           2       0.15      0.22      0.18         9\n",
      "           3       0.84      0.78      0.81        49\n",
      "           5       0.33      0.50      0.40         2\n",
      "           6       1.00      1.00      1.00        22\n",
      "           7       1.00      1.00      1.00        27\n",
      "\n",
      "    accuracy                           0.81       182\n",
      "   macro avg       0.69      0.73      0.71       182\n",
      "weighted avg       0.83      0.81      0.82       182\n",
      "\n"
     ]
    }
   ],
   "source": [
    "from sklearn.tree import DecisionTreeClassifier\n",
    "#DecisionTreeClassifier\n",
    "dtc=DecisionTreeClassifier()\n",
    "dtc.fit(xtrain,ytrain)\n",
    "dtc.score(xtrain,ytrain)\n",
    "preddtc=dtc.predict(xtest)\n",
    "print(accuracy_score(ytest,preddtc))\n",
    "print(confusion_matrix(ytest,preddtc))\n",
    "print(classification_report(ytest,preddtc))"
   ]
  },
  {
   "cell_type": "code",
   "execution_count": 62,
   "id": "500997e4",
   "metadata": {},
   "outputs": [
    {
     "name": "stdout",
     "output_type": "stream",
     "text": [
      "0.8516483516483516\n",
      "              precision    recall  f1-score   support\n",
      "\n",
      "           0       0.64      0.90      0.75        10\n",
      "           1       0.77      0.87      0.82        63\n",
      "           2       0.60      0.33      0.43         9\n",
      "           3       0.93      0.80      0.86        49\n",
      "           5       0.00      0.00      0.00         2\n",
      "           6       1.00      1.00      1.00        22\n",
      "           7       1.00      1.00      1.00        27\n",
      "\n",
      "    accuracy                           0.85       182\n",
      "   macro avg       0.71      0.70      0.69       182\n",
      "weighted avg       0.85      0.85      0.85       182\n",
      "\n",
      "[[ 9  1  0  0  0  0  0]\n",
      " [ 5 55  1  1  1  0  0]\n",
      " [ 0  4  3  2  0  0  0]\n",
      " [ 0 10  0 39  0  0  0]\n",
      " [ 0  1  1  0  0  0  0]\n",
      " [ 0  0  0  0  0 22  0]\n",
      " [ 0  0  0  0  0  0 27]]\n"
     ]
    }
   ],
   "source": [
    "#SUPPORT VECTOR CLASSIFIER\n",
    "from sklearn.svm import SVC\n",
    "svc=SVC()\n",
    "svc.fit(xtrain,ytrain)\n",
    "predsvc=svc.predict(xtest)\n",
    "print(accuracy_score(ytest,predsvc))\n",
    "print(classification_report(ytest,predsvc))\n",
    "print(confusion_matrix(ytest,predsvc))"
   ]
  },
  {
   "cell_type": "markdown",
   "id": "a7abfb45",
   "metadata": {},
   "source": [
    "Among all the algorithms Random Forest gives the highest accuracy of 89%. so we will go with Random Forest algorithm."
   ]
  },
  {
   "cell_type": "code",
   "execution_count": 63,
   "id": "5a355e99",
   "metadata": {},
   "outputs": [
    {
     "name": "stdout",
     "output_type": "stream",
     "text": [
      "cross validation score of logistic regression is 0.787232104911663\n"
     ]
    }
   ],
   "source": [
    "# CROSS VALIDATION\n",
    "from sklearn.model_selection import cross_val_score\n",
    "scr=cross_val_score(lg,x,y,cv=5)\n",
    "print('cross validation score of logistic regression is',scr.mean())"
   ]
  },
  {
   "cell_type": "code",
   "execution_count": 64,
   "id": "67e7ac01",
   "metadata": {},
   "outputs": [
    {
     "name": "stdout",
     "output_type": "stream",
     "text": [
      "cross validation score of Random forest classifier is 0.8544775666322627\n"
     ]
    }
   ],
   "source": [
    "scr2=cross_val_score(rfc,x,y,cv=5)\n",
    "print('cross validation score of Random forest classifier is',scr2.mean())"
   ]
  },
  {
   "cell_type": "code",
   "execution_count": 65,
   "id": "50fecab3",
   "metadata": {},
   "outputs": [
    {
     "name": "stdout",
     "output_type": "stream",
     "text": [
      "cross validation score of Support vector classifier is 0.8004796308663712\n"
     ]
    }
   ],
   "source": [
    "scr3=cross_val_score(svc,x,y,cv=5)\n",
    "print('cross validation score of Support vector classifier is',scr3.mean())"
   ]
  },
  {
   "cell_type": "code",
   "execution_count": 66,
   "id": "26b59261",
   "metadata": {},
   "outputs": [
    {
     "name": "stdout",
     "output_type": "stream",
     "text": [
      "cross validation score of Decision Tree classifier is 0.5787687450670876\n"
     ]
    }
   ],
   "source": [
    "scr4=cross_val_score(gnb,x,y,cv=5)\n",
    "print('cross validation score of Decision Tree classifier is',scr4.mean())"
   ]
  },
  {
   "cell_type": "code",
   "execution_count": 67,
   "id": "138b877a",
   "metadata": {},
   "outputs": [
    {
     "name": "stdout",
     "output_type": "stream",
     "text": [
      "cross validation score of Gaussian NB is 0.8511565782284014\n"
     ]
    }
   ],
   "source": [
    "scr5=cross_val_score(rfc,x,y,cv=5)\n",
    "print('cross validation score of Gaussian NB is',scr5.mean())"
   ]
  },
  {
   "cell_type": "markdown",
   "id": "c32c5264",
   "metadata": {},
   "source": [
    "cross validation score is best given by random forest 0.856675, so we will proceed with random Forest ."
   ]
  },
  {
   "cell_type": "code",
   "execution_count": 68,
   "id": "7d1991cd",
   "metadata": {},
   "outputs": [],
   "source": [
    "# HYPERPARAMETER TUNING\n",
    "RandomForestClassifier()\n",
    "parameters={'max_features':[\"auto\", \"sqrt\", \"log2\"],'max_depth':[4,5,6,7,8],'criterion':[\"gini\", \"entropy\"]}"
   ]
  },
  {
   "cell_type": "code",
   "execution_count": 69,
   "id": "59b6fd19",
   "metadata": {},
   "outputs": [
    {
     "data": {
      "text/plain": [
       "{'criterion': 'entropy', 'max_depth': 8, 'max_features': 'sqrt'}"
      ]
     },
     "execution_count": 69,
     "metadata": {},
     "output_type": "execute_result"
    }
   ],
   "source": [
    "from sklearn.model_selection import GridSearchCV\n",
    "gcv=GridSearchCV(RandomForestClassifier(),parameters,cv=5,scoring='accuracy')\n",
    "gcv.fit(xtrain,ytrain)\n",
    "gcv.best_params_ #printing the best parameters found by GridSearchCV"
   ]
  },
  {
   "cell_type": "code",
   "execution_count": 70,
   "id": "f7701f54",
   "metadata": {},
   "outputs": [
    {
     "data": {
      "text/plain": [
       "0.8956043956043956"
      ]
     },
     "execution_count": 70,
     "metadata": {},
     "output_type": "execute_result"
    }
   ],
   "source": [
    "gcv_pred=gcv.best_estimator_.predict(xtest)\n",
    "accuracy_score(ytest,gcv_pred)"
   ]
  },
  {
   "cell_type": "code",
   "execution_count": 72,
   "id": "c3e68133",
   "metadata": {},
   "outputs": [
    {
     "data": {
      "text/plain": [
       "['global_power_plant.pk1']"
      ]
     },
     "execution_count": 72,
     "metadata": {},
     "output_type": "execute_result"
    }
   ],
   "source": [
    "#SAVING THE BEST MODEL\n",
    "import joblib\n",
    "joblib.dump(gcv.best_estimator_,'global_power_plant.pk1')"
   ]
  },
  {
   "cell_type": "code",
   "execution_count": null,
   "id": "d1d69918",
   "metadata": {},
   "outputs": [],
   "source": []
  }
 ],
 "metadata": {
  "kernelspec": {
   "display_name": "Python 3",
   "language": "python",
   "name": "python3"
  },
  "language_info": {
   "codemirror_mode": {
    "name": "ipython",
    "version": 3
   },
   "file_extension": ".py",
   "mimetype": "text/x-python",
   "name": "python",
   "nbconvert_exporter": "python",
   "pygments_lexer": "ipython3",
   "version": "3.8.8"
  }
 },
 "nbformat": 4,
 "nbformat_minor": 5
}
