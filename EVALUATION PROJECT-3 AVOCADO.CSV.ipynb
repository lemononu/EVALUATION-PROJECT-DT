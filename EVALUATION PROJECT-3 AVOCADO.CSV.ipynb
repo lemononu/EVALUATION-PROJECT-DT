{
 "cells": [
  {
   "cell_type": "code",
   "execution_count": 1,
   "id": "0feb7fe6",
   "metadata": {},
   "outputs": [],
   "source": [
    "# IMPORT REQUIRED LIBRARIES\n",
    "import pandas as pd\n",
    "import numpy as np\n",
    "import matplotlib.pyplot as plt\n",
    "import seaborn as sns\n",
    "import warnings\n",
    "warnings.filterwarnings('ignore')\n",
    "%matplotlib inline"
   ]
  },
  {
   "cell_type": "markdown",
   "id": "8255d38a",
   "metadata": {},
   "source": [
    "We have imported the required libraries."
   ]
  },
  {
   "cell_type": "code",
   "execution_count": 2,
   "id": "29b374fe",
   "metadata": {},
   "outputs": [
    {
     "data": {
      "text/html": [
       "<div>\n",
       "<style scoped>\n",
       "    .dataframe tbody tr th:only-of-type {\n",
       "        vertical-align: middle;\n",
       "    }\n",
       "\n",
       "    .dataframe tbody tr th {\n",
       "        vertical-align: top;\n",
       "    }\n",
       "\n",
       "    .dataframe thead th {\n",
       "        text-align: right;\n",
       "    }\n",
       "</style>\n",
       "<table border=\"1\" class=\"dataframe\">\n",
       "  <thead>\n",
       "    <tr style=\"text-align: right;\">\n",
       "      <th></th>\n",
       "      <th>Unnamed: 0</th>\n",
       "      <th>Date</th>\n",
       "      <th>AveragePrice</th>\n",
       "      <th>Total Volume</th>\n",
       "      <th>4046</th>\n",
       "      <th>4225</th>\n",
       "      <th>4770</th>\n",
       "      <th>Total Bags</th>\n",
       "      <th>Small Bags</th>\n",
       "      <th>Large Bags</th>\n",
       "      <th>XLarge Bags</th>\n",
       "      <th>type</th>\n",
       "      <th>year</th>\n",
       "      <th>region</th>\n",
       "    </tr>\n",
       "  </thead>\n",
       "  <tbody>\n",
       "    <tr>\n",
       "      <th>0</th>\n",
       "      <td>0</td>\n",
       "      <td>2015-12-27</td>\n",
       "      <td>1.33</td>\n",
       "      <td>64236.62</td>\n",
       "      <td>1036.74</td>\n",
       "      <td>54454.85</td>\n",
       "      <td>48.16</td>\n",
       "      <td>8696.87</td>\n",
       "      <td>8603.62</td>\n",
       "      <td>93.25</td>\n",
       "      <td>0.0</td>\n",
       "      <td>conventional</td>\n",
       "      <td>2015</td>\n",
       "      <td>Albany</td>\n",
       "    </tr>\n",
       "    <tr>\n",
       "      <th>1</th>\n",
       "      <td>1</td>\n",
       "      <td>2015-12-20</td>\n",
       "      <td>1.35</td>\n",
       "      <td>54876.98</td>\n",
       "      <td>674.28</td>\n",
       "      <td>44638.81</td>\n",
       "      <td>58.33</td>\n",
       "      <td>9505.56</td>\n",
       "      <td>9408.07</td>\n",
       "      <td>97.49</td>\n",
       "      <td>0.0</td>\n",
       "      <td>conventional</td>\n",
       "      <td>2015</td>\n",
       "      <td>Albany</td>\n",
       "    </tr>\n",
       "    <tr>\n",
       "      <th>2</th>\n",
       "      <td>2</td>\n",
       "      <td>2015-12-13</td>\n",
       "      <td>0.93</td>\n",
       "      <td>118220.22</td>\n",
       "      <td>794.70</td>\n",
       "      <td>109149.67</td>\n",
       "      <td>130.50</td>\n",
       "      <td>8145.35</td>\n",
       "      <td>8042.21</td>\n",
       "      <td>103.14</td>\n",
       "      <td>0.0</td>\n",
       "      <td>conventional</td>\n",
       "      <td>2015</td>\n",
       "      <td>Albany</td>\n",
       "    </tr>\n",
       "    <tr>\n",
       "      <th>3</th>\n",
       "      <td>3</td>\n",
       "      <td>2015-12-06</td>\n",
       "      <td>1.08</td>\n",
       "      <td>78992.15</td>\n",
       "      <td>1132.00</td>\n",
       "      <td>71976.41</td>\n",
       "      <td>72.58</td>\n",
       "      <td>5811.16</td>\n",
       "      <td>5677.40</td>\n",
       "      <td>133.76</td>\n",
       "      <td>0.0</td>\n",
       "      <td>conventional</td>\n",
       "      <td>2015</td>\n",
       "      <td>Albany</td>\n",
       "    </tr>\n",
       "    <tr>\n",
       "      <th>4</th>\n",
       "      <td>4</td>\n",
       "      <td>2015-11-29</td>\n",
       "      <td>1.28</td>\n",
       "      <td>51039.60</td>\n",
       "      <td>941.48</td>\n",
       "      <td>43838.39</td>\n",
       "      <td>75.78</td>\n",
       "      <td>6183.95</td>\n",
       "      <td>5986.26</td>\n",
       "      <td>197.69</td>\n",
       "      <td>0.0</td>\n",
       "      <td>conventional</td>\n",
       "      <td>2015</td>\n",
       "      <td>Albany</td>\n",
       "    </tr>\n",
       "    <tr>\n",
       "      <th>...</th>\n",
       "      <td>...</td>\n",
       "      <td>...</td>\n",
       "      <td>...</td>\n",
       "      <td>...</td>\n",
       "      <td>...</td>\n",
       "      <td>...</td>\n",
       "      <td>...</td>\n",
       "      <td>...</td>\n",
       "      <td>...</td>\n",
       "      <td>...</td>\n",
       "      <td>...</td>\n",
       "      <td>...</td>\n",
       "      <td>...</td>\n",
       "      <td>...</td>\n",
       "    </tr>\n",
       "    <tr>\n",
       "      <th>18244</th>\n",
       "      <td>7</td>\n",
       "      <td>2018-02-04</td>\n",
       "      <td>1.63</td>\n",
       "      <td>17074.83</td>\n",
       "      <td>2046.96</td>\n",
       "      <td>1529.20</td>\n",
       "      <td>0.00</td>\n",
       "      <td>13498.67</td>\n",
       "      <td>13066.82</td>\n",
       "      <td>431.85</td>\n",
       "      <td>0.0</td>\n",
       "      <td>organic</td>\n",
       "      <td>2018</td>\n",
       "      <td>WestTexNewMexico</td>\n",
       "    </tr>\n",
       "    <tr>\n",
       "      <th>18245</th>\n",
       "      <td>8</td>\n",
       "      <td>2018-01-28</td>\n",
       "      <td>1.71</td>\n",
       "      <td>13888.04</td>\n",
       "      <td>1191.70</td>\n",
       "      <td>3431.50</td>\n",
       "      <td>0.00</td>\n",
       "      <td>9264.84</td>\n",
       "      <td>8940.04</td>\n",
       "      <td>324.80</td>\n",
       "      <td>0.0</td>\n",
       "      <td>organic</td>\n",
       "      <td>2018</td>\n",
       "      <td>WestTexNewMexico</td>\n",
       "    </tr>\n",
       "    <tr>\n",
       "      <th>18246</th>\n",
       "      <td>9</td>\n",
       "      <td>2018-01-21</td>\n",
       "      <td>1.87</td>\n",
       "      <td>13766.76</td>\n",
       "      <td>1191.92</td>\n",
       "      <td>2452.79</td>\n",
       "      <td>727.94</td>\n",
       "      <td>9394.11</td>\n",
       "      <td>9351.80</td>\n",
       "      <td>42.31</td>\n",
       "      <td>0.0</td>\n",
       "      <td>organic</td>\n",
       "      <td>2018</td>\n",
       "      <td>WestTexNewMexico</td>\n",
       "    </tr>\n",
       "    <tr>\n",
       "      <th>18247</th>\n",
       "      <td>10</td>\n",
       "      <td>2018-01-14</td>\n",
       "      <td>1.93</td>\n",
       "      <td>16205.22</td>\n",
       "      <td>1527.63</td>\n",
       "      <td>2981.04</td>\n",
       "      <td>727.01</td>\n",
       "      <td>10969.54</td>\n",
       "      <td>10919.54</td>\n",
       "      <td>50.00</td>\n",
       "      <td>0.0</td>\n",
       "      <td>organic</td>\n",
       "      <td>2018</td>\n",
       "      <td>WestTexNewMexico</td>\n",
       "    </tr>\n",
       "    <tr>\n",
       "      <th>18248</th>\n",
       "      <td>11</td>\n",
       "      <td>2018-01-07</td>\n",
       "      <td>1.62</td>\n",
       "      <td>17489.58</td>\n",
       "      <td>2894.77</td>\n",
       "      <td>2356.13</td>\n",
       "      <td>224.53</td>\n",
       "      <td>12014.15</td>\n",
       "      <td>11988.14</td>\n",
       "      <td>26.01</td>\n",
       "      <td>0.0</td>\n",
       "      <td>organic</td>\n",
       "      <td>2018</td>\n",
       "      <td>WestTexNewMexico</td>\n",
       "    </tr>\n",
       "  </tbody>\n",
       "</table>\n",
       "<p>18249 rows × 14 columns</p>\n",
       "</div>"
      ],
      "text/plain": [
       "       Unnamed: 0        Date  AveragePrice  Total Volume     4046       4225  \\\n",
       "0               0  2015-12-27          1.33      64236.62  1036.74   54454.85   \n",
       "1               1  2015-12-20          1.35      54876.98   674.28   44638.81   \n",
       "2               2  2015-12-13          0.93     118220.22   794.70  109149.67   \n",
       "3               3  2015-12-06          1.08      78992.15  1132.00   71976.41   \n",
       "4               4  2015-11-29          1.28      51039.60   941.48   43838.39   \n",
       "...           ...         ...           ...           ...      ...        ...   \n",
       "18244           7  2018-02-04          1.63      17074.83  2046.96    1529.20   \n",
       "18245           8  2018-01-28          1.71      13888.04  1191.70    3431.50   \n",
       "18246           9  2018-01-21          1.87      13766.76  1191.92    2452.79   \n",
       "18247          10  2018-01-14          1.93      16205.22  1527.63    2981.04   \n",
       "18248          11  2018-01-07          1.62      17489.58  2894.77    2356.13   \n",
       "\n",
       "         4770  Total Bags  Small Bags  Large Bags  XLarge Bags          type  \\\n",
       "0       48.16     8696.87     8603.62       93.25          0.0  conventional   \n",
       "1       58.33     9505.56     9408.07       97.49          0.0  conventional   \n",
       "2      130.50     8145.35     8042.21      103.14          0.0  conventional   \n",
       "3       72.58     5811.16     5677.40      133.76          0.0  conventional   \n",
       "4       75.78     6183.95     5986.26      197.69          0.0  conventional   \n",
       "...       ...         ...         ...         ...          ...           ...   \n",
       "18244    0.00    13498.67    13066.82      431.85          0.0       organic   \n",
       "18245    0.00     9264.84     8940.04      324.80          0.0       organic   \n",
       "18246  727.94     9394.11     9351.80       42.31          0.0       organic   \n",
       "18247  727.01    10969.54    10919.54       50.00          0.0       organic   \n",
       "18248  224.53    12014.15    11988.14       26.01          0.0       organic   \n",
       "\n",
       "       year            region  \n",
       "0      2015            Albany  \n",
       "1      2015            Albany  \n",
       "2      2015            Albany  \n",
       "3      2015            Albany  \n",
       "4      2015            Albany  \n",
       "...     ...               ...  \n",
       "18244  2018  WestTexNewMexico  \n",
       "18245  2018  WestTexNewMexico  \n",
       "18246  2018  WestTexNewMexico  \n",
       "18247  2018  WestTexNewMexico  \n",
       "18248  2018  WestTexNewMexico  \n",
       "\n",
       "[18249 rows x 14 columns]"
      ]
     },
     "execution_count": 2,
     "metadata": {},
     "output_type": "execute_result"
    }
   ],
   "source": [
    "# LOADING THE DATASET\n",
    "av=pd.read_csv('avocado.csv')\n",
    "av"
   ]
  },
  {
   "cell_type": "markdown",
   "id": "f56231a5",
   "metadata": {},
   "source": [
    "So we have dataset in which there are 18249 rows and 14 columns."
   ]
  },
  {
   "cell_type": "code",
   "execution_count": 4,
   "id": "ca67a849",
   "metadata": {},
   "outputs": [
    {
     "data": {
      "text/html": [
       "<div>\n",
       "<style scoped>\n",
       "    .dataframe tbody tr th:only-of-type {\n",
       "        vertical-align: middle;\n",
       "    }\n",
       "\n",
       "    .dataframe tbody tr th {\n",
       "        vertical-align: top;\n",
       "    }\n",
       "\n",
       "    .dataframe thead th {\n",
       "        text-align: right;\n",
       "    }\n",
       "</style>\n",
       "<table border=\"1\" class=\"dataframe\">\n",
       "  <thead>\n",
       "    <tr style=\"text-align: right;\">\n",
       "      <th></th>\n",
       "      <th>Unnamed: 0</th>\n",
       "      <th>Date</th>\n",
       "      <th>AveragePrice</th>\n",
       "      <th>Total Volume</th>\n",
       "      <th>4046</th>\n",
       "      <th>4225</th>\n",
       "      <th>4770</th>\n",
       "      <th>Total Bags</th>\n",
       "      <th>Small Bags</th>\n",
       "      <th>Large Bags</th>\n",
       "      <th>XLarge Bags</th>\n",
       "      <th>type</th>\n",
       "      <th>year</th>\n",
       "      <th>region</th>\n",
       "    </tr>\n",
       "  </thead>\n",
       "  <tbody>\n",
       "    <tr>\n",
       "      <th>0</th>\n",
       "      <td>0</td>\n",
       "      <td>2015-12-27</td>\n",
       "      <td>1.33</td>\n",
       "      <td>64236.62</td>\n",
       "      <td>1036.74</td>\n",
       "      <td>54454.85</td>\n",
       "      <td>48.16</td>\n",
       "      <td>8696.87</td>\n",
       "      <td>8603.62</td>\n",
       "      <td>93.25</td>\n",
       "      <td>0.0</td>\n",
       "      <td>conventional</td>\n",
       "      <td>2015</td>\n",
       "      <td>Albany</td>\n",
       "    </tr>\n",
       "    <tr>\n",
       "      <th>1</th>\n",
       "      <td>1</td>\n",
       "      <td>2015-12-20</td>\n",
       "      <td>1.35</td>\n",
       "      <td>54876.98</td>\n",
       "      <td>674.28</td>\n",
       "      <td>44638.81</td>\n",
       "      <td>58.33</td>\n",
       "      <td>9505.56</td>\n",
       "      <td>9408.07</td>\n",
       "      <td>97.49</td>\n",
       "      <td>0.0</td>\n",
       "      <td>conventional</td>\n",
       "      <td>2015</td>\n",
       "      <td>Albany</td>\n",
       "    </tr>\n",
       "    <tr>\n",
       "      <th>2</th>\n",
       "      <td>2</td>\n",
       "      <td>2015-12-13</td>\n",
       "      <td>0.93</td>\n",
       "      <td>118220.22</td>\n",
       "      <td>794.70</td>\n",
       "      <td>109149.67</td>\n",
       "      <td>130.50</td>\n",
       "      <td>8145.35</td>\n",
       "      <td>8042.21</td>\n",
       "      <td>103.14</td>\n",
       "      <td>0.0</td>\n",
       "      <td>conventional</td>\n",
       "      <td>2015</td>\n",
       "      <td>Albany</td>\n",
       "    </tr>\n",
       "    <tr>\n",
       "      <th>3</th>\n",
       "      <td>3</td>\n",
       "      <td>2015-12-06</td>\n",
       "      <td>1.08</td>\n",
       "      <td>78992.15</td>\n",
       "      <td>1132.00</td>\n",
       "      <td>71976.41</td>\n",
       "      <td>72.58</td>\n",
       "      <td>5811.16</td>\n",
       "      <td>5677.40</td>\n",
       "      <td>133.76</td>\n",
       "      <td>0.0</td>\n",
       "      <td>conventional</td>\n",
       "      <td>2015</td>\n",
       "      <td>Albany</td>\n",
       "    </tr>\n",
       "    <tr>\n",
       "      <th>4</th>\n",
       "      <td>4</td>\n",
       "      <td>2015-11-29</td>\n",
       "      <td>1.28</td>\n",
       "      <td>51039.60</td>\n",
       "      <td>941.48</td>\n",
       "      <td>43838.39</td>\n",
       "      <td>75.78</td>\n",
       "      <td>6183.95</td>\n",
       "      <td>5986.26</td>\n",
       "      <td>197.69</td>\n",
       "      <td>0.0</td>\n",
       "      <td>conventional</td>\n",
       "      <td>2015</td>\n",
       "      <td>Albany</td>\n",
       "    </tr>\n",
       "  </tbody>\n",
       "</table>\n",
       "</div>"
      ],
      "text/plain": [
       "   Unnamed: 0        Date  AveragePrice  Total Volume     4046       4225  \\\n",
       "0           0  2015-12-27          1.33      64236.62  1036.74   54454.85   \n",
       "1           1  2015-12-20          1.35      54876.98   674.28   44638.81   \n",
       "2           2  2015-12-13          0.93     118220.22   794.70  109149.67   \n",
       "3           3  2015-12-06          1.08      78992.15  1132.00   71976.41   \n",
       "4           4  2015-11-29          1.28      51039.60   941.48   43838.39   \n",
       "\n",
       "     4770  Total Bags  Small Bags  Large Bags  XLarge Bags          type  \\\n",
       "0   48.16     8696.87     8603.62       93.25          0.0  conventional   \n",
       "1   58.33     9505.56     9408.07       97.49          0.0  conventional   \n",
       "2  130.50     8145.35     8042.21      103.14          0.0  conventional   \n",
       "3   72.58     5811.16     5677.40      133.76          0.0  conventional   \n",
       "4   75.78     6183.95     5986.26      197.69          0.0  conventional   \n",
       "\n",
       "   year  region  \n",
       "0  2015  Albany  \n",
       "1  2015  Albany  \n",
       "2  2015  Albany  \n",
       "3  2015  Albany  \n",
       "4  2015  Albany  "
      ]
     },
     "execution_count": 4,
     "metadata": {},
     "output_type": "execute_result"
    }
   ],
   "source": [
    "av.head(5)"
   ]
  },
  {
   "cell_type": "code",
   "execution_count": 5,
   "id": "361ec734",
   "metadata": {},
   "outputs": [
    {
     "data": {
      "text/plain": [
       "(18249, 14)"
      ]
     },
     "execution_count": 5,
     "metadata": {},
     "output_type": "execute_result"
    }
   ],
   "source": [
    "av.shape"
   ]
  },
  {
   "cell_type": "code",
   "execution_count": 6,
   "id": "f98d53b8",
   "metadata": {},
   "outputs": [
    {
     "data": {
      "text/html": [
       "<div>\n",
       "<style scoped>\n",
       "    .dataframe tbody tr th:only-of-type {\n",
       "        vertical-align: middle;\n",
       "    }\n",
       "\n",
       "    .dataframe tbody tr th {\n",
       "        vertical-align: top;\n",
       "    }\n",
       "\n",
       "    .dataframe thead th {\n",
       "        text-align: right;\n",
       "    }\n",
       "</style>\n",
       "<table border=\"1\" class=\"dataframe\">\n",
       "  <thead>\n",
       "    <tr style=\"text-align: right;\">\n",
       "      <th></th>\n",
       "      <th>Unnamed: 0</th>\n",
       "      <th>AveragePrice</th>\n",
       "      <th>Total Volume</th>\n",
       "      <th>4046</th>\n",
       "      <th>4225</th>\n",
       "      <th>4770</th>\n",
       "      <th>Total Bags</th>\n",
       "      <th>Small Bags</th>\n",
       "      <th>Large Bags</th>\n",
       "      <th>XLarge Bags</th>\n",
       "      <th>year</th>\n",
       "    </tr>\n",
       "  </thead>\n",
       "  <tbody>\n",
       "    <tr>\n",
       "      <th>count</th>\n",
       "      <td>18249.000000</td>\n",
       "      <td>18249.000000</td>\n",
       "      <td>1.824900e+04</td>\n",
       "      <td>1.824900e+04</td>\n",
       "      <td>1.824900e+04</td>\n",
       "      <td>1.824900e+04</td>\n",
       "      <td>1.824900e+04</td>\n",
       "      <td>1.824900e+04</td>\n",
       "      <td>1.824900e+04</td>\n",
       "      <td>18249.000000</td>\n",
       "      <td>18249.000000</td>\n",
       "    </tr>\n",
       "    <tr>\n",
       "      <th>mean</th>\n",
       "      <td>24.232232</td>\n",
       "      <td>1.405978</td>\n",
       "      <td>8.506440e+05</td>\n",
       "      <td>2.930084e+05</td>\n",
       "      <td>2.951546e+05</td>\n",
       "      <td>2.283974e+04</td>\n",
       "      <td>2.396392e+05</td>\n",
       "      <td>1.821947e+05</td>\n",
       "      <td>5.433809e+04</td>\n",
       "      <td>3106.426507</td>\n",
       "      <td>2016.147899</td>\n",
       "    </tr>\n",
       "    <tr>\n",
       "      <th>std</th>\n",
       "      <td>15.481045</td>\n",
       "      <td>0.402677</td>\n",
       "      <td>3.453545e+06</td>\n",
       "      <td>1.264989e+06</td>\n",
       "      <td>1.204120e+06</td>\n",
       "      <td>1.074641e+05</td>\n",
       "      <td>9.862424e+05</td>\n",
       "      <td>7.461785e+05</td>\n",
       "      <td>2.439660e+05</td>\n",
       "      <td>17692.894652</td>\n",
       "      <td>0.939938</td>\n",
       "    </tr>\n",
       "    <tr>\n",
       "      <th>min</th>\n",
       "      <td>0.000000</td>\n",
       "      <td>0.440000</td>\n",
       "      <td>8.456000e+01</td>\n",
       "      <td>0.000000e+00</td>\n",
       "      <td>0.000000e+00</td>\n",
       "      <td>0.000000e+00</td>\n",
       "      <td>0.000000e+00</td>\n",
       "      <td>0.000000e+00</td>\n",
       "      <td>0.000000e+00</td>\n",
       "      <td>0.000000</td>\n",
       "      <td>2015.000000</td>\n",
       "    </tr>\n",
       "    <tr>\n",
       "      <th>25%</th>\n",
       "      <td>10.000000</td>\n",
       "      <td>1.100000</td>\n",
       "      <td>1.083858e+04</td>\n",
       "      <td>8.540700e+02</td>\n",
       "      <td>3.008780e+03</td>\n",
       "      <td>0.000000e+00</td>\n",
       "      <td>5.088640e+03</td>\n",
       "      <td>2.849420e+03</td>\n",
       "      <td>1.274700e+02</td>\n",
       "      <td>0.000000</td>\n",
       "      <td>2015.000000</td>\n",
       "    </tr>\n",
       "    <tr>\n",
       "      <th>50%</th>\n",
       "      <td>24.000000</td>\n",
       "      <td>1.370000</td>\n",
       "      <td>1.073768e+05</td>\n",
       "      <td>8.645300e+03</td>\n",
       "      <td>2.906102e+04</td>\n",
       "      <td>1.849900e+02</td>\n",
       "      <td>3.974383e+04</td>\n",
       "      <td>2.636282e+04</td>\n",
       "      <td>2.647710e+03</td>\n",
       "      <td>0.000000</td>\n",
       "      <td>2016.000000</td>\n",
       "    </tr>\n",
       "    <tr>\n",
       "      <th>75%</th>\n",
       "      <td>38.000000</td>\n",
       "      <td>1.660000</td>\n",
       "      <td>4.329623e+05</td>\n",
       "      <td>1.110202e+05</td>\n",
       "      <td>1.502069e+05</td>\n",
       "      <td>6.243420e+03</td>\n",
       "      <td>1.107834e+05</td>\n",
       "      <td>8.333767e+04</td>\n",
       "      <td>2.202925e+04</td>\n",
       "      <td>132.500000</td>\n",
       "      <td>2017.000000</td>\n",
       "    </tr>\n",
       "    <tr>\n",
       "      <th>max</th>\n",
       "      <td>52.000000</td>\n",
       "      <td>3.250000</td>\n",
       "      <td>6.250565e+07</td>\n",
       "      <td>2.274362e+07</td>\n",
       "      <td>2.047057e+07</td>\n",
       "      <td>2.546439e+06</td>\n",
       "      <td>1.937313e+07</td>\n",
       "      <td>1.338459e+07</td>\n",
       "      <td>5.719097e+06</td>\n",
       "      <td>551693.650000</td>\n",
       "      <td>2018.000000</td>\n",
       "    </tr>\n",
       "  </tbody>\n",
       "</table>\n",
       "</div>"
      ],
      "text/plain": [
       "         Unnamed: 0  AveragePrice  Total Volume          4046          4225  \\\n",
       "count  18249.000000  18249.000000  1.824900e+04  1.824900e+04  1.824900e+04   \n",
       "mean      24.232232      1.405978  8.506440e+05  2.930084e+05  2.951546e+05   \n",
       "std       15.481045      0.402677  3.453545e+06  1.264989e+06  1.204120e+06   \n",
       "min        0.000000      0.440000  8.456000e+01  0.000000e+00  0.000000e+00   \n",
       "25%       10.000000      1.100000  1.083858e+04  8.540700e+02  3.008780e+03   \n",
       "50%       24.000000      1.370000  1.073768e+05  8.645300e+03  2.906102e+04   \n",
       "75%       38.000000      1.660000  4.329623e+05  1.110202e+05  1.502069e+05   \n",
       "max       52.000000      3.250000  6.250565e+07  2.274362e+07  2.047057e+07   \n",
       "\n",
       "               4770    Total Bags    Small Bags    Large Bags    XLarge Bags  \\\n",
       "count  1.824900e+04  1.824900e+04  1.824900e+04  1.824900e+04   18249.000000   \n",
       "mean   2.283974e+04  2.396392e+05  1.821947e+05  5.433809e+04    3106.426507   \n",
       "std    1.074641e+05  9.862424e+05  7.461785e+05  2.439660e+05   17692.894652   \n",
       "min    0.000000e+00  0.000000e+00  0.000000e+00  0.000000e+00       0.000000   \n",
       "25%    0.000000e+00  5.088640e+03  2.849420e+03  1.274700e+02       0.000000   \n",
       "50%    1.849900e+02  3.974383e+04  2.636282e+04  2.647710e+03       0.000000   \n",
       "75%    6.243420e+03  1.107834e+05  8.333767e+04  2.202925e+04     132.500000   \n",
       "max    2.546439e+06  1.937313e+07  1.338459e+07  5.719097e+06  551693.650000   \n",
       "\n",
       "               year  \n",
       "count  18249.000000  \n",
       "mean    2016.147899  \n",
       "std        0.939938  \n",
       "min     2015.000000  \n",
       "25%     2015.000000  \n",
       "50%     2016.000000  \n",
       "75%     2017.000000  \n",
       "max     2018.000000  "
      ]
     },
     "execution_count": 6,
     "metadata": {},
     "output_type": "execute_result"
    }
   ],
   "source": [
    "# Data Analysis and Visualization\n",
    "av.describe()"
   ]
  },
  {
   "cell_type": "markdown",
   "id": "03cac2c7",
   "metadata": {},
   "source": [
    "This column shows the statistical values for the data like mean,standard deviation and percentiles,minimum and maximum.it provides values only for integer or float data type features."
   ]
  },
  {
   "cell_type": "code",
   "execution_count": 7,
   "id": "ee0c047e",
   "metadata": {},
   "outputs": [
    {
     "data": {
      "text/plain": [
       "<AxesSubplot:>"
      ]
     },
     "execution_count": 7,
     "metadata": {},
     "output_type": "execute_result"
    },
    {
     "data": {
      "image/png": "[encoded data removed]",
      "text/plain": [
       "<Figure size 432x288 with 2 Axes>"
      ]
     },
     "metadata": {
      "needs_background": "light"
     },
     "output_type": "display_data"
    }
   ],
   "source": [
    "#checking for missing values\n",
    "sns.heatmap(av.isnull())"
   ]
  },
  {
   "cell_type": "markdown",
   "id": "d8c57a30",
   "metadata": {},
   "source": [
    "There are no null or missing values in the above dataset."
   ]
  },
  {
   "cell_type": "code",
   "execution_count": 8,
   "id": "913d436d",
   "metadata": {},
   "outputs": [
    {
     "data": {
      "text/plain": [
       "Unnamed: 0      0\n",
       "Date            0\n",
       "AveragePrice    0\n",
       "Total Volume    0\n",
       "4046            0\n",
       "4225            0\n",
       "4770            0\n",
       "Total Bags      0\n",
       "Small Bags      0\n",
       "Large Bags      0\n",
       "XLarge Bags     0\n",
       "type            0\n",
       "year            0\n",
       "region          0\n",
       "dtype: int64"
      ]
     },
     "execution_count": 8,
     "metadata": {},
     "output_type": "execute_result"
    }
   ],
   "source": [
    "av.isnull().sum()"
   ]
  },
  {
   "cell_type": "markdown",
   "id": "764cf6bd",
   "metadata": {},
   "source": [
    "It shows the null values of each column in the dataset."
   ]
  },
  {
   "cell_type": "code",
   "execution_count": 9,
   "id": "24d6462d",
   "metadata": {},
   "outputs": [
    {
     "data": {
      "text/plain": [
       "0"
      ]
     },
     "execution_count": 9,
     "metadata": {},
     "output_type": "execute_result"
    }
   ],
   "source": [
    "av.isnull().sum().sum()"
   ]
  },
  {
   "cell_type": "markdown",
   "id": "c096ca29",
   "metadata": {},
   "source": [
    "From the above code we can find the null values i.e if there is any single null value present or not."
   ]
  },
  {
   "cell_type": "code",
   "execution_count": 10,
   "id": "b02639bd",
   "metadata": {},
   "outputs": [
    {
     "data": {
      "text/plain": [
       "Unnamed: 0        int64\n",
       "Date             object\n",
       "AveragePrice    float64\n",
       "Total Volume    float64\n",
       "4046            float64\n",
       "4225            float64\n",
       "4770            float64\n",
       "Total Bags      float64\n",
       "Small Bags      float64\n",
       "Large Bags      float64\n",
       "XLarge Bags     float64\n",
       "type             object\n",
       "year              int64\n",
       "region           object\n",
       "dtype: object"
      ]
     },
     "execution_count": 10,
     "metadata": {},
     "output_type": "execute_result"
    }
   ],
   "source": [
    "av.dtypes"
   ]
  },
  {
   "cell_type": "markdown",
   "id": "2570c294",
   "metadata": {},
   "source": [
    "From above code we can observe that the dataset has integer, float and object type datatypes."
   ]
  },
  {
   "cell_type": "code",
   "execution_count": 11,
   "id": "d3be33fb",
   "metadata": {},
   "outputs": [
    {
     "data": {
      "text/html": [
       "<div>\n",
       "<style scoped>\n",
       "    .dataframe tbody tr th:only-of-type {\n",
       "        vertical-align: middle;\n",
       "    }\n",
       "\n",
       "    .dataframe tbody tr th {\n",
       "        vertical-align: top;\n",
       "    }\n",
       "\n",
       "    .dataframe thead th {\n",
       "        text-align: right;\n",
       "    }\n",
       "</style>\n",
       "<table border=\"1\" class=\"dataframe\">\n",
       "  <thead>\n",
       "    <tr style=\"text-align: right;\">\n",
       "      <th></th>\n",
       "      <th>Unnamed: 0</th>\n",
       "      <th>AveragePrice</th>\n",
       "      <th>Total Volume</th>\n",
       "      <th>4046</th>\n",
       "      <th>4225</th>\n",
       "      <th>4770</th>\n",
       "      <th>Total Bags</th>\n",
       "      <th>Small Bags</th>\n",
       "      <th>Large Bags</th>\n",
       "      <th>XLarge Bags</th>\n",
       "      <th>year</th>\n",
       "    </tr>\n",
       "  </thead>\n",
       "  <tbody>\n",
       "    <tr>\n",
       "      <th>Unnamed: 0</th>\n",
       "      <td>1.000000</td>\n",
       "      <td>-0.133008</td>\n",
       "      <td>0.014035</td>\n",
       "      <td>0.017628</td>\n",
       "      <td>0.019829</td>\n",
       "      <td>0.041752</td>\n",
       "      <td>-0.002219</td>\n",
       "      <td>0.000347</td>\n",
       "      <td>-0.009196</td>\n",
       "      <td>-0.011546</td>\n",
       "      <td>-0.171667</td>\n",
       "    </tr>\n",
       "    <tr>\n",
       "      <th>AveragePrice</th>\n",
       "      <td>-0.133008</td>\n",
       "      <td>1.000000</td>\n",
       "      <td>-0.192752</td>\n",
       "      <td>-0.208317</td>\n",
       "      <td>-0.172928</td>\n",
       "      <td>-0.179446</td>\n",
       "      <td>-0.177088</td>\n",
       "      <td>-0.174730</td>\n",
       "      <td>-0.172940</td>\n",
       "      <td>-0.117592</td>\n",
       "      <td>0.093197</td>\n",
       "    </tr>\n",
       "    <tr>\n",
       "      <th>Total Volume</th>\n",
       "      <td>0.014035</td>\n",
       "      <td>-0.192752</td>\n",
       "      <td>1.000000</td>\n",
       "      <td>0.977863</td>\n",
       "      <td>0.974181</td>\n",
       "      <td>0.872202</td>\n",
       "      <td>0.963047</td>\n",
       "      <td>0.967238</td>\n",
       "      <td>0.880640</td>\n",
       "      <td>0.747157</td>\n",
       "      <td>0.017193</td>\n",
       "    </tr>\n",
       "    <tr>\n",
       "      <th>4046</th>\n",
       "      <td>0.017628</td>\n",
       "      <td>-0.208317</td>\n",
       "      <td>0.977863</td>\n",
       "      <td>1.000000</td>\n",
       "      <td>0.926110</td>\n",
       "      <td>0.833389</td>\n",
       "      <td>0.920057</td>\n",
       "      <td>0.925280</td>\n",
       "      <td>0.838645</td>\n",
       "      <td>0.699377</td>\n",
       "      <td>0.003353</td>\n",
       "    </tr>\n",
       "    <tr>\n",
       "      <th>4225</th>\n",
       "      <td>0.019829</td>\n",
       "      <td>-0.172928</td>\n",
       "      <td>0.974181</td>\n",
       "      <td>0.926110</td>\n",
       "      <td>1.000000</td>\n",
       "      <td>0.887855</td>\n",
       "      <td>0.905787</td>\n",
       "      <td>0.916031</td>\n",
       "      <td>0.810015</td>\n",
       "      <td>0.688809</td>\n",
       "      <td>-0.009559</td>\n",
       "    </tr>\n",
       "    <tr>\n",
       "      <th>4770</th>\n",
       "      <td>0.041752</td>\n",
       "      <td>-0.179446</td>\n",
       "      <td>0.872202</td>\n",
       "      <td>0.833389</td>\n",
       "      <td>0.887855</td>\n",
       "      <td>1.000000</td>\n",
       "      <td>0.792314</td>\n",
       "      <td>0.802733</td>\n",
       "      <td>0.698471</td>\n",
       "      <td>0.679861</td>\n",
       "      <td>-0.036531</td>\n",
       "    </tr>\n",
       "    <tr>\n",
       "      <th>Total Bags</th>\n",
       "      <td>-0.002219</td>\n",
       "      <td>-0.177088</td>\n",
       "      <td>0.963047</td>\n",
       "      <td>0.920057</td>\n",
       "      <td>0.905787</td>\n",
       "      <td>0.792314</td>\n",
       "      <td>1.000000</td>\n",
       "      <td>0.994335</td>\n",
       "      <td>0.943009</td>\n",
       "      <td>0.804233</td>\n",
       "      <td>0.071552</td>\n",
       "    </tr>\n",
       "    <tr>\n",
       "      <th>Small Bags</th>\n",
       "      <td>0.000347</td>\n",
       "      <td>-0.174730</td>\n",
       "      <td>0.967238</td>\n",
       "      <td>0.925280</td>\n",
       "      <td>0.916031</td>\n",
       "      <td>0.802733</td>\n",
       "      <td>0.994335</td>\n",
       "      <td>1.000000</td>\n",
       "      <td>0.902589</td>\n",
       "      <td>0.806845</td>\n",
       "      <td>0.063915</td>\n",
       "    </tr>\n",
       "    <tr>\n",
       "      <th>Large Bags</th>\n",
       "      <td>-0.009196</td>\n",
       "      <td>-0.172940</td>\n",
       "      <td>0.880640</td>\n",
       "      <td>0.838645</td>\n",
       "      <td>0.810015</td>\n",
       "      <td>0.698471</td>\n",
       "      <td>0.943009</td>\n",
       "      <td>0.902589</td>\n",
       "      <td>1.000000</td>\n",
       "      <td>0.710858</td>\n",
       "      <td>0.087891</td>\n",
       "    </tr>\n",
       "    <tr>\n",
       "      <th>XLarge Bags</th>\n",
       "      <td>-0.011546</td>\n",
       "      <td>-0.117592</td>\n",
       "      <td>0.747157</td>\n",
       "      <td>0.699377</td>\n",
       "      <td>0.688809</td>\n",
       "      <td>0.679861</td>\n",
       "      <td>0.804233</td>\n",
       "      <td>0.806845</td>\n",
       "      <td>0.710858</td>\n",
       "      <td>1.000000</td>\n",
       "      <td>0.081033</td>\n",
       "    </tr>\n",
       "    <tr>\n",
       "      <th>year</th>\n",
       "      <td>-0.171667</td>\n",
       "      <td>0.093197</td>\n",
       "      <td>0.017193</td>\n",
       "      <td>0.003353</td>\n",
       "      <td>-0.009559</td>\n",
       "      <td>-0.036531</td>\n",
       "      <td>0.071552</td>\n",
       "      <td>0.063915</td>\n",
       "      <td>0.087891</td>\n",
       "      <td>0.081033</td>\n",
       "      <td>1.000000</td>\n",
       "    </tr>\n",
       "  </tbody>\n",
       "</table>\n",
       "</div>"
      ],
      "text/plain": [
       "              Unnamed: 0  AveragePrice  Total Volume      4046      4225  \\\n",
       "Unnamed: 0      1.000000     -0.133008      0.014035  0.017628  0.019829   \n",
       "AveragePrice   -0.133008      1.000000     -0.192752 -0.208317 -0.172928   \n",
       "Total Volume    0.014035     -0.192752      1.000000  0.977863  0.974181   \n",
       "4046            0.017628     -0.208317      0.977863  1.000000  0.926110   \n",
       "4225            0.019829     -0.172928      0.974181  0.926110  1.000000   \n",
       "4770            0.041752     -0.179446      0.872202  0.833389  0.887855   \n",
       "Total Bags     -0.002219     -0.177088      0.963047  0.920057  0.905787   \n",
       "Small Bags      0.000347     -0.174730      0.967238  0.925280  0.916031   \n",
       "Large Bags     -0.009196     -0.172940      0.880640  0.838645  0.810015   \n",
       "XLarge Bags    -0.011546     -0.117592      0.747157  0.699377  0.688809   \n",
       "year           -0.171667      0.093197      0.017193  0.003353 -0.009559   \n",
       "\n",
       "                  4770  Total Bags  Small Bags  Large Bags  XLarge Bags  \\\n",
       "Unnamed: 0    0.041752   -0.002219    0.000347   -0.009196    -0.011546   \n",
       "AveragePrice -0.179446   -0.177088   -0.174730   -0.172940    -0.117592   \n",
       "Total Volume  0.872202    0.963047    0.967238    0.880640     0.747157   \n",
       "4046          0.833389    0.920057    0.925280    0.838645     0.699377   \n",
       "4225          0.887855    0.905787    0.916031    0.810015     0.688809   \n",
       "4770          1.000000    0.792314    0.802733    0.698471     0.679861   \n",
       "Total Bags    0.792314    1.000000    0.994335    0.943009     0.804233   \n",
       "Small Bags    0.802733    0.994335    1.000000    0.902589     0.806845   \n",
       "Large Bags    0.698471    0.943009    0.902589    1.000000     0.710858   \n",
       "XLarge Bags   0.679861    0.804233    0.806845    0.710858     1.000000   \n",
       "year         -0.036531    0.071552    0.063915    0.087891     0.081033   \n",
       "\n",
       "                  year  \n",
       "Unnamed: 0   -0.171667  \n",
       "AveragePrice  0.093197  \n",
       "Total Volume  0.017193  \n",
       "4046          0.003353  \n",
       "4225         -0.009559  \n",
       "4770         -0.036531  \n",
       "Total Bags    0.071552  \n",
       "Small Bags    0.063915  \n",
       "Large Bags    0.087891  \n",
       "XLarge Bags   0.081033  \n",
       "year          1.000000  "
      ]
     },
     "execution_count": 11,
     "metadata": {},
     "output_type": "execute_result"
    }
   ],
   "source": [
    "av.corr()"
   ]
  },
  {
   "cell_type": "markdown",
   "id": "216d8e66",
   "metadata": {},
   "source": [
    "This represents the relationship between each individual column."
   ]
  },
  {
   "cell_type": "code",
   "execution_count": 12,
   "id": "4dcf26ee",
   "metadata": {},
   "outputs": [
    {
     "data": {
      "text/plain": [
       "<AxesSubplot:>"
      ]
     },
     "execution_count": 12,
     "metadata": {},
     "output_type": "execute_result"
    },
    {
     "data": {
      "image/png": "[encoded data removed]",
      "text/plain": [
       "<Figure size 432x288 with 2 Axes>"
      ]
     },
     "metadata": {
      "needs_background": "light"
     },
     "output_type": "display_data"
    }
   ],
   "source": [
    "sns.heatmap(av.corr(),annot=True,fmt='.1g')"
   ]
  },
  {
   "cell_type": "markdown",
   "id": "ccc24e97",
   "metadata": {},
   "source": [
    "So from the above heatmap we can see the relationship and multicolinearity exist in dataset.we can observe that negative correlation is observed between 'average price and large bags and small bags ' also in 'year and 4225'. also multicolinearity is present between 'total volume and 4046' and 'total bags and small bags'. so using appropriate technique we will remove the multicollinarity."
   ]
  },
  {
   "cell_type": "code",
   "execution_count": 13,
   "id": "da470c38",
   "metadata": {},
   "outputs": [
    {
     "data": {
      "text/plain": [
       "Index(['Unnamed: 0', 'Date', 'AveragePrice', 'Total Volume', '4046', '4225',\n",
       "       '4770', 'Total Bags', 'Small Bags', 'Large Bags', 'XLarge Bags', 'type',\n",
       "       'year', 'region'],\n",
       "      dtype='object')"
      ]
     },
     "execution_count": 13,
     "metadata": {},
     "output_type": "execute_result"
    }
   ],
   "source": [
    "av.columns"
   ]
  },
  {
   "cell_type": "code",
   "execution_count": 14,
   "id": "342dc5e3",
   "metadata": {},
   "outputs": [
    {
     "data": {
      "text/plain": [
       "<AxesSubplot:xlabel='AveragePrice', ylabel='Density'>"
      ]
     },
     "execution_count": 14,
     "metadata": {},
     "output_type": "execute_result"
    },
    {
     "data": {
      "image/png": "[encoded data removed]",
      "text/plain": [
       "<Figure size 432x288 with 1 Axes>"
      ]
     },
     "metadata": {
      "needs_background": "light"
     },
     "output_type": "display_data"
    }
   ],
   "source": [
    "sns.distplot(av['AveragePrice'])"
   ]
  },
  {
   "cell_type": "markdown",
   "id": "8a7cc40e",
   "metadata": {},
   "source": [
    "from the above plot we can observe that the average price is in the range between 1.0-2.0 and also data is not normally distributed."
   ]
  },
  {
   "cell_type": "code",
   "execution_count": 15,
   "id": "133af7f5",
   "metadata": {},
   "outputs": [
    {
     "data": {
      "text/plain": [
       "<AxesSubplot:xlabel='Total Volume', ylabel='Density'>"
      ]
     },
     "execution_count": 15,
     "metadata": {},
     "output_type": "execute_result"
    },
    {
     "data": {
      "image/png": "[encoded data removed]",
      "text/plain": [
       "<Figure size 432x288 with 1 Axes>"
      ]
     },
     "metadata": {
      "needs_background": "light"
     },
     "output_type": "display_data"
    }
   ],
   "source": [
    "sns.distplot(av['Total Volume'])"
   ]
  },
  {
   "cell_type": "markdown",
   "id": "b99c37bd",
   "metadata": {},
   "source": [
    "From the above plot we can say that data is righly or positively skewed."
   ]
  },
  {
   "cell_type": "code",
   "execution_count": 16,
   "id": "a6de8c70",
   "metadata": {},
   "outputs": [
    {
     "data": {
      "text/plain": [
       "<AxesSubplot:xlabel='4046', ylabel='Density'>"
      ]
     },
     "execution_count": 16,
     "metadata": {},
     "output_type": "execute_result"
    },
    {
     "data": {
      "image/png": "[encoded data removed]",
      "text/plain": [
       "<Figure size 432x288 with 1 Axes>"
      ]
     },
     "metadata": {
      "needs_background": "light"
     },
     "output_type": "display_data"
    }
   ],
   "source": [
    "sns.distplot(av['4046'])"
   ]
  },
  {
   "cell_type": "code",
   "execution_count": 17,
   "id": "99c597ed",
   "metadata": {},
   "outputs": [
    {
     "data": {
      "text/plain": [
       "<AxesSubplot:xlabel='4225', ylabel='Density'>"
      ]
     },
     "execution_count": 17,
     "metadata": {},
     "output_type": "execute_result"
    },
    {
     "data": {
      "image/png": "[encoded data removed]",
      "text/plain": [
       "<Figure size 432x288 with 1 Axes>"
      ]
     },
     "metadata": {
      "needs_background": "light"
     },
     "output_type": "display_data"
    }
   ],
   "source": [
    "sns.distplot(av['4225'])"
   ]
  },
  {
   "cell_type": "code",
   "execution_count": 18,
   "id": "dd04004e",
   "metadata": {},
   "outputs": [
    {
     "data": {
      "text/plain": [
       "<AxesSubplot:xlabel='XLarge Bags', ylabel='Density'>"
      ]
     },
     "execution_count": 18,
     "metadata": {},
     "output_type": "execute_result"
    },
    {
     "data": {
      "image/png": "[encoded data removed]",
      "text/plain": [
       "<Figure size 432x288 with 1 Axes>"
      ]
     },
     "metadata": {
      "needs_background": "light"
     },
     "output_type": "display_data"
    }
   ],
   "source": [
    "sns.distplot(av['XLarge Bags'])"
   ]
  },
  {
   "cell_type": "markdown",
   "id": "71e311e1",
   "metadata": {},
   "source": [
    "so from above all plots we have concluded that there is skewness presnt inside the dataset. so we will remove the skewness using power transform function."
   ]
  },
  {
   "cell_type": "code",
   "execution_count": 19,
   "id": "07a90673",
   "metadata": {},
   "outputs": [
    {
     "data": {
      "text/plain": [
       "<seaborn.axisgrid.FacetGrid at 0x11d2b97c0>"
      ]
     },
     "execution_count": 19,
     "metadata": {},
     "output_type": "execute_result"
    },
    {
     "data": {
      "image/png": "[encoded data removed]",
      "text/plain": [
       "<Figure size 360x360 with 1 Axes>"
      ]
     },
     "metadata": {
      "needs_background": "light"
     },
     "output_type": "display_data"
    }
   ],
   "source": [
    "sns.catplot(x='type',y='Total Volume',data=av)"
   ]
  },
  {
   "cell_type": "markdown",
   "id": "c95a9418",
   "metadata": {},
   "source": [
    "conventional type avocado is having more total volume that conventional avocado is more sold than organic."
   ]
  },
  {
   "cell_type": "code",
   "execution_count": 20,
   "id": "b4c9b418",
   "metadata": {},
   "outputs": [
    {
     "data": {
      "text/plain": [
       "<seaborn.axisgrid.FacetGrid at 0x105737280>"
      ]
     },
     "execution_count": 20,
     "metadata": {},
     "output_type": "execute_result"
    },
    {
     "data": {
      "image/png": "[encoded data removed]",
      "text/plain": [
       "<Figure size 360x360 with 1 Axes>"
      ]
     },
     "metadata": {
      "needs_background": "light"
     },
     "output_type": "display_data"
    }
   ],
   "source": [
    "sns.catplot(x='type',y='4046',data=av)"
   ]
  },
  {
   "cell_type": "markdown",
   "id": "2dbc0e05",
   "metadata": {},
   "source": [
    "Total number of avocados with PLU 4046 sold which is of conventional type avocado."
   ]
  },
  {
   "cell_type": "code",
   "execution_count": 21,
   "id": "733c5ba2",
   "metadata": {},
   "outputs": [
    {
     "data": {
      "text/plain": [
       "<seaborn.axisgrid.FacetGrid at 0x11d3ac310>"
      ]
     },
     "execution_count": 21,
     "metadata": {},
     "output_type": "execute_result"
    },
    {
     "data": {
      "image/png": "[encoded data removed]",
      "text/plain": [
       "<Figure size 360x360 with 1 Axes>"
      ]
     },
     "metadata": {
      "needs_background": "light"
     },
     "output_type": "display_data"
    }
   ],
   "source": [
    "sns.catplot(x='type',y='Total Bags',data=av)"
   ]
  },
  {
   "cell_type": "code",
   "execution_count": 22,
   "id": "98cfd417",
   "metadata": {},
   "outputs": [
    {
     "data": {
      "image/png": "[encoded data removed]",
      "text/plain": [
       "<Figure size 432x288 with 16 Axes>"
      ]
     },
     "metadata": {
      "needs_background": "light"
     },
     "output_type": "display_data"
    }
   ],
   "source": [
    "#checking skewness\n",
    "av.plot(kind='density',subplots=True,layout=(4,4),sharex=False,legend=False)\n",
    "plt.show()"
   ]
  },
  {
   "cell_type": "markdown",
   "id": "b7fdf452",
   "metadata": {},
   "source": [
    "from the plot, we can observe that there is skewness present in dataset, data are not normally distributed so we need to remove skewness using power transform function. "
   ]
  },
  {
   "cell_type": "code",
   "execution_count": 23,
   "id": "ecacd558",
   "metadata": {},
   "outputs": [
    {
     "data": {
      "text/html": [
       "<div>\n",
       "<style scoped>\n",
       "    .dataframe tbody tr th:only-of-type {\n",
       "        vertical-align: middle;\n",
       "    }\n",
       "\n",
       "    .dataframe tbody tr th {\n",
       "        vertical-align: top;\n",
       "    }\n",
       "\n",
       "    .dataframe thead th {\n",
       "        text-align: right;\n",
       "    }\n",
       "</style>\n",
       "<table border=\"1\" class=\"dataframe\">\n",
       "  <thead>\n",
       "    <tr style=\"text-align: right;\">\n",
       "      <th></th>\n",
       "      <th>Unnamed: 0</th>\n",
       "      <th>Date</th>\n",
       "      <th>AveragePrice</th>\n",
       "      <th>Total Volume</th>\n",
       "      <th>4046</th>\n",
       "      <th>4225</th>\n",
       "      <th>4770</th>\n",
       "      <th>Total Bags</th>\n",
       "      <th>Small Bags</th>\n",
       "      <th>Large Bags</th>\n",
       "      <th>XLarge Bags</th>\n",
       "      <th>type</th>\n",
       "      <th>year</th>\n",
       "      <th>region</th>\n",
       "    </tr>\n",
       "  </thead>\n",
       "  <tbody>\n",
       "    <tr>\n",
       "      <th>0</th>\n",
       "      <td>0</td>\n",
       "      <td>51</td>\n",
       "      <td>1.33</td>\n",
       "      <td>64236.62</td>\n",
       "      <td>1036.74</td>\n",
       "      <td>54454.85</td>\n",
       "      <td>48.16</td>\n",
       "      <td>8696.87</td>\n",
       "      <td>8603.62</td>\n",
       "      <td>93.25</td>\n",
       "      <td>0.0</td>\n",
       "      <td>0</td>\n",
       "      <td>2015</td>\n",
       "      <td>0</td>\n",
       "    </tr>\n",
       "    <tr>\n",
       "      <th>1</th>\n",
       "      <td>1</td>\n",
       "      <td>50</td>\n",
       "      <td>1.35</td>\n",
       "      <td>54876.98</td>\n",
       "      <td>674.28</td>\n",
       "      <td>44638.81</td>\n",
       "      <td>58.33</td>\n",
       "      <td>9505.56</td>\n",
       "      <td>9408.07</td>\n",
       "      <td>97.49</td>\n",
       "      <td>0.0</td>\n",
       "      <td>0</td>\n",
       "      <td>2015</td>\n",
       "      <td>0</td>\n",
       "    </tr>\n",
       "    <tr>\n",
       "      <th>2</th>\n",
       "      <td>2</td>\n",
       "      <td>49</td>\n",
       "      <td>0.93</td>\n",
       "      <td>118220.22</td>\n",
       "      <td>794.70</td>\n",
       "      <td>109149.67</td>\n",
       "      <td>130.50</td>\n",
       "      <td>8145.35</td>\n",
       "      <td>8042.21</td>\n",
       "      <td>103.14</td>\n",
       "      <td>0.0</td>\n",
       "      <td>0</td>\n",
       "      <td>2015</td>\n",
       "      <td>0</td>\n",
       "    </tr>\n",
       "    <tr>\n",
       "      <th>3</th>\n",
       "      <td>3</td>\n",
       "      <td>48</td>\n",
       "      <td>1.08</td>\n",
       "      <td>78992.15</td>\n",
       "      <td>1132.00</td>\n",
       "      <td>71976.41</td>\n",
       "      <td>72.58</td>\n",
       "      <td>5811.16</td>\n",
       "      <td>5677.40</td>\n",
       "      <td>133.76</td>\n",
       "      <td>0.0</td>\n",
       "      <td>0</td>\n",
       "      <td>2015</td>\n",
       "      <td>0</td>\n",
       "    </tr>\n",
       "    <tr>\n",
       "      <th>4</th>\n",
       "      <td>4</td>\n",
       "      <td>47</td>\n",
       "      <td>1.28</td>\n",
       "      <td>51039.60</td>\n",
       "      <td>941.48</td>\n",
       "      <td>43838.39</td>\n",
       "      <td>75.78</td>\n",
       "      <td>6183.95</td>\n",
       "      <td>5986.26</td>\n",
       "      <td>197.69</td>\n",
       "      <td>0.0</td>\n",
       "      <td>0</td>\n",
       "      <td>2015</td>\n",
       "      <td>0</td>\n",
       "    </tr>\n",
       "    <tr>\n",
       "      <th>...</th>\n",
       "      <td>...</td>\n",
       "      <td>...</td>\n",
       "      <td>...</td>\n",
       "      <td>...</td>\n",
       "      <td>...</td>\n",
       "      <td>...</td>\n",
       "      <td>...</td>\n",
       "      <td>...</td>\n",
       "      <td>...</td>\n",
       "      <td>...</td>\n",
       "      <td>...</td>\n",
       "      <td>...</td>\n",
       "      <td>...</td>\n",
       "      <td>...</td>\n",
       "    </tr>\n",
       "    <tr>\n",
       "      <th>18244</th>\n",
       "      <td>7</td>\n",
       "      <td>161</td>\n",
       "      <td>1.63</td>\n",
       "      <td>17074.83</td>\n",
       "      <td>2046.96</td>\n",
       "      <td>1529.20</td>\n",
       "      <td>0.00</td>\n",
       "      <td>13498.67</td>\n",
       "      <td>13066.82</td>\n",
       "      <td>431.85</td>\n",
       "      <td>0.0</td>\n",
       "      <td>1</td>\n",
       "      <td>2018</td>\n",
       "      <td>53</td>\n",
       "    </tr>\n",
       "    <tr>\n",
       "      <th>18245</th>\n",
       "      <td>8</td>\n",
       "      <td>160</td>\n",
       "      <td>1.71</td>\n",
       "      <td>13888.04</td>\n",
       "      <td>1191.70</td>\n",
       "      <td>3431.50</td>\n",
       "      <td>0.00</td>\n",
       "      <td>9264.84</td>\n",
       "      <td>8940.04</td>\n",
       "      <td>324.80</td>\n",
       "      <td>0.0</td>\n",
       "      <td>1</td>\n",
       "      <td>2018</td>\n",
       "      <td>53</td>\n",
       "    </tr>\n",
       "    <tr>\n",
       "      <th>18246</th>\n",
       "      <td>9</td>\n",
       "      <td>159</td>\n",
       "      <td>1.87</td>\n",
       "      <td>13766.76</td>\n",
       "      <td>1191.92</td>\n",
       "      <td>2452.79</td>\n",
       "      <td>727.94</td>\n",
       "      <td>9394.11</td>\n",
       "      <td>9351.80</td>\n",
       "      <td>42.31</td>\n",
       "      <td>0.0</td>\n",
       "      <td>1</td>\n",
       "      <td>2018</td>\n",
       "      <td>53</td>\n",
       "    </tr>\n",
       "    <tr>\n",
       "      <th>18247</th>\n",
       "      <td>10</td>\n",
       "      <td>158</td>\n",
       "      <td>1.93</td>\n",
       "      <td>16205.22</td>\n",
       "      <td>1527.63</td>\n",
       "      <td>2981.04</td>\n",
       "      <td>727.01</td>\n",
       "      <td>10969.54</td>\n",
       "      <td>10919.54</td>\n",
       "      <td>50.00</td>\n",
       "      <td>0.0</td>\n",
       "      <td>1</td>\n",
       "      <td>2018</td>\n",
       "      <td>53</td>\n",
       "    </tr>\n",
       "    <tr>\n",
       "      <th>18248</th>\n",
       "      <td>11</td>\n",
       "      <td>157</td>\n",
       "      <td>1.62</td>\n",
       "      <td>17489.58</td>\n",
       "      <td>2894.77</td>\n",
       "      <td>2356.13</td>\n",
       "      <td>224.53</td>\n",
       "      <td>12014.15</td>\n",
       "      <td>11988.14</td>\n",
       "      <td>26.01</td>\n",
       "      <td>0.0</td>\n",
       "      <td>1</td>\n",
       "      <td>2018</td>\n",
       "      <td>53</td>\n",
       "    </tr>\n",
       "  </tbody>\n",
       "</table>\n",
       "<p>18249 rows × 14 columns</p>\n",
       "</div>"
      ],
      "text/plain": [
       "       Unnamed: 0  Date  AveragePrice  Total Volume     4046       4225  \\\n",
       "0               0    51          1.33      64236.62  1036.74   54454.85   \n",
       "1               1    50          1.35      54876.98   674.28   44638.81   \n",
       "2               2    49          0.93     118220.22   794.70  109149.67   \n",
       "3               3    48          1.08      78992.15  1132.00   71976.41   \n",
       "4               4    47          1.28      51039.60   941.48   43838.39   \n",
       "...           ...   ...           ...           ...      ...        ...   \n",
       "18244           7   161          1.63      17074.83  2046.96    1529.20   \n",
       "18245           8   160          1.71      13888.04  1191.70    3431.50   \n",
       "18246           9   159          1.87      13766.76  1191.92    2452.79   \n",
       "18247          10   158          1.93      16205.22  1527.63    2981.04   \n",
       "18248          11   157          1.62      17489.58  2894.77    2356.13   \n",
       "\n",
       "         4770  Total Bags  Small Bags  Large Bags  XLarge Bags  type  year  \\\n",
       "0       48.16     8696.87     8603.62       93.25          0.0     0  2015   \n",
       "1       58.33     9505.56     9408.07       97.49          0.0     0  2015   \n",
       "2      130.50     8145.35     8042.21      103.14          0.0     0  2015   \n",
       "3       72.58     5811.16     5677.40      133.76          0.0     0  2015   \n",
       "4       75.78     6183.95     5986.26      197.69          0.0     0  2015   \n",
       "...       ...         ...         ...         ...          ...   ...   ...   \n",
       "18244    0.00    13498.67    13066.82      431.85          0.0     1  2018   \n",
       "18245    0.00     9264.84     8940.04      324.80          0.0     1  2018   \n",
       "18246  727.94     9394.11     9351.80       42.31          0.0     1  2018   \n",
       "18247  727.01    10969.54    10919.54       50.00          0.0     1  2018   \n",
       "18248  224.53    12014.15    11988.14       26.01          0.0     1  2018   \n",
       "\n",
       "       region  \n",
       "0           0  \n",
       "1           0  \n",
       "2           0  \n",
       "3           0  \n",
       "4           0  \n",
       "...       ...  \n",
       "18244      53  \n",
       "18245      53  \n",
       "18246      53  \n",
       "18247      53  \n",
       "18248      53  \n",
       "\n",
       "[18249 rows x 14 columns]"
      ]
     },
     "execution_count": 23,
     "metadata": {},
     "output_type": "execute_result"
    }
   ],
   "source": [
    "from sklearn.preprocessing import LabelEncoder\n",
    "# LABEL ENCODING\n",
    "lencode=LabelEncoder()\n",
    "av['type']=lencode.fit_transform(av['type'])\n",
    "av['region']=lencode.fit_transform(av['region'])\n",
    "av['Date']=lencode.fit_transform(av['Date'])\n",
    "av"
   ]
  },
  {
   "cell_type": "code",
   "execution_count": 25,
   "id": "0489fbf3",
   "metadata": {},
   "outputs": [
    {
     "data": {
      "text/plain": [
       "str"
      ]
     },
     "execution_count": 25,
     "metadata": {},
     "output_type": "execute_result"
    }
   ],
   "source": [
    "type('Date')"
   ]
  },
  {
   "cell_type": "code",
   "execution_count": 26,
   "id": "8013e898",
   "metadata": {},
   "outputs": [
    {
     "data": {
      "text/html": [
       "<div>\n",
       "<style scoped>\n",
       "    .dataframe tbody tr th:only-of-type {\n",
       "        vertical-align: middle;\n",
       "    }\n",
       "\n",
       "    .dataframe tbody tr th {\n",
       "        vertical-align: top;\n",
       "    }\n",
       "\n",
       "    .dataframe thead th {\n",
       "        text-align: right;\n",
       "    }\n",
       "</style>\n",
       "<table border=\"1\" class=\"dataframe\">\n",
       "  <thead>\n",
       "    <tr style=\"text-align: right;\">\n",
       "      <th></th>\n",
       "      <th>Unnamed: 0</th>\n",
       "      <th>Date</th>\n",
       "      <th>Total Volume</th>\n",
       "      <th>4046</th>\n",
       "      <th>4225</th>\n",
       "      <th>4770</th>\n",
       "      <th>Total Bags</th>\n",
       "      <th>Small Bags</th>\n",
       "      <th>Large Bags</th>\n",
       "      <th>XLarge Bags</th>\n",
       "      <th>type</th>\n",
       "      <th>year</th>\n",
       "      <th>region</th>\n",
       "    </tr>\n",
       "  </thead>\n",
       "  <tbody>\n",
       "    <tr>\n",
       "      <th>0</th>\n",
       "      <td>0</td>\n",
       "      <td>51</td>\n",
       "      <td>64236.62</td>\n",
       "      <td>1036.74</td>\n",
       "      <td>54454.85</td>\n",
       "      <td>48.16</td>\n",
       "      <td>8696.87</td>\n",
       "      <td>8603.62</td>\n",
       "      <td>93.25</td>\n",
       "      <td>0.0</td>\n",
       "      <td>0</td>\n",
       "      <td>2015</td>\n",
       "      <td>0</td>\n",
       "    </tr>\n",
       "    <tr>\n",
       "      <th>1</th>\n",
       "      <td>1</td>\n",
       "      <td>50</td>\n",
       "      <td>54876.98</td>\n",
       "      <td>674.28</td>\n",
       "      <td>44638.81</td>\n",
       "      <td>58.33</td>\n",
       "      <td>9505.56</td>\n",
       "      <td>9408.07</td>\n",
       "      <td>97.49</td>\n",
       "      <td>0.0</td>\n",
       "      <td>0</td>\n",
       "      <td>2015</td>\n",
       "      <td>0</td>\n",
       "    </tr>\n",
       "    <tr>\n",
       "      <th>2</th>\n",
       "      <td>2</td>\n",
       "      <td>49</td>\n",
       "      <td>118220.22</td>\n",
       "      <td>794.70</td>\n",
       "      <td>109149.67</td>\n",
       "      <td>130.50</td>\n",
       "      <td>8145.35</td>\n",
       "      <td>8042.21</td>\n",
       "      <td>103.14</td>\n",
       "      <td>0.0</td>\n",
       "      <td>0</td>\n",
       "      <td>2015</td>\n",
       "      <td>0</td>\n",
       "    </tr>\n",
       "    <tr>\n",
       "      <th>3</th>\n",
       "      <td>3</td>\n",
       "      <td>48</td>\n",
       "      <td>78992.15</td>\n",
       "      <td>1132.00</td>\n",
       "      <td>71976.41</td>\n",
       "      <td>72.58</td>\n",
       "      <td>5811.16</td>\n",
       "      <td>5677.40</td>\n",
       "      <td>133.76</td>\n",
       "      <td>0.0</td>\n",
       "      <td>0</td>\n",
       "      <td>2015</td>\n",
       "      <td>0</td>\n",
       "    </tr>\n",
       "    <tr>\n",
       "      <th>4</th>\n",
       "      <td>4</td>\n",
       "      <td>47</td>\n",
       "      <td>51039.60</td>\n",
       "      <td>941.48</td>\n",
       "      <td>43838.39</td>\n",
       "      <td>75.78</td>\n",
       "      <td>6183.95</td>\n",
       "      <td>5986.26</td>\n",
       "      <td>197.69</td>\n",
       "      <td>0.0</td>\n",
       "      <td>0</td>\n",
       "      <td>2015</td>\n",
       "      <td>0</td>\n",
       "    </tr>\n",
       "    <tr>\n",
       "      <th>...</th>\n",
       "      <td>...</td>\n",
       "      <td>...</td>\n",
       "      <td>...</td>\n",
       "      <td>...</td>\n",
       "      <td>...</td>\n",
       "      <td>...</td>\n",
       "      <td>...</td>\n",
       "      <td>...</td>\n",
       "      <td>...</td>\n",
       "      <td>...</td>\n",
       "      <td>...</td>\n",
       "      <td>...</td>\n",
       "      <td>...</td>\n",
       "    </tr>\n",
       "    <tr>\n",
       "      <th>18244</th>\n",
       "      <td>7</td>\n",
       "      <td>161</td>\n",
       "      <td>17074.83</td>\n",
       "      <td>2046.96</td>\n",
       "      <td>1529.20</td>\n",
       "      <td>0.00</td>\n",
       "      <td>13498.67</td>\n",
       "      <td>13066.82</td>\n",
       "      <td>431.85</td>\n",
       "      <td>0.0</td>\n",
       "      <td>1</td>\n",
       "      <td>2018</td>\n",
       "      <td>53</td>\n",
       "    </tr>\n",
       "    <tr>\n",
       "      <th>18245</th>\n",
       "      <td>8</td>\n",
       "      <td>160</td>\n",
       "      <td>13888.04</td>\n",
       "      <td>1191.70</td>\n",
       "      <td>3431.50</td>\n",
       "      <td>0.00</td>\n",
       "      <td>9264.84</td>\n",
       "      <td>8940.04</td>\n",
       "      <td>324.80</td>\n",
       "      <td>0.0</td>\n",
       "      <td>1</td>\n",
       "      <td>2018</td>\n",
       "      <td>53</td>\n",
       "    </tr>\n",
       "    <tr>\n",
       "      <th>18246</th>\n",
       "      <td>9</td>\n",
       "      <td>159</td>\n",
       "      <td>13766.76</td>\n",
       "      <td>1191.92</td>\n",
       "      <td>2452.79</td>\n",
       "      <td>727.94</td>\n",
       "      <td>9394.11</td>\n",
       "      <td>9351.80</td>\n",
       "      <td>42.31</td>\n",
       "      <td>0.0</td>\n",
       "      <td>1</td>\n",
       "      <td>2018</td>\n",
       "      <td>53</td>\n",
       "    </tr>\n",
       "    <tr>\n",
       "      <th>18247</th>\n",
       "      <td>10</td>\n",
       "      <td>158</td>\n",
       "      <td>16205.22</td>\n",
       "      <td>1527.63</td>\n",
       "      <td>2981.04</td>\n",
       "      <td>727.01</td>\n",
       "      <td>10969.54</td>\n",
       "      <td>10919.54</td>\n",
       "      <td>50.00</td>\n",
       "      <td>0.0</td>\n",
       "      <td>1</td>\n",
       "      <td>2018</td>\n",
       "      <td>53</td>\n",
       "    </tr>\n",
       "    <tr>\n",
       "      <th>18248</th>\n",
       "      <td>11</td>\n",
       "      <td>157</td>\n",
       "      <td>17489.58</td>\n",
       "      <td>2894.77</td>\n",
       "      <td>2356.13</td>\n",
       "      <td>224.53</td>\n",
       "      <td>12014.15</td>\n",
       "      <td>11988.14</td>\n",
       "      <td>26.01</td>\n",
       "      <td>0.0</td>\n",
       "      <td>1</td>\n",
       "      <td>2018</td>\n",
       "      <td>53</td>\n",
       "    </tr>\n",
       "  </tbody>\n",
       "</table>\n",
       "<p>18249 rows × 13 columns</p>\n",
       "</div>"
      ],
      "text/plain": [
       "       Unnamed: 0  Date  Total Volume     4046       4225    4770  Total Bags  \\\n",
       "0               0    51      64236.62  1036.74   54454.85   48.16     8696.87   \n",
       "1               1    50      54876.98   674.28   44638.81   58.33     9505.56   \n",
       "2               2    49     118220.22   794.70  109149.67  130.50     8145.35   \n",
       "3               3    48      78992.15  1132.00   71976.41   72.58     5811.16   \n",
       "4               4    47      51039.60   941.48   43838.39   75.78     6183.95   \n",
       "...           ...   ...           ...      ...        ...     ...         ...   \n",
       "18244           7   161      17074.83  2046.96    1529.20    0.00    13498.67   \n",
       "18245           8   160      13888.04  1191.70    3431.50    0.00     9264.84   \n",
       "18246           9   159      13766.76  1191.92    2452.79  727.94     9394.11   \n",
       "18247          10   158      16205.22  1527.63    2981.04  727.01    10969.54   \n",
       "18248          11   157      17489.58  2894.77    2356.13  224.53    12014.15   \n",
       "\n",
       "       Small Bags  Large Bags  XLarge Bags  type  year  region  \n",
       "0         8603.62       93.25          0.0     0  2015       0  \n",
       "1         9408.07       97.49          0.0     0  2015       0  \n",
       "2         8042.21      103.14          0.0     0  2015       0  \n",
       "3         5677.40      133.76          0.0     0  2015       0  \n",
       "4         5986.26      197.69          0.0     0  2015       0  \n",
       "...           ...         ...          ...   ...   ...     ...  \n",
       "18244    13066.82      431.85          0.0     1  2018      53  \n",
       "18245     8940.04      324.80          0.0     1  2018      53  \n",
       "18246     9351.80       42.31          0.0     1  2018      53  \n",
       "18247    10919.54       50.00          0.0     1  2018      53  \n",
       "18248    11988.14       26.01          0.0     1  2018      53  \n",
       "\n",
       "[18249 rows x 13 columns]"
      ]
     },
     "execution_count": 26,
     "metadata": {},
     "output_type": "execute_result"
    }
   ],
   "source": [
    "#splitting data into independent variable and target variable\n",
    "x=av.drop('AveragePrice',axis=1)\n",
    "x"
   ]
  },
  {
   "cell_type": "code",
   "execution_count": 27,
   "id": "44c12361",
   "metadata": {},
   "outputs": [
    {
     "data": {
      "text/plain": [
       "0        1.33\n",
       "1        1.35\n",
       "2        0.93\n",
       "3        1.08\n",
       "4        1.28\n",
       "         ... \n",
       "18244    1.63\n",
       "18245    1.71\n",
       "18246    1.87\n",
       "18247    1.93\n",
       "18248    1.62\n",
       "Name: AveragePrice, Length: 18249, dtype: float64"
      ]
     },
     "execution_count": 27,
     "metadata": {},
     "output_type": "execute_result"
    }
   ],
   "source": [
    "y=av.iloc[:,2]\n",
    "y"
   ]
  },
  {
   "cell_type": "code",
   "execution_count": 28,
   "id": "df3fe8fc",
   "metadata": {},
   "outputs": [],
   "source": [
    "from scipy.stats import skew"
   ]
  },
  {
   "cell_type": "code",
   "execution_count": 29,
   "id": "cc4210b2",
   "metadata": {},
   "outputs": [
    {
     "data": {
      "text/plain": [
       "XLarge Bags     13.139751\n",
       "4770            10.159396\n",
       "Large Bags       9.796455\n",
       "Total Bags       9.756072\n",
       "Small Bags       9.540660\n",
       "Total Volume     9.007687\n",
       "4225             8.942466\n",
       "4046             8.648220\n",
       "year             0.215339\n",
       "Unnamed: 0       0.108334\n",
       "type             0.000329\n",
       "Date             0.000117\n",
       "region           0.000030\n",
       "dtype: float64"
      ]
     },
     "execution_count": 29,
     "metadata": {},
     "output_type": "execute_result"
    }
   ],
   "source": [
    "x.skew().sort_values(ascending=False)"
   ]
  },
  {
   "cell_type": "code",
   "execution_count": 30,
   "id": "b20fa54d",
   "metadata": {},
   "outputs": [
    {
     "data": {
      "text/plain": [
       "numpy.ndarray"
      ]
     },
     "execution_count": 30,
     "metadata": {},
     "output_type": "execute_result"
    }
   ],
   "source": [
    "from sklearn.preprocessing import power_transform\n",
    "x_new=power_transform(x)\n",
    "type(x_new)"
   ]
  },
  {
   "cell_type": "code",
   "execution_count": 31,
   "id": "7565906e",
   "metadata": {},
   "outputs": [
    {
     "data": {
      "text/html": [
       "<div>\n",
       "<style scoped>\n",
       "    .dataframe tbody tr th:only-of-type {\n",
       "        vertical-align: middle;\n",
       "    }\n",
       "\n",
       "    .dataframe tbody tr th {\n",
       "        vertical-align: top;\n",
       "    }\n",
       "\n",
       "    .dataframe thead th {\n",
       "        text-align: right;\n",
       "    }\n",
       "</style>\n",
       "<table border=\"1\" class=\"dataframe\">\n",
       "  <thead>\n",
       "    <tr style=\"text-align: right;\">\n",
       "      <th></th>\n",
       "      <th>Unnamed: 0</th>\n",
       "      <th>Date</th>\n",
       "      <th>Total Volume</th>\n",
       "      <th>4046</th>\n",
       "      <th>4225</th>\n",
       "      <th>4770</th>\n",
       "      <th>Total Bags</th>\n",
       "      <th>Small Bags</th>\n",
       "      <th>Large Bags</th>\n",
       "      <th>XLarge Bags</th>\n",
       "      <th>type</th>\n",
       "      <th>year</th>\n",
       "      <th>region</th>\n",
       "    </tr>\n",
       "  </thead>\n",
       "  <tbody>\n",
       "    <tr>\n",
       "      <th>0</th>\n",
       "      <td>-1.968845</td>\n",
       "      <td>-0.583054</td>\n",
       "      <td>-0.086605</td>\n",
       "      <td>-0.658619</td>\n",
       "      <td>0.307313</td>\n",
       "      <td>-0.247250</td>\n",
       "      <td>-0.524004</td>\n",
       "      <td>-0.340627</td>\n",
       "      <td>-0.773351</td>\n",
       "      <td>-0.699849</td>\n",
       "      <td>-0.999836</td>\n",
       "      <td>-1.221895</td>\n",
       "      <td>-2.011552</td>\n",
       "    </tr>\n",
       "    <tr>\n",
       "      <th>1</th>\n",
       "      <td>-1.792619</td>\n",
       "      <td>-0.605325</td>\n",
       "      <td>-0.155746</td>\n",
       "      <td>-0.776870</td>\n",
       "      <td>0.231647</td>\n",
       "      <td>-0.201041</td>\n",
       "      <td>-0.485890</td>\n",
       "      <td>-0.306425</td>\n",
       "      <td>-0.763435</td>\n",
       "      <td>-0.699849</td>\n",
       "      <td>-0.999836</td>\n",
       "      <td>-1.221895</td>\n",
       "      <td>-2.011552</td>\n",
       "    </tr>\n",
       "    <tr>\n",
       "      <th>2</th>\n",
       "      <td>-1.648366</td>\n",
       "      <td>-0.627722</td>\n",
       "      <td>0.179327</td>\n",
       "      <td>-0.731947</td>\n",
       "      <td>0.579503</td>\n",
       "      <td>-0.007072</td>\n",
       "      <td>-0.552018</td>\n",
       "      <td>-0.366303</td>\n",
       "      <td>-0.750820</td>\n",
       "      <td>-0.699849</td>\n",
       "      <td>-0.999836</td>\n",
       "      <td>-1.221895</td>\n",
       "      <td>-2.011552</td>\n",
       "    </tr>\n",
       "    <tr>\n",
       "      <th>3</th>\n",
       "      <td>-1.521609</td>\n",
       "      <td>-0.650247</td>\n",
       "      <td>0.003876</td>\n",
       "      <td>-0.634200</td>\n",
       "      <td>0.415100</td>\n",
       "      <td>-0.148322</td>\n",
       "      <td>-0.695449</td>\n",
       "      <td>-0.496853</td>\n",
       "      <td>-0.691865</td>\n",
       "      <td>-0.699849</td>\n",
       "      <td>-0.999836</td>\n",
       "      <td>-1.221895</td>\n",
       "      <td>-2.011552</td>\n",
       "    </tr>\n",
       "    <tr>\n",
       "      <th>4</th>\n",
       "      <td>-1.406451</td>\n",
       "      <td>-0.672903</td>\n",
       "      <td>-0.187640</td>\n",
       "      <td>-0.685293</td>\n",
       "      <td>0.224806</td>\n",
       "      <td>-0.137918</td>\n",
       "      <td>-0.669157</td>\n",
       "      <td>-0.477201</td>\n",
       "      <td>-0.600975</td>\n",
       "      <td>-0.699849</td>\n",
       "      <td>-0.999836</td>\n",
       "      <td>-1.221895</td>\n",
       "      <td>-2.011552</td>\n",
       "    </tr>\n",
       "    <tr>\n",
       "      <th>...</th>\n",
       "      <td>...</td>\n",
       "      <td>...</td>\n",
       "      <td>...</td>\n",
       "      <td>...</td>\n",
       "      <td>...</td>\n",
       "      <td>...</td>\n",
       "      <td>...</td>\n",
       "      <td>...</td>\n",
       "      <td>...</td>\n",
       "      <td>...</td>\n",
       "      <td>...</td>\n",
       "      <td>...</td>\n",
       "      <td>...</td>\n",
       "    </tr>\n",
       "    <tr>\n",
       "      <th>18244</th>\n",
       "      <td>-1.104831</td>\n",
       "      <td>1.440963</td>\n",
       "      <td>-0.674587</td>\n",
       "      <td>-0.467366</td>\n",
       "      <td>-0.919470</td>\n",
       "      <td>-1.238310</td>\n",
       "      <td>-0.334466</td>\n",
       "      <td>-0.178839</td>\n",
       "      <td>-0.410859</td>\n",
       "      <td>-0.699849</td>\n",
       "      <td>1.000164</td>\n",
       "      <td>1.968548</td>\n",
       "      <td>1.543838</td>\n",
       "    </tr>\n",
       "    <tr>\n",
       "      <th>18245</th>\n",
       "      <td>-1.014414</td>\n",
       "      <td>1.424894</td>\n",
       "      <td>-0.767550</td>\n",
       "      <td>-0.619883</td>\n",
       "      <td>-0.665372</td>\n",
       "      <td>-1.238310</td>\n",
       "      <td>-0.496897</td>\n",
       "      <td>-0.325977</td>\n",
       "      <td>-0.481465</td>\n",
       "      <td>-0.699849</td>\n",
       "      <td>1.000164</td>\n",
       "      <td>1.968548</td>\n",
       "      <td>1.543838</td>\n",
       "    </tr>\n",
       "    <tr>\n",
       "      <th>18246</th>\n",
       "      <td>-0.927735</td>\n",
       "      <td>1.408796</td>\n",
       "      <td>-0.771505</td>\n",
       "      <td>-0.619831</td>\n",
       "      <td>-0.772496</td>\n",
       "      <td>0.401546</td>\n",
       "      <td>-0.490952</td>\n",
       "      <td>-0.308728</td>\n",
       "      <td>-0.943486</td>\n",
       "      <td>-0.699849</td>\n",
       "      <td>1.000164</td>\n",
       "      <td>1.968548</td>\n",
       "      <td>1.543838</td>\n",
       "    </tr>\n",
       "    <tr>\n",
       "      <th>18247</th>\n",
       "      <td>-0.844286</td>\n",
       "      <td>1.392669</td>\n",
       "      <td>-0.698077</td>\n",
       "      <td>-0.550282</td>\n",
       "      <td>-0.710543</td>\n",
       "      <td>0.401246</td>\n",
       "      <td>-0.424252</td>\n",
       "      <td>-0.248932</td>\n",
       "      <td>-0.908510</td>\n",
       "      <td>-0.699849</td>\n",
       "      <td>1.000164</td>\n",
       "      <td>1.968548</td>\n",
       "      <td>1.543838</td>\n",
       "    </tr>\n",
       "    <tr>\n",
       "      <th>18248</th>\n",
       "      <td>-0.763669</td>\n",
       "      <td>1.376514</td>\n",
       "      <td>-0.663809</td>\n",
       "      <td>-0.367908</td>\n",
       "      <td>-0.785173</td>\n",
       "      <td>0.122919</td>\n",
       "      <td>-0.384961</td>\n",
       "      <td>-0.212590</td>\n",
       "      <td>-1.042250</td>\n",
       "      <td>-0.699849</td>\n",
       "      <td>1.000164</td>\n",
       "      <td>1.968548</td>\n",
       "      <td>1.543838</td>\n",
       "    </tr>\n",
       "  </tbody>\n",
       "</table>\n",
       "<p>18249 rows × 13 columns</p>\n",
       "</div>"
      ],
      "text/plain": [
       "       Unnamed: 0      Date  Total Volume      4046      4225      4770  \\\n",
       "0       -1.968845 -0.583054     -0.086605 -0.658619  0.307313 -0.247250   \n",
       "1       -1.792619 -0.605325     -0.155746 -0.776870  0.231647 -0.201041   \n",
       "2       -1.648366 -0.627722      0.179327 -0.731947  0.579503 -0.007072   \n",
       "3       -1.521609 -0.650247      0.003876 -0.634200  0.415100 -0.148322   \n",
       "4       -1.406451 -0.672903     -0.187640 -0.685293  0.224806 -0.137918   \n",
       "...           ...       ...           ...       ...       ...       ...   \n",
       "18244   -1.104831  1.440963     -0.674587 -0.467366 -0.919470 -1.238310   \n",
       "18245   -1.014414  1.424894     -0.767550 -0.619883 -0.665372 -1.238310   \n",
       "18246   -0.927735  1.408796     -0.771505 -0.619831 -0.772496  0.401546   \n",
       "18247   -0.844286  1.392669     -0.698077 -0.550282 -0.710543  0.401246   \n",
       "18248   -0.763669  1.376514     -0.663809 -0.367908 -0.785173  0.122919   \n",
       "\n",
       "       Total Bags  Small Bags  Large Bags  XLarge Bags      type      year  \\\n",
       "0       -0.524004   -0.340627   -0.773351    -0.699849 -0.999836 -1.221895   \n",
       "1       -0.485890   -0.306425   -0.763435    -0.699849 -0.999836 -1.221895   \n",
       "2       -0.552018   -0.366303   -0.750820    -0.699849 -0.999836 -1.221895   \n",
       "3       -0.695449   -0.496853   -0.691865    -0.699849 -0.999836 -1.221895   \n",
       "4       -0.669157   -0.477201   -0.600975    -0.699849 -0.999836 -1.221895   \n",
       "...           ...         ...         ...          ...       ...       ...   \n",
       "18244   -0.334466   -0.178839   -0.410859    -0.699849  1.000164  1.968548   \n",
       "18245   -0.496897   -0.325977   -0.481465    -0.699849  1.000164  1.968548   \n",
       "18246   -0.490952   -0.308728   -0.943486    -0.699849  1.000164  1.968548   \n",
       "18247   -0.424252   -0.248932   -0.908510    -0.699849  1.000164  1.968548   \n",
       "18248   -0.384961   -0.212590   -1.042250    -0.699849  1.000164  1.968548   \n",
       "\n",
       "         region  \n",
       "0     -2.011552  \n",
       "1     -2.011552  \n",
       "2     -2.011552  \n",
       "3     -2.011552  \n",
       "4     -2.011552  \n",
       "...         ...  \n",
       "18244  1.543838  \n",
       "18245  1.543838  \n",
       "18246  1.543838  \n",
       "18247  1.543838  \n",
       "18248  1.543838  \n",
       "\n",
       "[18249 rows x 13 columns]"
      ]
     },
     "execution_count": 31,
     "metadata": {},
     "output_type": "execute_result"
    }
   ],
   "source": [
    "x=pd.DataFrame(x_new,columns=x.columns)\n",
    "x"
   ]
  },
  {
   "cell_type": "code",
   "execution_count": 32,
   "id": "0d2e25aa",
   "metadata": {},
   "outputs": [
    {
     "data": {
      "text/plain": [
       "XLarge Bags     0.793520\n",
       "year            0.213156\n",
       "4770            0.032184\n",
       "Total Volume    0.011171\n",
       "Small Bags      0.007058\n",
       "type            0.000329\n",
       "Total Bags     -0.001626\n",
       "4225           -0.017740\n",
       "4046           -0.022679\n",
       "Large Bags     -0.073809\n",
       "Unnamed: 0     -0.242585\n",
       "region         -0.261443\n",
       "Date           -0.277806\n",
       "dtype: float64"
      ]
     },
     "execution_count": 32,
     "metadata": {},
     "output_type": "execute_result"
    }
   ],
   "source": [
    "x.skew().sort_values(ascending=False)"
   ]
  },
  {
   "cell_type": "code",
   "execution_count": 33,
   "id": "30395472",
   "metadata": {},
   "outputs": [],
   "source": [
    "nw=x.skew()"
   ]
  },
  {
   "cell_type": "code",
   "execution_count": 34,
   "id": "b7704afc",
   "metadata": {},
   "outputs": [
    {
     "data": {
      "text/plain": [
       "Unnamed: 0     -0.242585\n",
       "Date           -0.277806\n",
       "Total Volume    0.011171\n",
       "4046           -0.022679\n",
       "4225           -0.017740\n",
       "4770            0.032184\n",
       "Total Bags     -0.001626\n",
       "Small Bags      0.007058\n",
       "Large Bags     -0.073809\n",
       "XLarge Bags     0.793520\n",
       "type            0.000329\n",
       "year            0.213156\n",
       "region         -0.261443\n",
       "dtype: float64"
      ]
     },
     "execution_count": 34,
     "metadata": {},
     "output_type": "execute_result"
    }
   ],
   "source": [
    "nw"
   ]
  },
  {
   "cell_type": "markdown",
   "id": "f4be06ac",
   "metadata": {},
   "source": [
    "so we have removed the skewness from the data."
   ]
  },
  {
   "cell_type": "code",
   "execution_count": 35,
   "id": "b7facc5e",
   "metadata": {},
   "outputs": [
    {
     "data": {
      "text/plain": [
       "{'whiskers': [<matplotlib.lines.Line2D at 0x1057bca00>,\n",
       "  <matplotlib.lines.Line2D at 0x1057bcd60>],\n",
       " 'caps': [<matplotlib.lines.Line2D at 0x1057c9100>,\n",
       "  <matplotlib.lines.Line2D at 0x1057c9460>],\n",
       " 'boxes': [<matplotlib.lines.Line2D at 0x1057bc6a0>],\n",
       " 'medians': [<matplotlib.lines.Line2D at 0x1057c97c0>],\n",
       " 'fliers': [<matplotlib.lines.Line2D at 0x1057c9b20>],\n",
       " 'means': []}"
      ]
     },
     "execution_count": 35,
     "metadata": {},
     "output_type": "execute_result"
    },
    {
     "data": {
      "image/png": "[encoded data removed]",
      "text/plain": [
       "<Figure size 432x288 with 1 Axes>"
      ]
     },
     "metadata": {
      "needs_background": "light"
     },
     "output_type": "display_data"
    }
   ],
   "source": [
    "#CHECKING OUTLIERS\n",
    "plt.boxplot(av['Date'])"
   ]
  },
  {
   "cell_type": "markdown",
   "id": "e6d6c427",
   "metadata": {},
   "source": [
    "no outliers present"
   ]
  },
  {
   "cell_type": "code",
   "execution_count": 36,
   "id": "be20e3b3",
   "metadata": {},
   "outputs": [
    {
     "data": {
      "text/plain": [
       "{'whiskers': [<matplotlib.lines.Line2D at 0x11e70ba90>,\n",
       "  <matplotlib.lines.Line2D at 0x11e709790>],\n",
       " 'caps': [<matplotlib.lines.Line2D at 0x11e709b20>,\n",
       "  <matplotlib.lines.Line2D at 0x1057d4670>],\n",
       " 'boxes': [<matplotlib.lines.Line2D at 0x11e70b280>],\n",
       " 'medians': [<matplotlib.lines.Line2D at 0x1057d4e20>],\n",
       " 'fliers': [<matplotlib.lines.Line2D at 0x1057d4c40>],\n",
       " 'means': []}"
      ]
     },
     "execution_count": 36,
     "metadata": {},
     "output_type": "execute_result"
    },
    {
     "data": {
      "image/png": "[encoded data removed]",
      "text/plain": [
       "<Figure size 432x288 with 1 Axes>"
      ]
     },
     "metadata": {
      "needs_background": "light"
     },
     "output_type": "display_data"
    }
   ],
   "source": [
    "plt.boxplot(av['Total Volume'])"
   ]
  },
  {
   "cell_type": "markdown",
   "id": "930f80df",
   "metadata": {},
   "source": [
    "so many outliers are present"
   ]
  },
  {
   "cell_type": "code",
   "execution_count": 37,
   "id": "28a86106",
   "metadata": {},
   "outputs": [
    {
     "data": {
      "text/plain": [
       "{'whiskers': [<matplotlib.lines.Line2D at 0x11d740ca0>,\n",
       "  <matplotlib.lines.Line2D at 0x11d740e50>],\n",
       " 'caps': [<matplotlib.lines.Line2D at 0x11d7405e0>,\n",
       "  <matplotlib.lines.Line2D at 0x11c0b0580>],\n",
       " 'boxes': [<matplotlib.lines.Line2D at 0x11d740400>],\n",
       " 'medians': [<matplotlib.lines.Line2D at 0x11c0b0b80>],\n",
       " 'fliers': [<matplotlib.lines.Line2D at 0x11c0b0e80>],\n",
       " 'means': []}"
      ]
     },
     "execution_count": 37,
     "metadata": {},
     "output_type": "execute_result"
    },
    {
     "data": {
      "image/png": "[encoded data removed]",
      "text/plain": [
       "<Figure size 432x288 with 1 Axes>"
      ]
     },
     "metadata": {
      "needs_background": "light"
     },
     "output_type": "display_data"
    }
   ],
   "source": [
    "plt.boxplot(av['4046'])"
   ]
  },
  {
   "cell_type": "markdown",
   "id": "75990de3",
   "metadata": {},
   "source": [
    "there are so many outliers present in the 4046(Total number of avocados with PLU 4046 sold) column."
   ]
  },
  {
   "cell_type": "code",
   "execution_count": 38,
   "id": "d688ae67",
   "metadata": {},
   "outputs": [
    {
     "data": {
      "text/plain": [
       "{'whiskers': [<matplotlib.lines.Line2D at 0x11d9321c0>,\n",
       "  <matplotlib.lines.Line2D at 0x11d925700>],\n",
       " 'caps': [<matplotlib.lines.Line2D at 0x11d925d90>,\n",
       "  <matplotlib.lines.Line2D at 0x11d925eb0>],\n",
       " 'boxes': [<matplotlib.lines.Line2D at 0x11d9325e0>],\n",
       " 'medians': [<matplotlib.lines.Line2D at 0x11d9252e0>],\n",
       " 'fliers': [<matplotlib.lines.Line2D at 0x11d999850>],\n",
       " 'means': []}"
      ]
     },
     "execution_count": 38,
     "metadata": {},
     "output_type": "execute_result"
    },
    {
     "data": {
      "image/png": "[encoded data removed]",
      "text/plain": [
       "<Figure size 432x288 with 1 Axes>"
      ]
     },
     "metadata": {
      "needs_background": "light"
     },
     "output_type": "display_data"
    }
   ],
   "source": [
    "plt.boxplot(av['4225'])"
   ]
  },
  {
   "cell_type": "markdown",
   "id": "d3ff46f6",
   "metadata": {},
   "source": [
    "there are so many outliers present in the 4225(Total number of avocados with PLU 4225 sold) column."
   ]
  },
  {
   "cell_type": "code",
   "execution_count": 39,
   "id": "613f5433",
   "metadata": {},
   "outputs": [
    {
     "data": {
      "text/plain": [
       "{'whiskers': [<matplotlib.lines.Line2D at 0x11df6fa90>,\n",
       "  <matplotlib.lines.Line2D at 0x11df6fca0>],\n",
       " 'caps': [<matplotlib.lines.Line2D at 0x11df6fc10>,\n",
       "  <matplotlib.lines.Line2D at 0x11dd57d60>],\n",
       " 'boxes': [<matplotlib.lines.Line2D at 0x11df78d60>],\n",
       " 'medians': [<matplotlib.lines.Line2D at 0x11dd57eb0>],\n",
       " 'fliers': [<matplotlib.lines.Line2D at 0x11dd57700>],\n",
       " 'means': []}"
      ]
     },
     "execution_count": 39,
     "metadata": {},
     "output_type": "execute_result"
    },
    {
     "data": {
      "image/png": "[encoded data removed]",
      "text/plain": [
       "<Figure size 432x288 with 1 Axes>"
      ]
     },
     "metadata": {
      "needs_background": "light"
     },
     "output_type": "display_data"
    }
   ],
   "source": [
    "plt.boxplot(av['4770'])"
   ]
  },
  {
   "cell_type": "markdown",
   "id": "df07eb8b",
   "metadata": {},
   "source": [
    "there are so many outliers present in the 4770(Total number of avocados with PLU 4770 sold) column."
   ]
  },
  {
   "cell_type": "code",
   "execution_count": 40,
   "id": "873c1064",
   "metadata": {},
   "outputs": [
    {
     "data": {
      "text/plain": [
       "{'whiskers': [<matplotlib.lines.Line2D at 0x11dedf6a0>,\n",
       "  <matplotlib.lines.Line2D at 0x11dedf8b0>],\n",
       " 'caps': [<matplotlib.lines.Line2D at 0x11dedfd60>,\n",
       "  <matplotlib.lines.Line2D at 0x11df41400>],\n",
       " 'boxes': [<matplotlib.lines.Line2D at 0x11dedfe80>],\n",
       " 'medians': [<matplotlib.lines.Line2D at 0x11df41d00>],\n",
       " 'fliers': [<matplotlib.lines.Line2D at 0x11df41100>],\n",
       " 'means': []}"
      ]
     },
     "execution_count": 40,
     "metadata": {},
     "output_type": "execute_result"
    },
    {
     "data": {
      "image/png": "[encoded data removed]",
      "text/plain": [
       "<Figure size 432x288 with 1 Axes>"
      ]
     },
     "metadata": {
      "needs_background": "light"
     },
     "output_type": "display_data"
    }
   ],
   "source": [
    "plt.boxplot(av['Total Bags'])"
   ]
  },
  {
   "cell_type": "code",
   "execution_count": 41,
   "id": "d944f6b5",
   "metadata": {},
   "outputs": [
    {
     "data": {
      "text/plain": [
       "{'whiskers': [<matplotlib.lines.Line2D at 0x11dec5d30>,\n",
       "  <matplotlib.lines.Line2D at 0x11bb863d0>],\n",
       " 'caps': [<matplotlib.lines.Line2D at 0x11bb86b20>,\n",
       "  <matplotlib.lines.Line2D at 0x11bb86520>],\n",
       " 'boxes': [<matplotlib.lines.Line2D at 0x11dec5880>],\n",
       " 'medians': [<matplotlib.lines.Line2D at 0x11bbbad30>],\n",
       " 'fliers': [<matplotlib.lines.Line2D at 0x11bbba760>],\n",
       " 'means': []}"
      ]
     },
     "execution_count": 41,
     "metadata": {},
     "output_type": "execute_result"
    },
    {
     "data": {
      "image/png": "[encoded data removed]",
      "text/plain": [
       "<Figure size 432x288 with 1 Axes>"
      ]
     },
     "metadata": {
      "needs_background": "light"
     },
     "output_type": "display_data"
    }
   ],
   "source": [
    "plt.boxplot(av['Small Bags'])"
   ]
  },
  {
   "cell_type": "code",
   "execution_count": 42,
   "id": "ff7e25c6",
   "metadata": {},
   "outputs": [
    {
     "data": {
      "text/plain": [
       "{'whiskers': [<matplotlib.lines.Line2D at 0x11bbac310>,\n",
       "  <matplotlib.lines.Line2D at 0x11bbace80>],\n",
       " 'caps': [<matplotlib.lines.Line2D at 0x11bbacc70>,\n",
       "  <matplotlib.lines.Line2D at 0x11e0c9850>],\n",
       " 'boxes': [<matplotlib.lines.Line2D at 0x11dce6700>],\n",
       " 'medians': [<matplotlib.lines.Line2D at 0x11e0c9430>],\n",
       " 'fliers': [<matplotlib.lines.Line2D at 0x11e0c9310>],\n",
       " 'means': []}"
      ]
     },
     "execution_count": 42,
     "metadata": {},
     "output_type": "execute_result"
    },
    {
     "data": {
      "image/png": "[encoded data removed]",
      "text/plain": [
       "<Figure size 432x288 with 1 Axes>"
      ]
     },
     "metadata": {
      "needs_background": "light"
     },
     "output_type": "display_data"
    }
   ],
   "source": [
    "plt.boxplot(av['Large Bags'])"
   ]
  },
  {
   "cell_type": "code",
   "execution_count": 43,
   "id": "5d0e5b87",
   "metadata": {},
   "outputs": [
    {
     "data": {
      "text/plain": [
       "{'whiskers': [<matplotlib.lines.Line2D at 0x11d9911c0>,\n",
       "  <matplotlib.lines.Line2D at 0x11d98c820>],\n",
       " 'caps': [<matplotlib.lines.Line2D at 0x11d95cf10>,\n",
       "  <matplotlib.lines.Line2D at 0x11d95cf70>],\n",
       " 'boxes': [<matplotlib.lines.Line2D at 0x11d9911f0>],\n",
       " 'medians': [<matplotlib.lines.Line2D at 0x11df72b80>],\n",
       " 'fliers': [<matplotlib.lines.Line2D at 0x11df724c0>],\n",
       " 'means': []}"
      ]
     },
     "execution_count": 43,
     "metadata": {},
     "output_type": "execute_result"
    },
    {
     "data": {
      "image/png": "[encoded data removed]",
      "text/plain": [
       "<Figure size 432x288 with 1 Axes>"
      ]
     },
     "metadata": {
      "needs_background": "light"
     },
     "output_type": "display_data"
    }
   ],
   "source": [
    "plt.boxplot(av['XLarge Bags'])"
   ]
  },
  {
   "cell_type": "markdown",
   "id": "4cdf21ac",
   "metadata": {},
   "source": [
    "So from the above boxplots we can obsevrev that there are many outliers exist in the data set so we need to remove them with the specified approach."
   ]
  },
  {
   "cell_type": "code",
   "execution_count": 44,
   "id": "ebda483e",
   "metadata": {},
   "outputs": [
    {
     "data": {
      "text/plain": [
       "{'whiskers': [<matplotlib.lines.Line2D at 0x11d927e20>,\n",
       "  <matplotlib.lines.Line2D at 0x11dd3e1c0>],\n",
       " 'caps': [<matplotlib.lines.Line2D at 0x11dd3e520>,\n",
       "  <matplotlib.lines.Line2D at 0x11dd3e880>],\n",
       " 'boxes': [<matplotlib.lines.Line2D at 0x11d927ac0>],\n",
       " 'medians': [<matplotlib.lines.Line2D at 0x11dd3ebe0>],\n",
       " 'fliers': [<matplotlib.lines.Line2D at 0x11dd3ef40>],\n",
       " 'means': []}"
      ]
     },
     "execution_count": 44,
     "metadata": {},
     "output_type": "execute_result"
    },
    {
     "data": {
      "image/png": "[encoded data removed]",
      "text/plain": [
       "<Figure size 432x288 with 1 Axes>"
      ]
     },
     "metadata": {
      "needs_background": "light"
     },
     "output_type": "display_data"
    }
   ],
   "source": [
    "plt.boxplot(av['region'])"
   ]
  },
  {
   "cell_type": "code",
   "execution_count": 45,
   "id": "0dbb0a84",
   "metadata": {},
   "outputs": [
    {
     "data": {
      "text/plain": [
       "array([[1.5653269 , 0.67635986, 0.18868864, ..., 0.99983562, 1.22128204,\n",
       "        1.7002522 ],\n",
       "       [1.50073001, 0.69685742, 0.13901962, ..., 0.99983562, 1.22128204,\n",
       "        1.7002522 ],\n",
       "       [1.43613312, 0.71735497, 1.18206895, ..., 0.99983562, 1.22128204,\n",
       "        1.7002522 ],\n",
       "       ...,\n",
       "       [0.98395486, 1.53737632, 1.15237477, ..., 1.00016441, 1.97050371,\n",
       "        1.70081131],\n",
       "       [0.91935797, 1.51687877, 1.30138182, ..., 1.00016441, 1.97050371,\n",
       "        1.70081131],\n",
       "       [0.85476108, 1.49638121, 0.53151208, ..., 1.00016441, 1.97050371,\n",
       "        1.70081131]])"
      ]
     },
     "execution_count": 45,
     "metadata": {},
     "output_type": "execute_result"
    }
   ],
   "source": [
    "#REMOVING OUTLIERS USING ZSCORE\n",
    "from scipy.stats import zscore\n",
    "z=np.abs(zscore(av))\n",
    "z"
   ]
  },
  {
   "cell_type": "markdown",
   "id": "7c3adf22",
   "metadata": {},
   "source": [
    "looking the code and the output above,it is difficult to say which data pointer is an oulier.lets try and define a threshold to identify an outlier."
   ]
  },
  {
   "cell_type": "code",
   "execution_count": 46,
   "id": "e01f4cd6",
   "metadata": {},
   "outputs": [
    {
     "name": "stdout",
     "output_type": "stream",
     "text": [
      "(array([  346,   359,   780, ..., 17304, 17402, 17428]), array([ 4,  4, 10, ...,  2,  2,  2]))\n"
     ]
    }
   ],
   "source": [
    "threshold=3\n",
    "print(np.where(z>3))"
   ]
  },
  {
   "cell_type": "code",
   "execution_count": 47,
   "id": "db83150d",
   "metadata": {},
   "outputs": [
    {
     "data": {
      "text/plain": [
       "3.199410614794124"
      ]
     },
     "execution_count": 47,
     "metadata": {},
     "output_type": "execute_result"
    }
   ],
   "source": [
    "# we can check the value\n",
    "z[346][4]  #array1-->row.  array2-->column"
   ]
  },
  {
   "cell_type": "code",
   "execution_count": 48,
   "id": "6bb3765f",
   "metadata": {},
   "outputs": [
    {
     "data": {
      "text/plain": [
       "3.558336677305513"
      ]
     },
     "execution_count": 48,
     "metadata": {},
     "output_type": "execute_result"
    }
   ],
   "source": [
    "z[359][4]"
   ]
  },
  {
   "cell_type": "code",
   "execution_count": 49,
   "id": "edefad64",
   "metadata": {},
   "outputs": [
    {
     "data": {
      "text/plain": [
       "Unnamed: 0         10.00\n",
       "Date               42.00\n",
       "AveragePrice        1.10\n",
       "Total Volume    10838.58\n",
       "4046              854.07\n",
       "4225             3008.78\n",
       "4770                0.00\n",
       "Total Bags       5088.64\n",
       "Small Bags       2849.42\n",
       "Large Bags        127.47\n",
       "XLarge Bags         0.00\n",
       "type                0.00\n",
       "year             2015.00\n",
       "region             13.00\n",
       "Name: 0.25, dtype: float64"
      ]
     },
     "execution_count": 49,
     "metadata": {},
     "output_type": "execute_result"
    }
   ],
   "source": [
    "#IQR SCORE(INTERQUARTILE RANGE)\n",
    "Q1=av.quantile(0.25)\n",
    "Q1"
   ]
  },
  {
   "cell_type": "code",
   "execution_count": 50,
   "id": "f2b1eed7",
   "metadata": {},
   "outputs": [
    {
     "data": {
      "text/plain": [
       "Unnamed: 0          38.00\n",
       "Date               126.00\n",
       "AveragePrice         1.66\n",
       "Total Volume    432962.29\n",
       "4046            111020.20\n",
       "4225            150206.86\n",
       "4770              6243.42\n",
       "Total Bags      110783.37\n",
       "Small Bags       83337.67\n",
       "Large Bags       22029.25\n",
       "XLarge Bags        132.50\n",
       "type                 1.00\n",
       "year              2017.00\n",
       "region              40.00\n",
       "Name: 0.75, dtype: float64"
      ]
     },
     "execution_count": 50,
     "metadata": {},
     "output_type": "execute_result"
    }
   ],
   "source": [
    "Q3=av.quantile(0.75)\n",
    "Q3"
   ]
  },
  {
   "cell_type": "code",
   "execution_count": 51,
   "id": "5827ee6c",
   "metadata": {},
   "outputs": [
    {
     "data": {
      "text/plain": [
       "Unnamed: 0         -28.00\n",
       "Date               -84.00\n",
       "AveragePrice        -0.56\n",
       "Total Volume   -422123.71\n",
       "4046           -110166.13\n",
       "4225           -147198.08\n",
       "4770             -6243.42\n",
       "Total Bags     -105694.73\n",
       "Small Bags      -80488.25\n",
       "Large Bags      -21901.78\n",
       "XLarge Bags       -132.50\n",
       "type                -1.00\n",
       "year                -2.00\n",
       "region             -27.00\n",
       "dtype: float64"
      ]
     },
     "execution_count": 51,
     "metadata": {},
     "output_type": "execute_result"
    }
   ],
   "source": [
    "IQR=Q1-Q3\n",
    "IQR"
   ]
  },
  {
   "cell_type": "code",
   "execution_count": 52,
   "id": "4309dd2e",
   "metadata": {},
   "outputs": [
    {
     "data": {
      "text/html": [
       "<div>\n",
       "<style scoped>\n",
       "    .dataframe tbody tr th:only-of-type {\n",
       "        vertical-align: middle;\n",
       "    }\n",
       "\n",
       "    .dataframe tbody tr th {\n",
       "        vertical-align: top;\n",
       "    }\n",
       "\n",
       "    .dataframe thead th {\n",
       "        text-align: right;\n",
       "    }\n",
       "</style>\n",
       "<table border=\"1\" class=\"dataframe\">\n",
       "  <thead>\n",
       "    <tr style=\"text-align: right;\">\n",
       "      <th></th>\n",
       "      <th>Unnamed: 0</th>\n",
       "      <th>Date</th>\n",
       "      <th>AveragePrice</th>\n",
       "      <th>Total Volume</th>\n",
       "      <th>4046</th>\n",
       "      <th>4225</th>\n",
       "      <th>4770</th>\n",
       "      <th>Total Bags</th>\n",
       "      <th>Small Bags</th>\n",
       "      <th>Large Bags</th>\n",
       "      <th>XLarge Bags</th>\n",
       "      <th>type</th>\n",
       "      <th>year</th>\n",
       "      <th>region</th>\n",
       "    </tr>\n",
       "  </thead>\n",
       "  <tbody>\n",
       "    <tr>\n",
       "      <th>0</th>\n",
       "      <td>0</td>\n",
       "      <td>51</td>\n",
       "      <td>1.33</td>\n",
       "      <td>64236.62</td>\n",
       "      <td>1036.74</td>\n",
       "      <td>54454.85</td>\n",
       "      <td>48.16</td>\n",
       "      <td>8696.87</td>\n",
       "      <td>8603.62</td>\n",
       "      <td>93.25</td>\n",
       "      <td>0.0</td>\n",
       "      <td>0</td>\n",
       "      <td>2015</td>\n",
       "      <td>0</td>\n",
       "    </tr>\n",
       "    <tr>\n",
       "      <th>1</th>\n",
       "      <td>1</td>\n",
       "      <td>50</td>\n",
       "      <td>1.35</td>\n",
       "      <td>54876.98</td>\n",
       "      <td>674.28</td>\n",
       "      <td>44638.81</td>\n",
       "      <td>58.33</td>\n",
       "      <td>9505.56</td>\n",
       "      <td>9408.07</td>\n",
       "      <td>97.49</td>\n",
       "      <td>0.0</td>\n",
       "      <td>0</td>\n",
       "      <td>2015</td>\n",
       "      <td>0</td>\n",
       "    </tr>\n",
       "    <tr>\n",
       "      <th>2</th>\n",
       "      <td>2</td>\n",
       "      <td>49</td>\n",
       "      <td>0.93</td>\n",
       "      <td>118220.22</td>\n",
       "      <td>794.70</td>\n",
       "      <td>109149.67</td>\n",
       "      <td>130.50</td>\n",
       "      <td>8145.35</td>\n",
       "      <td>8042.21</td>\n",
       "      <td>103.14</td>\n",
       "      <td>0.0</td>\n",
       "      <td>0</td>\n",
       "      <td>2015</td>\n",
       "      <td>0</td>\n",
       "    </tr>\n",
       "    <tr>\n",
       "      <th>3</th>\n",
       "      <td>3</td>\n",
       "      <td>48</td>\n",
       "      <td>1.08</td>\n",
       "      <td>78992.15</td>\n",
       "      <td>1132.00</td>\n",
       "      <td>71976.41</td>\n",
       "      <td>72.58</td>\n",
       "      <td>5811.16</td>\n",
       "      <td>5677.40</td>\n",
       "      <td>133.76</td>\n",
       "      <td>0.0</td>\n",
       "      <td>0</td>\n",
       "      <td>2015</td>\n",
       "      <td>0</td>\n",
       "    </tr>\n",
       "    <tr>\n",
       "      <th>4</th>\n",
       "      <td>4</td>\n",
       "      <td>47</td>\n",
       "      <td>1.28</td>\n",
       "      <td>51039.60</td>\n",
       "      <td>941.48</td>\n",
       "      <td>43838.39</td>\n",
       "      <td>75.78</td>\n",
       "      <td>6183.95</td>\n",
       "      <td>5986.26</td>\n",
       "      <td>197.69</td>\n",
       "      <td>0.0</td>\n",
       "      <td>0</td>\n",
       "      <td>2015</td>\n",
       "      <td>0</td>\n",
       "    </tr>\n",
       "    <tr>\n",
       "      <th>...</th>\n",
       "      <td>...</td>\n",
       "      <td>...</td>\n",
       "      <td>...</td>\n",
       "      <td>...</td>\n",
       "      <td>...</td>\n",
       "      <td>...</td>\n",
       "      <td>...</td>\n",
       "      <td>...</td>\n",
       "      <td>...</td>\n",
       "      <td>...</td>\n",
       "      <td>...</td>\n",
       "      <td>...</td>\n",
       "      <td>...</td>\n",
       "      <td>...</td>\n",
       "    </tr>\n",
       "    <tr>\n",
       "      <th>18244</th>\n",
       "      <td>7</td>\n",
       "      <td>161</td>\n",
       "      <td>1.63</td>\n",
       "      <td>17074.83</td>\n",
       "      <td>2046.96</td>\n",
       "      <td>1529.20</td>\n",
       "      <td>0.00</td>\n",
       "      <td>13498.67</td>\n",
       "      <td>13066.82</td>\n",
       "      <td>431.85</td>\n",
       "      <td>0.0</td>\n",
       "      <td>1</td>\n",
       "      <td>2018</td>\n",
       "      <td>53</td>\n",
       "    </tr>\n",
       "    <tr>\n",
       "      <th>18245</th>\n",
       "      <td>8</td>\n",
       "      <td>160</td>\n",
       "      <td>1.71</td>\n",
       "      <td>13888.04</td>\n",
       "      <td>1191.70</td>\n",
       "      <td>3431.50</td>\n",
       "      <td>0.00</td>\n",
       "      <td>9264.84</td>\n",
       "      <td>8940.04</td>\n",
       "      <td>324.80</td>\n",
       "      <td>0.0</td>\n",
       "      <td>1</td>\n",
       "      <td>2018</td>\n",
       "      <td>53</td>\n",
       "    </tr>\n",
       "    <tr>\n",
       "      <th>18246</th>\n",
       "      <td>9</td>\n",
       "      <td>159</td>\n",
       "      <td>1.87</td>\n",
       "      <td>13766.76</td>\n",
       "      <td>1191.92</td>\n",
       "      <td>2452.79</td>\n",
       "      <td>727.94</td>\n",
       "      <td>9394.11</td>\n",
       "      <td>9351.80</td>\n",
       "      <td>42.31</td>\n",
       "      <td>0.0</td>\n",
       "      <td>1</td>\n",
       "      <td>2018</td>\n",
       "      <td>53</td>\n",
       "    </tr>\n",
       "    <tr>\n",
       "      <th>18247</th>\n",
       "      <td>10</td>\n",
       "      <td>158</td>\n",
       "      <td>1.93</td>\n",
       "      <td>16205.22</td>\n",
       "      <td>1527.63</td>\n",
       "      <td>2981.04</td>\n",
       "      <td>727.01</td>\n",
       "      <td>10969.54</td>\n",
       "      <td>10919.54</td>\n",
       "      <td>50.00</td>\n",
       "      <td>0.0</td>\n",
       "      <td>1</td>\n",
       "      <td>2018</td>\n",
       "      <td>53</td>\n",
       "    </tr>\n",
       "    <tr>\n",
       "      <th>18248</th>\n",
       "      <td>11</td>\n",
       "      <td>157</td>\n",
       "      <td>1.62</td>\n",
       "      <td>17489.58</td>\n",
       "      <td>2894.77</td>\n",
       "      <td>2356.13</td>\n",
       "      <td>224.53</td>\n",
       "      <td>12014.15</td>\n",
       "      <td>11988.14</td>\n",
       "      <td>26.01</td>\n",
       "      <td>0.0</td>\n",
       "      <td>1</td>\n",
       "      <td>2018</td>\n",
       "      <td>53</td>\n",
       "    </tr>\n",
       "  </tbody>\n",
       "</table>\n",
       "<p>17651 rows × 14 columns</p>\n",
       "</div>"
      ],
      "text/plain": [
       "       Unnamed: 0  Date  AveragePrice  Total Volume     4046       4225  \\\n",
       "0               0    51          1.33      64236.62  1036.74   54454.85   \n",
       "1               1    50          1.35      54876.98   674.28   44638.81   \n",
       "2               2    49          0.93     118220.22   794.70  109149.67   \n",
       "3               3    48          1.08      78992.15  1132.00   71976.41   \n",
       "4               4    47          1.28      51039.60   941.48   43838.39   \n",
       "...           ...   ...           ...           ...      ...        ...   \n",
       "18244           7   161          1.63      17074.83  2046.96    1529.20   \n",
       "18245           8   160          1.71      13888.04  1191.70    3431.50   \n",
       "18246           9   159          1.87      13766.76  1191.92    2452.79   \n",
       "18247          10   158          1.93      16205.22  1527.63    2981.04   \n",
       "18248          11   157          1.62      17489.58  2894.77    2356.13   \n",
       "\n",
       "         4770  Total Bags  Small Bags  Large Bags  XLarge Bags  type  year  \\\n",
       "0       48.16     8696.87     8603.62       93.25          0.0     0  2015   \n",
       "1       58.33     9505.56     9408.07       97.49          0.0     0  2015   \n",
       "2      130.50     8145.35     8042.21      103.14          0.0     0  2015   \n",
       "3       72.58     5811.16     5677.40      133.76          0.0     0  2015   \n",
       "4       75.78     6183.95     5986.26      197.69          0.0     0  2015   \n",
       "...       ...         ...         ...         ...          ...   ...   ...   \n",
       "18244    0.00    13498.67    13066.82      431.85          0.0     1  2018   \n",
       "18245    0.00     9264.84     8940.04      324.80          0.0     1  2018   \n",
       "18246  727.94     9394.11     9351.80       42.31          0.0     1  2018   \n",
       "18247  727.01    10969.54    10919.54       50.00          0.0     1  2018   \n",
       "18248  224.53    12014.15    11988.14       26.01          0.0     1  2018   \n",
       "\n",
       "       region  \n",
       "0           0  \n",
       "1           0  \n",
       "2           0  \n",
       "3           0  \n",
       "4           0  \n",
       "...       ...  \n",
       "18244      53  \n",
       "18245      53  \n",
       "18246      53  \n",
       "18247      53  \n",
       "18248      53  \n",
       "\n",
       "[17651 rows x 14 columns]"
      ]
     },
     "execution_count": 52,
     "metadata": {},
     "output_type": "execute_result"
    }
   ],
   "source": [
    "av1=av[(z<3).all(axis=1)]\n",
    "av1"
   ]
  },
  {
   "cell_type": "code",
   "execution_count": 119,
   "id": "a8ac8248",
   "metadata": {},
   "outputs": [
    {
     "data": {
      "text/html": [
       "<div>\n",
       "<style scoped>\n",
       "    .dataframe tbody tr th:only-of-type {\n",
       "        vertical-align: middle;\n",
       "    }\n",
       "\n",
       "    .dataframe tbody tr th {\n",
       "        vertical-align: top;\n",
       "    }\n",
       "\n",
       "    .dataframe thead th {\n",
       "        text-align: right;\n",
       "    }\n",
       "</style>\n",
       "<table border=\"1\" class=\"dataframe\">\n",
       "  <thead>\n",
       "    <tr style=\"text-align: right;\">\n",
       "      <th></th>\n",
       "      <th>Total Volume</th>\n",
       "      <th>4225</th>\n",
       "      <th>4770</th>\n",
       "      <th>Total Bags</th>\n",
       "      <th>Large Bags</th>\n",
       "      <th>XLarge Bags</th>\n",
       "      <th>type</th>\n",
       "      <th>year</th>\n",
       "      <th>region</th>\n",
       "    </tr>\n",
       "  </thead>\n",
       "  <tbody>\n",
       "    <tr>\n",
       "      <th>0</th>\n",
       "      <td>64236.62</td>\n",
       "      <td>54454.85</td>\n",
       "      <td>48.16</td>\n",
       "      <td>8696.87</td>\n",
       "      <td>93.25</td>\n",
       "      <td>0.0</td>\n",
       "      <td>0</td>\n",
       "      <td>2015</td>\n",
       "      <td>0</td>\n",
       "    </tr>\n",
       "    <tr>\n",
       "      <th>1</th>\n",
       "      <td>54876.98</td>\n",
       "      <td>44638.81</td>\n",
       "      <td>58.33</td>\n",
       "      <td>9505.56</td>\n",
       "      <td>97.49</td>\n",
       "      <td>0.0</td>\n",
       "      <td>0</td>\n",
       "      <td>2015</td>\n",
       "      <td>0</td>\n",
       "    </tr>\n",
       "    <tr>\n",
       "      <th>2</th>\n",
       "      <td>118220.22</td>\n",
       "      <td>109149.67</td>\n",
       "      <td>130.50</td>\n",
       "      <td>8145.35</td>\n",
       "      <td>103.14</td>\n",
       "      <td>0.0</td>\n",
       "      <td>0</td>\n",
       "      <td>2015</td>\n",
       "      <td>0</td>\n",
       "    </tr>\n",
       "    <tr>\n",
       "      <th>3</th>\n",
       "      <td>78992.15</td>\n",
       "      <td>71976.41</td>\n",
       "      <td>72.58</td>\n",
       "      <td>5811.16</td>\n",
       "      <td>133.76</td>\n",
       "      <td>0.0</td>\n",
       "      <td>0</td>\n",
       "      <td>2015</td>\n",
       "      <td>0</td>\n",
       "    </tr>\n",
       "    <tr>\n",
       "      <th>4</th>\n",
       "      <td>51039.60</td>\n",
       "      <td>43838.39</td>\n",
       "      <td>75.78</td>\n",
       "      <td>6183.95</td>\n",
       "      <td>197.69</td>\n",
       "      <td>0.0</td>\n",
       "      <td>0</td>\n",
       "      <td>2015</td>\n",
       "      <td>0</td>\n",
       "    </tr>\n",
       "    <tr>\n",
       "      <th>...</th>\n",
       "      <td>...</td>\n",
       "      <td>...</td>\n",
       "      <td>...</td>\n",
       "      <td>...</td>\n",
       "      <td>...</td>\n",
       "      <td>...</td>\n",
       "      <td>...</td>\n",
       "      <td>...</td>\n",
       "      <td>...</td>\n",
       "    </tr>\n",
       "    <tr>\n",
       "      <th>18244</th>\n",
       "      <td>17074.83</td>\n",
       "      <td>1529.20</td>\n",
       "      <td>0.00</td>\n",
       "      <td>13498.67</td>\n",
       "      <td>431.85</td>\n",
       "      <td>0.0</td>\n",
       "      <td>1</td>\n",
       "      <td>2018</td>\n",
       "      <td>53</td>\n",
       "    </tr>\n",
       "    <tr>\n",
       "      <th>18245</th>\n",
       "      <td>13888.04</td>\n",
       "      <td>3431.50</td>\n",
       "      <td>0.00</td>\n",
       "      <td>9264.84</td>\n",
       "      <td>324.80</td>\n",
       "      <td>0.0</td>\n",
       "      <td>1</td>\n",
       "      <td>2018</td>\n",
       "      <td>53</td>\n",
       "    </tr>\n",
       "    <tr>\n",
       "      <th>18246</th>\n",
       "      <td>13766.76</td>\n",
       "      <td>2452.79</td>\n",
       "      <td>727.94</td>\n",
       "      <td>9394.11</td>\n",
       "      <td>42.31</td>\n",
       "      <td>0.0</td>\n",
       "      <td>1</td>\n",
       "      <td>2018</td>\n",
       "      <td>53</td>\n",
       "    </tr>\n",
       "    <tr>\n",
       "      <th>18247</th>\n",
       "      <td>16205.22</td>\n",
       "      <td>2981.04</td>\n",
       "      <td>727.01</td>\n",
       "      <td>10969.54</td>\n",
       "      <td>50.00</td>\n",
       "      <td>0.0</td>\n",
       "      <td>1</td>\n",
       "      <td>2018</td>\n",
       "      <td>53</td>\n",
       "    </tr>\n",
       "    <tr>\n",
       "      <th>18248</th>\n",
       "      <td>17489.58</td>\n",
       "      <td>2356.13</td>\n",
       "      <td>224.53</td>\n",
       "      <td>12014.15</td>\n",
       "      <td>26.01</td>\n",
       "      <td>0.0</td>\n",
       "      <td>1</td>\n",
       "      <td>2018</td>\n",
       "      <td>53</td>\n",
       "    </tr>\n",
       "  </tbody>\n",
       "</table>\n",
       "<p>17651 rows × 9 columns</p>\n",
       "</div>"
      ],
      "text/plain": [
       "       Total Volume       4225    4770  Total Bags  Large Bags  XLarge Bags  \\\n",
       "0          64236.62   54454.85   48.16     8696.87       93.25          0.0   \n",
       "1          54876.98   44638.81   58.33     9505.56       97.49          0.0   \n",
       "2         118220.22  109149.67  130.50     8145.35      103.14          0.0   \n",
       "3          78992.15   71976.41   72.58     5811.16      133.76          0.0   \n",
       "4          51039.60   43838.39   75.78     6183.95      197.69          0.0   \n",
       "...             ...        ...     ...         ...         ...          ...   \n",
       "18244      17074.83    1529.20    0.00    13498.67      431.85          0.0   \n",
       "18245      13888.04    3431.50    0.00     9264.84      324.80          0.0   \n",
       "18246      13766.76    2452.79  727.94     9394.11       42.31          0.0   \n",
       "18247      16205.22    2981.04  727.01    10969.54       50.00          0.0   \n",
       "18248      17489.58    2356.13  224.53    12014.15       26.01          0.0   \n",
       "\n",
       "       type  year  region  \n",
       "0         0  2015       0  \n",
       "1         0  2015       0  \n",
       "2         0  2015       0  \n",
       "3         0  2015       0  \n",
       "4         0  2015       0  \n",
       "...     ...   ...     ...  \n",
       "18244     1  2018      53  \n",
       "18245     1  2018      53  \n",
       "18246     1  2018      53  \n",
       "18247     1  2018      53  \n",
       "18248     1  2018      53  \n",
       "\n",
       "[17651 rows x 9 columns]"
      ]
     },
     "execution_count": 119,
     "metadata": {},
     "output_type": "execute_result"
    }
   ],
   "source": [
    "#VIF(VARIANCE INFLATION FACTOR)\n",
    "x1=av1.drop('AveragePrice',axis=1)\n",
    "x1"
   ]
  },
  {
   "cell_type": "code",
   "execution_count": 120,
   "id": "4fec4b1b",
   "metadata": {},
   "outputs": [
    {
     "data": {
      "text/plain": [
       "0        1\n",
       "1        1\n",
       "2        0\n",
       "3        1\n",
       "4        1\n",
       "        ..\n",
       "18244    1\n",
       "18245    1\n",
       "18246    1\n",
       "18247    1\n",
       "18248    1\n",
       "Name: AveragePrice, Length: 17651, dtype: int64"
      ]
     },
     "execution_count": 120,
     "metadata": {},
     "output_type": "execute_result"
    }
   ],
   "source": [
    "#LABEL ENCODING\n",
    "y1=av1['AveragePrice'].apply(lambda y_value:1 if y_value>=1 else 0)\n",
    "y1"
   ]
  },
  {
   "cell_type": "code",
   "execution_count": 121,
   "id": "4ad23385",
   "metadata": {},
   "outputs": [],
   "source": [
    "from statsmodels.stats.outliers_influence import variance_inflation_factor\n",
    "def var_calc():\n",
    "    vif=pd.DataFrame()\n",
    "    vif['VIF Factor']=[variance_inflation_factor(av1.values,i) for i in range(av1.shape[1])]\n",
    "    vif['features']=av1.columns\n",
    "    print(vif)"
   ]
  },
  {
   "cell_type": "code",
   "execution_count": 122,
   "id": "a744e960",
   "metadata": {},
   "outputs": [
    {
     "name": "stdout",
     "output_type": "stream",
     "text": [
      "   VIF Factor      features\n",
      "0   23.981852  AveragePrice\n",
      "1   14.591470  Total Volume\n",
      "2    5.761013          4225\n",
      "3    2.229366          4770\n",
      "4   12.090326    Total Bags\n",
      "5    3.074269    Large Bags\n",
      "6    1.984896   XLarge Bags\n",
      "7    3.660368          type\n",
      "8   21.673804          year\n",
      "9    4.114483        region\n"
     ]
    }
   ],
   "source": [
    "var_calc()"
   ]
  },
  {
   "cell_type": "markdown",
   "id": "ade7c1c2",
   "metadata": {},
   "source": [
    "from the above observation, we can say that small bags and large bags are having multicolinearity. so we can drop the column which is less contributing towards the output variable."
   ]
  },
  {
   "cell_type": "code",
   "execution_count": 57,
   "id": "924fcd49",
   "metadata": {},
   "outputs": [
    {
     "data": {
      "text/html": [
       "<div>\n",
       "<style scoped>\n",
       "    .dataframe tbody tr th:only-of-type {\n",
       "        vertical-align: middle;\n",
       "    }\n",
       "\n",
       "    .dataframe tbody tr th {\n",
       "        vertical-align: top;\n",
       "    }\n",
       "\n",
       "    .dataframe thead th {\n",
       "        text-align: right;\n",
       "    }\n",
       "</style>\n",
       "<table border=\"1\" class=\"dataframe\">\n",
       "  <thead>\n",
       "    <tr style=\"text-align: right;\">\n",
       "      <th></th>\n",
       "      <th>AveragePrice</th>\n",
       "      <th>Total Volume</th>\n",
       "      <th>4225</th>\n",
       "      <th>4770</th>\n",
       "      <th>Total Bags</th>\n",
       "      <th>Large Bags</th>\n",
       "      <th>XLarge Bags</th>\n",
       "      <th>type</th>\n",
       "      <th>year</th>\n",
       "      <th>region</th>\n",
       "    </tr>\n",
       "  </thead>\n",
       "  <tbody>\n",
       "    <tr>\n",
       "      <th>0</th>\n",
       "      <td>1.33</td>\n",
       "      <td>64236.62</td>\n",
       "      <td>54454.85</td>\n",
       "      <td>48.16</td>\n",
       "      <td>8696.87</td>\n",
       "      <td>93.25</td>\n",
       "      <td>0.0</td>\n",
       "      <td>0</td>\n",
       "      <td>2015</td>\n",
       "      <td>0</td>\n",
       "    </tr>\n",
       "    <tr>\n",
       "      <th>1</th>\n",
       "      <td>1.35</td>\n",
       "      <td>54876.98</td>\n",
       "      <td>44638.81</td>\n",
       "      <td>58.33</td>\n",
       "      <td>9505.56</td>\n",
       "      <td>97.49</td>\n",
       "      <td>0.0</td>\n",
       "      <td>0</td>\n",
       "      <td>2015</td>\n",
       "      <td>0</td>\n",
       "    </tr>\n",
       "    <tr>\n",
       "      <th>2</th>\n",
       "      <td>0.93</td>\n",
       "      <td>118220.22</td>\n",
       "      <td>109149.67</td>\n",
       "      <td>130.50</td>\n",
       "      <td>8145.35</td>\n",
       "      <td>103.14</td>\n",
       "      <td>0.0</td>\n",
       "      <td>0</td>\n",
       "      <td>2015</td>\n",
       "      <td>0</td>\n",
       "    </tr>\n",
       "    <tr>\n",
       "      <th>3</th>\n",
       "      <td>1.08</td>\n",
       "      <td>78992.15</td>\n",
       "      <td>71976.41</td>\n",
       "      <td>72.58</td>\n",
       "      <td>5811.16</td>\n",
       "      <td>133.76</td>\n",
       "      <td>0.0</td>\n",
       "      <td>0</td>\n",
       "      <td>2015</td>\n",
       "      <td>0</td>\n",
       "    </tr>\n",
       "    <tr>\n",
       "      <th>4</th>\n",
       "      <td>1.28</td>\n",
       "      <td>51039.60</td>\n",
       "      <td>43838.39</td>\n",
       "      <td>75.78</td>\n",
       "      <td>6183.95</td>\n",
       "      <td>197.69</td>\n",
       "      <td>0.0</td>\n",
       "      <td>0</td>\n",
       "      <td>2015</td>\n",
       "      <td>0</td>\n",
       "    </tr>\n",
       "    <tr>\n",
       "      <th>...</th>\n",
       "      <td>...</td>\n",
       "      <td>...</td>\n",
       "      <td>...</td>\n",
       "      <td>...</td>\n",
       "      <td>...</td>\n",
       "      <td>...</td>\n",
       "      <td>...</td>\n",
       "      <td>...</td>\n",
       "      <td>...</td>\n",
       "      <td>...</td>\n",
       "    </tr>\n",
       "    <tr>\n",
       "      <th>18244</th>\n",
       "      <td>1.63</td>\n",
       "      <td>17074.83</td>\n",
       "      <td>1529.20</td>\n",
       "      <td>0.00</td>\n",
       "      <td>13498.67</td>\n",
       "      <td>431.85</td>\n",
       "      <td>0.0</td>\n",
       "      <td>1</td>\n",
       "      <td>2018</td>\n",
       "      <td>53</td>\n",
       "    </tr>\n",
       "    <tr>\n",
       "      <th>18245</th>\n",
       "      <td>1.71</td>\n",
       "      <td>13888.04</td>\n",
       "      <td>3431.50</td>\n",
       "      <td>0.00</td>\n",
       "      <td>9264.84</td>\n",
       "      <td>324.80</td>\n",
       "      <td>0.0</td>\n",
       "      <td>1</td>\n",
       "      <td>2018</td>\n",
       "      <td>53</td>\n",
       "    </tr>\n",
       "    <tr>\n",
       "      <th>18246</th>\n",
       "      <td>1.87</td>\n",
       "      <td>13766.76</td>\n",
       "      <td>2452.79</td>\n",
       "      <td>727.94</td>\n",
       "      <td>9394.11</td>\n",
       "      <td>42.31</td>\n",
       "      <td>0.0</td>\n",
       "      <td>1</td>\n",
       "      <td>2018</td>\n",
       "      <td>53</td>\n",
       "    </tr>\n",
       "    <tr>\n",
       "      <th>18247</th>\n",
       "      <td>1.93</td>\n",
       "      <td>16205.22</td>\n",
       "      <td>2981.04</td>\n",
       "      <td>727.01</td>\n",
       "      <td>10969.54</td>\n",
       "      <td>50.00</td>\n",
       "      <td>0.0</td>\n",
       "      <td>1</td>\n",
       "      <td>2018</td>\n",
       "      <td>53</td>\n",
       "    </tr>\n",
       "    <tr>\n",
       "      <th>18248</th>\n",
       "      <td>1.62</td>\n",
       "      <td>17489.58</td>\n",
       "      <td>2356.13</td>\n",
       "      <td>224.53</td>\n",
       "      <td>12014.15</td>\n",
       "      <td>26.01</td>\n",
       "      <td>0.0</td>\n",
       "      <td>1</td>\n",
       "      <td>2018</td>\n",
       "      <td>53</td>\n",
       "    </tr>\n",
       "  </tbody>\n",
       "</table>\n",
       "<p>17651 rows × 10 columns</p>\n",
       "</div>"
      ],
      "text/plain": [
       "       AveragePrice  Total Volume       4225    4770  Total Bags  Large Bags  \\\n",
       "0              1.33      64236.62   54454.85   48.16     8696.87       93.25   \n",
       "1              1.35      54876.98   44638.81   58.33     9505.56       97.49   \n",
       "2              0.93     118220.22  109149.67  130.50     8145.35      103.14   \n",
       "3              1.08      78992.15   71976.41   72.58     5811.16      133.76   \n",
       "4              1.28      51039.60   43838.39   75.78     6183.95      197.69   \n",
       "...             ...           ...        ...     ...         ...         ...   \n",
       "18244          1.63      17074.83    1529.20    0.00    13498.67      431.85   \n",
       "18245          1.71      13888.04    3431.50    0.00     9264.84      324.80   \n",
       "18246          1.87      13766.76    2452.79  727.94     9394.11       42.31   \n",
       "18247          1.93      16205.22    2981.04  727.01    10969.54       50.00   \n",
       "18248          1.62      17489.58    2356.13  224.53    12014.15       26.01   \n",
       "\n",
       "       XLarge Bags  type  year  region  \n",
       "0              0.0     0  2015       0  \n",
       "1              0.0     0  2015       0  \n",
       "2              0.0     0  2015       0  \n",
       "3              0.0     0  2015       0  \n",
       "4              0.0     0  2015       0  \n",
       "...            ...   ...   ...     ...  \n",
       "18244          0.0     1  2018      53  \n",
       "18245          0.0     1  2018      53  \n",
       "18246          0.0     1  2018      53  \n",
       "18247          0.0     1  2018      53  \n",
       "18248          0.0     1  2018      53  \n",
       "\n",
       "[17651 rows x 10 columns]"
      ]
     },
     "execution_count": 57,
     "metadata": {},
     "output_type": "execute_result"
    }
   ],
   "source": [
    "av1.drop(['Small Bags','4046','Unnamed: 0','Date'],axis=1,inplace=True)\n",
    "av1"
   ]
  },
  {
   "cell_type": "code",
   "execution_count": 123,
   "id": "9763acb2",
   "metadata": {},
   "outputs": [],
   "source": [
    "from sklearn.model_selection import train_test_split\n",
    "#training and testing of model\n",
    "xtrain,xtest,ytrain,ytest=train_test_split(x1,y1,test_size=.3,random_state=15)"
   ]
  },
  {
   "cell_type": "code",
   "execution_count": 124,
   "id": "4eed7952",
   "metadata": {},
   "outputs": [
    {
     "data": {
      "text/plain": [
       "(12355, 9)"
      ]
     },
     "execution_count": 124,
     "metadata": {},
     "output_type": "execute_result"
    }
   ],
   "source": [
    "xtrain.shape"
   ]
  },
  {
   "cell_type": "code",
   "execution_count": 125,
   "id": "138c9bd1",
   "metadata": {},
   "outputs": [
    {
     "data": {
      "text/plain": [
       "(5296, 9)"
      ]
     },
     "execution_count": 125,
     "metadata": {},
     "output_type": "execute_result"
    }
   ],
   "source": [
    "xtest.shape"
   ]
  },
  {
   "cell_type": "code",
   "execution_count": 126,
   "id": "dbb25ca9",
   "metadata": {},
   "outputs": [
    {
     "data": {
      "text/plain": [
       "(12355,)"
      ]
     },
     "execution_count": 126,
     "metadata": {},
     "output_type": "execute_result"
    }
   ],
   "source": [
    "ytrain.shape"
   ]
  },
  {
   "cell_type": "code",
   "execution_count": 127,
   "id": "76c1605d",
   "metadata": {},
   "outputs": [
    {
     "data": {
      "text/plain": [
       "(5296,)"
      ]
     },
     "execution_count": 127,
     "metadata": {},
     "output_type": "execute_result"
    }
   ],
   "source": [
    "ytest.shape"
   ]
  },
  {
   "cell_type": "code",
   "execution_count": 128,
   "id": "33f4775c",
   "metadata": {},
   "outputs": [
    {
     "name": "stdout",
     "output_type": "stream",
     "text": [
      "0.8570619335347432\n",
      "              precision    recall  f1-score   support\n",
      "\n",
      "           0       0.51      0.11      0.19       759\n",
      "           1       0.87      0.98      0.92      4537\n",
      "\n",
      "    accuracy                           0.86      5296\n",
      "   macro avg       0.69      0.55      0.55      5296\n",
      "weighted avg       0.82      0.86      0.82      5296\n",
      "\n",
      "[[  86  673]\n",
      " [  84 4453]]\n"
     ]
    }
   ],
   "source": [
    "#APPLYING ML ALGORITHMS\n",
    "#LogisticRegression\n",
    "from sklearn.linear_model import LogisticRegression\n",
    "from sklearn.metrics import accuracy_score\n",
    "from sklearn.metrics import confusion_matrix,classification_report\n",
    "lg=LogisticRegression()\n",
    "lg.fit(xtrain,ytrain)\n",
    "predlg=lg.predict(xtest)\n",
    "print(accuracy_score(ytest,predlg))\n",
    "print(classification_report(ytest,predlg))\n",
    "print(confusion_matrix(ytest,predlg))"
   ]
  },
  {
   "cell_type": "code",
   "execution_count": 129,
   "id": "10886fd1",
   "metadata": {},
   "outputs": [
    {
     "name": "stdout",
     "output_type": "stream",
     "text": [
      "0.9407099697885196\n",
      "              precision    recall  f1-score   support\n",
      "\n",
      "           0       0.85      0.72      0.78       759\n",
      "           1       0.95      0.98      0.97      4537\n",
      "\n",
      "    accuracy                           0.94      5296\n",
      "   macro avg       0.90      0.85      0.87      5296\n",
      "weighted avg       0.94      0.94      0.94      5296\n",
      "\n",
      "[[ 544  215]\n",
      " [  99 4438]]\n"
     ]
    }
   ],
   "source": [
    "from sklearn.ensemble import RandomForestClassifier\n",
    "rfc=RandomForestClassifier()\n",
    "rfc.fit(xtrain,ytrain)\n",
    "predrfc=rfc.predict(xtest)\n",
    "print(accuracy_score(ytest,predrfc))\n",
    "print(classification_report(ytest,predrfc))\n",
    "print(confusion_matrix(ytest,predrfc))"
   ]
  },
  {
   "cell_type": "code",
   "execution_count": 130,
   "id": "218a65ee",
   "metadata": {},
   "outputs": [
    {
     "name": "stdout",
     "output_type": "stream",
     "text": [
      "0.8259063444108762\n",
      "[[ 162  597]\n",
      " [ 325 4212]]\n",
      "              precision    recall  f1-score   support\n",
      "\n",
      "           0       0.33      0.21      0.26       759\n",
      "           1       0.88      0.93      0.90      4537\n",
      "\n",
      "    accuracy                           0.83      5296\n",
      "   macro avg       0.60      0.57      0.58      5296\n",
      "weighted avg       0.80      0.83      0.81      5296\n",
      "\n"
     ]
    }
   ],
   "source": [
    "#GaussianNB\n",
    "from sklearn.naive_bayes import GaussianNB\n",
    "gnb=GaussianNB()\n",
    "gnb.fit(xtrain,ytrain)\n",
    "gnb.score(xtrain,ytrain)\n",
    "predgnb=gnb.predict(xtest)\n",
    "print(accuracy_score(ytest,predgnb))\n",
    "print(confusion_matrix(ytest,predgnb))\n",
    "print(classification_report(ytest,predgnb))"
   ]
  },
  {
   "cell_type": "code",
   "execution_count": 131,
   "id": "79533c6e",
   "metadata": {},
   "outputs": [
    {
     "name": "stdout",
     "output_type": "stream",
     "text": [
      "0.8868957703927492\n",
      "              precision    recall  f1-score   support\n",
      "\n",
      "           0       0.76      0.31      0.44       759\n",
      "           1       0.90      0.98      0.94      4537\n",
      "\n",
      "    accuracy                           0.89      5296\n",
      "   macro avg       0.83      0.65      0.69      5296\n",
      "weighted avg       0.88      0.89      0.87      5296\n",
      "\n",
      "[[ 236  523]\n",
      " [  76 4461]]\n"
     ]
    }
   ],
   "source": [
    "#SUPPORT VECTOR CLASSIFIER\n",
    "from sklearn.svm import SVC\n",
    "svc=SVC()\n",
    "svc.fit(xtrain,ytrain)\n",
    "predsvc=svc.predict(xtest)\n",
    "print(accuracy_score(ytest,predsvc))\n",
    "print(classification_report(ytest,predsvc))\n",
    "print(confusion_matrix(ytest,predsvc))"
   ]
  },
  {
   "cell_type": "code",
   "execution_count": 132,
   "id": "6a030afa",
   "metadata": {},
   "outputs": [
    {
     "name": "stdout",
     "output_type": "stream",
     "text": [
      "0.9093655589123867\n",
      "[[ 528  231]\n",
      " [ 249 4288]]\n",
      "              precision    recall  f1-score   support\n",
      "\n",
      "           0       0.68      0.70      0.69       759\n",
      "           1       0.95      0.95      0.95      4537\n",
      "\n",
      "    accuracy                           0.91      5296\n",
      "   macro avg       0.81      0.82      0.82      5296\n",
      "weighted avg       0.91      0.91      0.91      5296\n",
      "\n"
     ]
    }
   ],
   "source": [
    "from sklearn.tree import DecisionTreeClassifier\n",
    "#DecisionTreeClassifier\n",
    "dtc=DecisionTreeClassifier()\n",
    "dtc.fit(xtrain,ytrain)\n",
    "dtc.score(xtrain,ytrain)\n",
    "preddtc=dtc.predict(xtest)\n",
    "print(accuracy_score(ytest,preddtc))\n",
    "print(confusion_matrix(ytest,preddtc))\n",
    "print(classification_report(ytest,preddtc))"
   ]
  },
  {
   "cell_type": "markdown",
   "id": "f8041a01",
   "metadata": {},
   "source": [
    "Among all the algorithms Random forest classifier gives the highest accuracy of 95%. so we will go with Random forest classifier algorithm."
   ]
  },
  {
   "cell_type": "code",
   "execution_count": 134,
   "id": "89c9c58a",
   "metadata": {},
   "outputs": [
    {
     "name": "stdout",
     "output_type": "stream",
     "text": [
      "cross validation score of logistic regression is nan\n"
     ]
    }
   ],
   "source": [
    "# CROSS VALIDATION\n",
    "from sklearn.model_selection import cross_val_score\n",
    "scr=cross_val_score(lg,x,y,cv=5)\n",
    "print('cross validation score of logistic regression is',scr.mean())"
   ]
  },
  {
   "cell_type": "code",
   "execution_count": 142,
   "id": "a9f003ae",
   "metadata": {},
   "outputs": [],
   "source": [
    "from sklearn.model_selection import KFold\n",
    "model=RandomForestClassifier()\n",
    "kfold_validation=KFold(10)"
   ]
  },
  {
   "cell_type": "code",
   "execution_count": 143,
   "id": "8558ac2a",
   "metadata": {},
   "outputs": [
    {
     "name": "stdout",
     "output_type": "stream",
     "text": [
      "[nan nan nan nan nan nan nan nan nan nan]\n",
      "nan\n"
     ]
    }
   ],
   "source": [
    "scr=cross_val_score(lg,x,y,cv=kfold_validation)\n",
    "print(scr)\n",
    "print(np.mean(scr))"
   ]
  },
  {
   "cell_type": "code",
   "execution_count": 248,
   "id": "1ae6fefb",
   "metadata": {},
   "outputs": [],
   "source": [
    "# HYPERPARAMETER TUNING\n",
    "RandomForestClassifier()\n",
    "parameters={'max_features':[\"auto\", \"sqrt\", \"log2\"],'max_depth':[4,5,6,7,8],'criterion':[\"gini\", \"entropy\"]}"
   ]
  },
  {
   "cell_type": "code",
   "execution_count": null,
   "id": "bb79a092",
   "metadata": {},
   "outputs": [],
   "source": [
    "from sklearn.model_selection import GridSearchCV\n",
    "gcv=GridSearchCV(RandomForestClassifier(),parameters,cv=5,scoring='accuracy')\n",
    "gcv.fit(xtrain,ytrain)\n",
    "gcv.best_params_ #printing the best parameters found by GridSearchCV"
   ]
  },
  {
   "cell_type": "code",
   "execution_count": null,
   "id": "97ba71f8",
   "metadata": {},
   "outputs": [],
   "source": [
    "gcv_pred=gcv.best_estimator_.predict(xtest)\n",
    "accuracy_score(ytest,gcv_pred)"
   ]
  },
  {
   "cell_type": "code",
   "execution_count": 141,
   "id": "ecfc90d4",
   "metadata": {},
   "outputs": [
    {
     "data": {
      "image/png": "[encoded data removed]",
      "text/plain": [
       "<Figure size 432x288 with 1 Axes>"
      ]
     },
     "metadata": {
      "needs_background": "light"
     },
     "output_type": "display_data"
    }
   ],
   "source": [
    "#ROC AUC PLOT\n",
    "from sklearn.metrics import plot_roc_curve\n",
    "plot_roc_curve(gcv.best_estimator_,xtest,ytest)\n",
    "plt.title('ROC-AUC Curve')\n",
    "plt.show()"
   ]
  },
  {
   "cell_type": "markdown",
   "id": "2eae8207",
   "metadata": {},
   "source": [
    "AUC score is 95%,so it is a pretty good score."
   ]
  },
  {
   "cell_type": "code",
   "execution_count": null,
   "id": "8ac4eea3",
   "metadata": {},
   "outputs": [],
   "source": [
    "#SERIALIZATION OR PICKLING OF FILE\n",
    "import joblib\n",
    "joblib.dump(gcv.best_estimator_,'avocado_modified.pk1')\n"
   ]
  },
  {
   "cell_type": "markdown",
   "id": "61245daa",
   "metadata": {},
   "source": [
    "# CONSIDERING REGION AS DEPENDENT VARIABLE"
   ]
  },
  {
   "cell_type": "code",
   "execution_count": 220,
   "id": "803d53d5",
   "metadata": {},
   "outputs": [
    {
     "data": {
      "text/html": [
       "<div>\n",
       "<style scoped>\n",
       "    .dataframe tbody tr th:only-of-type {\n",
       "        vertical-align: middle;\n",
       "    }\n",
       "\n",
       "    .dataframe tbody tr th {\n",
       "        vertical-align: top;\n",
       "    }\n",
       "\n",
       "    .dataframe thead th {\n",
       "        text-align: right;\n",
       "    }\n",
       "</style>\n",
       "<table border=\"1\" class=\"dataframe\">\n",
       "  <thead>\n",
       "    <tr style=\"text-align: right;\">\n",
       "      <th></th>\n",
       "      <th>AveragePrice</th>\n",
       "      <th>Total Volume</th>\n",
       "      <th>4225</th>\n",
       "      <th>4770</th>\n",
       "      <th>Total Bags</th>\n",
       "      <th>Large Bags</th>\n",
       "      <th>XLarge Bags</th>\n",
       "      <th>type</th>\n",
       "      <th>year</th>\n",
       "      <th>region</th>\n",
       "    </tr>\n",
       "  </thead>\n",
       "  <tbody>\n",
       "    <tr>\n",
       "      <th>0</th>\n",
       "      <td>1.33</td>\n",
       "      <td>64236.62</td>\n",
       "      <td>54454.85</td>\n",
       "      <td>48.16</td>\n",
       "      <td>8696.87</td>\n",
       "      <td>93.25</td>\n",
       "      <td>0.0</td>\n",
       "      <td>0</td>\n",
       "      <td>2015</td>\n",
       "      <td>0</td>\n",
       "    </tr>\n",
       "    <tr>\n",
       "      <th>1</th>\n",
       "      <td>1.35</td>\n",
       "      <td>54876.98</td>\n",
       "      <td>44638.81</td>\n",
       "      <td>58.33</td>\n",
       "      <td>9505.56</td>\n",
       "      <td>97.49</td>\n",
       "      <td>0.0</td>\n",
       "      <td>0</td>\n",
       "      <td>2015</td>\n",
       "      <td>0</td>\n",
       "    </tr>\n",
       "    <tr>\n",
       "      <th>2</th>\n",
       "      <td>0.93</td>\n",
       "      <td>118220.22</td>\n",
       "      <td>109149.67</td>\n",
       "      <td>130.50</td>\n",
       "      <td>8145.35</td>\n",
       "      <td>103.14</td>\n",
       "      <td>0.0</td>\n",
       "      <td>0</td>\n",
       "      <td>2015</td>\n",
       "      <td>0</td>\n",
       "    </tr>\n",
       "    <tr>\n",
       "      <th>3</th>\n",
       "      <td>1.08</td>\n",
       "      <td>78992.15</td>\n",
       "      <td>71976.41</td>\n",
       "      <td>72.58</td>\n",
       "      <td>5811.16</td>\n",
       "      <td>133.76</td>\n",
       "      <td>0.0</td>\n",
       "      <td>0</td>\n",
       "      <td>2015</td>\n",
       "      <td>0</td>\n",
       "    </tr>\n",
       "    <tr>\n",
       "      <th>4</th>\n",
       "      <td>1.28</td>\n",
       "      <td>51039.60</td>\n",
       "      <td>43838.39</td>\n",
       "      <td>75.78</td>\n",
       "      <td>6183.95</td>\n",
       "      <td>197.69</td>\n",
       "      <td>0.0</td>\n",
       "      <td>0</td>\n",
       "      <td>2015</td>\n",
       "      <td>0</td>\n",
       "    </tr>\n",
       "    <tr>\n",
       "      <th>...</th>\n",
       "      <td>...</td>\n",
       "      <td>...</td>\n",
       "      <td>...</td>\n",
       "      <td>...</td>\n",
       "      <td>...</td>\n",
       "      <td>...</td>\n",
       "      <td>...</td>\n",
       "      <td>...</td>\n",
       "      <td>...</td>\n",
       "      <td>...</td>\n",
       "    </tr>\n",
       "    <tr>\n",
       "      <th>18244</th>\n",
       "      <td>1.63</td>\n",
       "      <td>17074.83</td>\n",
       "      <td>1529.20</td>\n",
       "      <td>0.00</td>\n",
       "      <td>13498.67</td>\n",
       "      <td>431.85</td>\n",
       "      <td>0.0</td>\n",
       "      <td>1</td>\n",
       "      <td>2018</td>\n",
       "      <td>53</td>\n",
       "    </tr>\n",
       "    <tr>\n",
       "      <th>18245</th>\n",
       "      <td>1.71</td>\n",
       "      <td>13888.04</td>\n",
       "      <td>3431.50</td>\n",
       "      <td>0.00</td>\n",
       "      <td>9264.84</td>\n",
       "      <td>324.80</td>\n",
       "      <td>0.0</td>\n",
       "      <td>1</td>\n",
       "      <td>2018</td>\n",
       "      <td>53</td>\n",
       "    </tr>\n",
       "    <tr>\n",
       "      <th>18246</th>\n",
       "      <td>1.87</td>\n",
       "      <td>13766.76</td>\n",
       "      <td>2452.79</td>\n",
       "      <td>727.94</td>\n",
       "      <td>9394.11</td>\n",
       "      <td>42.31</td>\n",
       "      <td>0.0</td>\n",
       "      <td>1</td>\n",
       "      <td>2018</td>\n",
       "      <td>53</td>\n",
       "    </tr>\n",
       "    <tr>\n",
       "      <th>18247</th>\n",
       "      <td>1.93</td>\n",
       "      <td>16205.22</td>\n",
       "      <td>2981.04</td>\n",
       "      <td>727.01</td>\n",
       "      <td>10969.54</td>\n",
       "      <td>50.00</td>\n",
       "      <td>0.0</td>\n",
       "      <td>1</td>\n",
       "      <td>2018</td>\n",
       "      <td>53</td>\n",
       "    </tr>\n",
       "    <tr>\n",
       "      <th>18248</th>\n",
       "      <td>1.62</td>\n",
       "      <td>17489.58</td>\n",
       "      <td>2356.13</td>\n",
       "      <td>224.53</td>\n",
       "      <td>12014.15</td>\n",
       "      <td>26.01</td>\n",
       "      <td>0.0</td>\n",
       "      <td>1</td>\n",
       "      <td>2018</td>\n",
       "      <td>53</td>\n",
       "    </tr>\n",
       "  </tbody>\n",
       "</table>\n",
       "<p>17651 rows × 10 columns</p>\n",
       "</div>"
      ],
      "text/plain": [
       "       AveragePrice  Total Volume       4225    4770  Total Bags  Large Bags  \\\n",
       "0              1.33      64236.62   54454.85   48.16     8696.87       93.25   \n",
       "1              1.35      54876.98   44638.81   58.33     9505.56       97.49   \n",
       "2              0.93     118220.22  109149.67  130.50     8145.35      103.14   \n",
       "3              1.08      78992.15   71976.41   72.58     5811.16      133.76   \n",
       "4              1.28      51039.60   43838.39   75.78     6183.95      197.69   \n",
       "...             ...           ...        ...     ...         ...         ...   \n",
       "18244          1.63      17074.83    1529.20    0.00    13498.67      431.85   \n",
       "18245          1.71      13888.04    3431.50    0.00     9264.84      324.80   \n",
       "18246          1.87      13766.76    2452.79  727.94     9394.11       42.31   \n",
       "18247          1.93      16205.22    2981.04  727.01    10969.54       50.00   \n",
       "18248          1.62      17489.58    2356.13  224.53    12014.15       26.01   \n",
       "\n",
       "       XLarge Bags  type  year  region  \n",
       "0              0.0     0  2015       0  \n",
       "1              0.0     0  2015       0  \n",
       "2              0.0     0  2015       0  \n",
       "3              0.0     0  2015       0  \n",
       "4              0.0     0  2015       0  \n",
       "...            ...   ...   ...     ...  \n",
       "18244          0.0     1  2018      53  \n",
       "18245          0.0     1  2018      53  \n",
       "18246          0.0     1  2018      53  \n",
       "18247          0.0     1  2018      53  \n",
       "18248          0.0     1  2018      53  \n",
       "\n",
       "[17651 rows x 10 columns]"
      ]
     },
     "execution_count": 220,
     "metadata": {},
     "output_type": "execute_result"
    }
   ],
   "source": [
    "av1"
   ]
  },
  {
   "cell_type": "code",
   "execution_count": 221,
   "id": "c29f5073",
   "metadata": {},
   "outputs": [
    {
     "data": {
      "text/html": [
       "<div>\n",
       "<style scoped>\n",
       "    .dataframe tbody tr th:only-of-type {\n",
       "        vertical-align: middle;\n",
       "    }\n",
       "\n",
       "    .dataframe tbody tr th {\n",
       "        vertical-align: top;\n",
       "    }\n",
       "\n",
       "    .dataframe thead th {\n",
       "        text-align: right;\n",
       "    }\n",
       "</style>\n",
       "<table border=\"1\" class=\"dataframe\">\n",
       "  <thead>\n",
       "    <tr style=\"text-align: right;\">\n",
       "      <th></th>\n",
       "      <th>AveragePrice</th>\n",
       "      <th>Total Volume</th>\n",
       "      <th>4225</th>\n",
       "      <th>4770</th>\n",
       "      <th>Total Bags</th>\n",
       "      <th>Large Bags</th>\n",
       "      <th>XLarge Bags</th>\n",
       "      <th>type</th>\n",
       "      <th>year</th>\n",
       "    </tr>\n",
       "  </thead>\n",
       "  <tbody>\n",
       "    <tr>\n",
       "      <th>0</th>\n",
       "      <td>1.33</td>\n",
       "      <td>64236.62</td>\n",
       "      <td>54454.85</td>\n",
       "      <td>48.16</td>\n",
       "      <td>8696.87</td>\n",
       "      <td>93.25</td>\n",
       "      <td>0.0</td>\n",
       "      <td>0</td>\n",
       "      <td>2015</td>\n",
       "    </tr>\n",
       "    <tr>\n",
       "      <th>1</th>\n",
       "      <td>1.35</td>\n",
       "      <td>54876.98</td>\n",
       "      <td>44638.81</td>\n",
       "      <td>58.33</td>\n",
       "      <td>9505.56</td>\n",
       "      <td>97.49</td>\n",
       "      <td>0.0</td>\n",
       "      <td>0</td>\n",
       "      <td>2015</td>\n",
       "    </tr>\n",
       "    <tr>\n",
       "      <th>2</th>\n",
       "      <td>0.93</td>\n",
       "      <td>118220.22</td>\n",
       "      <td>109149.67</td>\n",
       "      <td>130.50</td>\n",
       "      <td>8145.35</td>\n",
       "      <td>103.14</td>\n",
       "      <td>0.0</td>\n",
       "      <td>0</td>\n",
       "      <td>2015</td>\n",
       "    </tr>\n",
       "    <tr>\n",
       "      <th>3</th>\n",
       "      <td>1.08</td>\n",
       "      <td>78992.15</td>\n",
       "      <td>71976.41</td>\n",
       "      <td>72.58</td>\n",
       "      <td>5811.16</td>\n",
       "      <td>133.76</td>\n",
       "      <td>0.0</td>\n",
       "      <td>0</td>\n",
       "      <td>2015</td>\n",
       "    </tr>\n",
       "    <tr>\n",
       "      <th>4</th>\n",
       "      <td>1.28</td>\n",
       "      <td>51039.60</td>\n",
       "      <td>43838.39</td>\n",
       "      <td>75.78</td>\n",
       "      <td>6183.95</td>\n",
       "      <td>197.69</td>\n",
       "      <td>0.0</td>\n",
       "      <td>0</td>\n",
       "      <td>2015</td>\n",
       "    </tr>\n",
       "    <tr>\n",
       "      <th>...</th>\n",
       "      <td>...</td>\n",
       "      <td>...</td>\n",
       "      <td>...</td>\n",
       "      <td>...</td>\n",
       "      <td>...</td>\n",
       "      <td>...</td>\n",
       "      <td>...</td>\n",
       "      <td>...</td>\n",
       "      <td>...</td>\n",
       "    </tr>\n",
       "    <tr>\n",
       "      <th>18244</th>\n",
       "      <td>1.63</td>\n",
       "      <td>17074.83</td>\n",
       "      <td>1529.20</td>\n",
       "      <td>0.00</td>\n",
       "      <td>13498.67</td>\n",
       "      <td>431.85</td>\n",
       "      <td>0.0</td>\n",
       "      <td>1</td>\n",
       "      <td>2018</td>\n",
       "    </tr>\n",
       "    <tr>\n",
       "      <th>18245</th>\n",
       "      <td>1.71</td>\n",
       "      <td>13888.04</td>\n",
       "      <td>3431.50</td>\n",
       "      <td>0.00</td>\n",
       "      <td>9264.84</td>\n",
       "      <td>324.80</td>\n",
       "      <td>0.0</td>\n",
       "      <td>1</td>\n",
       "      <td>2018</td>\n",
       "    </tr>\n",
       "    <tr>\n",
       "      <th>18246</th>\n",
       "      <td>1.87</td>\n",
       "      <td>13766.76</td>\n",
       "      <td>2452.79</td>\n",
       "      <td>727.94</td>\n",
       "      <td>9394.11</td>\n",
       "      <td>42.31</td>\n",
       "      <td>0.0</td>\n",
       "      <td>1</td>\n",
       "      <td>2018</td>\n",
       "    </tr>\n",
       "    <tr>\n",
       "      <th>18247</th>\n",
       "      <td>1.93</td>\n",
       "      <td>16205.22</td>\n",
       "      <td>2981.04</td>\n",
       "      <td>727.01</td>\n",
       "      <td>10969.54</td>\n",
       "      <td>50.00</td>\n",
       "      <td>0.0</td>\n",
       "      <td>1</td>\n",
       "      <td>2018</td>\n",
       "    </tr>\n",
       "    <tr>\n",
       "      <th>18248</th>\n",
       "      <td>1.62</td>\n",
       "      <td>17489.58</td>\n",
       "      <td>2356.13</td>\n",
       "      <td>224.53</td>\n",
       "      <td>12014.15</td>\n",
       "      <td>26.01</td>\n",
       "      <td>0.0</td>\n",
       "      <td>1</td>\n",
       "      <td>2018</td>\n",
       "    </tr>\n",
       "  </tbody>\n",
       "</table>\n",
       "<p>17651 rows × 9 columns</p>\n",
       "</div>"
      ],
      "text/plain": [
       "       AveragePrice  Total Volume       4225    4770  Total Bags  Large Bags  \\\n",
       "0              1.33      64236.62   54454.85   48.16     8696.87       93.25   \n",
       "1              1.35      54876.98   44638.81   58.33     9505.56       97.49   \n",
       "2              0.93     118220.22  109149.67  130.50     8145.35      103.14   \n",
       "3              1.08      78992.15   71976.41   72.58     5811.16      133.76   \n",
       "4              1.28      51039.60   43838.39   75.78     6183.95      197.69   \n",
       "...             ...           ...        ...     ...         ...         ...   \n",
       "18244          1.63      17074.83    1529.20    0.00    13498.67      431.85   \n",
       "18245          1.71      13888.04    3431.50    0.00     9264.84      324.80   \n",
       "18246          1.87      13766.76    2452.79  727.94     9394.11       42.31   \n",
       "18247          1.93      16205.22    2981.04  727.01    10969.54       50.00   \n",
       "18248          1.62      17489.58    2356.13  224.53    12014.15       26.01   \n",
       "\n",
       "       XLarge Bags  type  year  \n",
       "0              0.0     0  2015  \n",
       "1              0.0     0  2015  \n",
       "2              0.0     0  2015  \n",
       "3              0.0     0  2015  \n",
       "4              0.0     0  2015  \n",
       "...            ...   ...   ...  \n",
       "18244          0.0     1  2018  \n",
       "18245          0.0     1  2018  \n",
       "18246          0.0     1  2018  \n",
       "18247          0.0     1  2018  \n",
       "18248          0.0     1  2018  \n",
       "\n",
       "[17651 rows x 9 columns]"
      ]
     },
     "execution_count": 221,
     "metadata": {},
     "output_type": "execute_result"
    }
   ],
   "source": [
    "x1=av1.iloc[:,0:-1]\n",
    "x1"
   ]
  },
  {
   "cell_type": "code",
   "execution_count": 222,
   "id": "c5f9bded",
   "metadata": {},
   "outputs": [
    {
     "data": {
      "text/plain": [
       "0         0\n",
       "1         0\n",
       "2         0\n",
       "3         0\n",
       "4         0\n",
       "         ..\n",
       "18244    53\n",
       "18245    53\n",
       "18246    53\n",
       "18247    53\n",
       "18248    53\n",
       "Name: region, Length: 17651, dtype: int64"
      ]
     },
     "execution_count": 222,
     "metadata": {},
     "output_type": "execute_result"
    }
   ],
   "source": [
    "y1=av1.iloc[:,-1]\n",
    "y1"
   ]
  },
  {
   "cell_type": "code",
   "execution_count": 223,
   "id": "fe9b35de",
   "metadata": {},
   "outputs": [],
   "source": [
    "#training and testing of model\n",
    "xtrain,xtest,ytrain,ytest=train_test_split(x1,y1,test_size=.3,random_state=152)"
   ]
  },
  {
   "cell_type": "code",
   "execution_count": 224,
   "id": "add6835a",
   "metadata": {},
   "outputs": [
    {
     "data": {
      "text/plain": [
       "(12355, 9)"
      ]
     },
     "execution_count": 224,
     "metadata": {},
     "output_type": "execute_result"
    }
   ],
   "source": [
    "xtrain.shape"
   ]
  },
  {
   "cell_type": "code",
   "execution_count": 225,
   "id": "b690980f",
   "metadata": {},
   "outputs": [
    {
     "data": {
      "text/plain": [
       "(5296, 9)"
      ]
     },
     "execution_count": 225,
     "metadata": {},
     "output_type": "execute_result"
    }
   ],
   "source": [
    "xtest.shape"
   ]
  },
  {
   "cell_type": "code",
   "execution_count": 226,
   "id": "a270efa7",
   "metadata": {},
   "outputs": [
    {
     "data": {
      "text/plain": [
       "(12355,)"
      ]
     },
     "execution_count": 226,
     "metadata": {},
     "output_type": "execute_result"
    }
   ],
   "source": [
    "ytrain.shape"
   ]
  },
  {
   "cell_type": "code",
   "execution_count": 227,
   "id": "5ebeb829",
   "metadata": {},
   "outputs": [
    {
     "data": {
      "text/plain": [
       "(5296,)"
      ]
     },
     "execution_count": 227,
     "metadata": {},
     "output_type": "execute_result"
    }
   ],
   "source": [
    "ytest.shape"
   ]
  },
  {
   "cell_type": "code",
   "execution_count": 228,
   "id": "f2488c1a",
   "metadata": {},
   "outputs": [
    {
     "name": "stdout",
     "output_type": "stream",
     "text": [
      "0.14312688821752265\n",
      "              precision    recall  f1-score   support\n",
      "\n",
      "           0       0.00      0.00      0.00       102\n",
      "           1       0.16      0.12      0.14        99\n",
      "           2       0.24      0.29      0.26        90\n",
      "           3       0.00      0.00      0.00        99\n",
      "           4       0.22      0.16      0.19        91\n",
      "           5       0.18      0.02      0.03       109\n",
      "           6       0.14      0.39      0.21        89\n",
      "           7       0.40      0.09      0.14        93\n",
      "           8       0.77      0.46      0.57       103\n",
      "           9       0.11      0.32      0.16       111\n",
      "          10       0.00      0.00      0.00       113\n",
      "          11       0.10      0.02      0.03       103\n",
      "          12       0.09      0.31      0.14       101\n",
      "          13       0.34      0.42      0.38        97\n",
      "          14       0.00      0.00      0.00       105\n",
      "          15       0.21      0.34      0.26        92\n",
      "          16       0.00      0.00      0.00       119\n",
      "          17       0.00      0.00      0.00        98\n",
      "          18       0.25      0.12      0.16       104\n",
      "          19       1.00      0.01      0.02        99\n",
      "          20       0.25      0.04      0.07        93\n",
      "          21       0.13      0.04      0.06       100\n",
      "          22       0.19      0.33      0.24        92\n",
      "          23       0.00      0.00      0.00       115\n",
      "          24       0.07      0.05      0.06        87\n",
      "          25       0.22      0.46      0.30        92\n",
      "          26       0.00      0.00      0.00       109\n",
      "          27       0.19      0.32      0.24       108\n",
      "          28       0.03      0.05      0.04       108\n",
      "          29       0.10      0.46      0.16       100\n",
      "          30       0.09      0.20      0.13        88\n",
      "          31       0.00      0.00      0.00        89\n",
      "          32       0.05      0.01      0.02        97\n",
      "          33       0.38      0.20      0.26       105\n",
      "          34       0.00      0.00      0.00       102\n",
      "          35       0.34      0.30      0.32       108\n",
      "          36       0.09      0.03      0.04        99\n",
      "          37       0.00      0.00      0.00       117\n",
      "          38       0.00      0.00      0.00        98\n",
      "          39       0.00      0.00      0.00        95\n",
      "          40       0.55      0.22      0.31       109\n",
      "          41       0.40      0.04      0.08        94\n",
      "          42       0.25      0.64      0.36        87\n",
      "          43       0.05      0.13      0.07        87\n",
      "          44       0.00      0.00      0.00        90\n",
      "          45       0.14      0.25      0.18        87\n",
      "          46       0.09      0.27      0.13        84\n",
      "          47       0.00      0.00      0.00        91\n",
      "          48       0.02      0.10      0.03        98\n",
      "          49       0.00      0.00      0.00        99\n",
      "          50       0.00      0.00      0.00       113\n",
      "          51       0.14      0.64      0.23        55\n",
      "          52       0.19      0.30      0.23        82\n",
      "          53       0.09      0.05      0.06       101\n",
      "\n",
      "    accuracy                           0.14      5296\n",
      "   macro avg       0.15      0.15      0.12      5296\n",
      "weighted avg       0.15      0.14      0.11      5296\n",
      "\n",
      "[[ 0  0  1 ...  0  0  0]\n",
      " [ 0 12  0 ...  4  6  0]\n",
      " [ 0  0 26 ...  4  0  0]\n",
      " ...\n",
      " [ 0  0  0 ... 35  9  0]\n",
      " [ 0  0  0 ... 12 25  0]\n",
      " [ 0  2  3 ...  2  3  5]]\n"
     ]
    }
   ],
   "source": [
    "#APPLYING ML ALGORITHMS\n",
    "#LogisticRegression\n",
    "from sklearn.linear_model import LogisticRegression\n",
    "from sklearn.metrics import accuracy_score\n",
    "from sklearn.metrics import confusion_matrix,classification_report\n",
    "lg=LogisticRegression()\n",
    "lg.fit(xtrain,ytrain)\n",
    "predlg=lg.predict(xtest)\n",
    "print(accuracy_score(ytest,predlg))\n",
    "print(classification_report(ytest,predlg))\n",
    "print(confusion_matrix(ytest,predlg))"
   ]
  },
  {
   "cell_type": "code",
   "execution_count": 229,
   "id": "bbb07218",
   "metadata": {},
   "outputs": [
    {
     "name": "stdout",
     "output_type": "stream",
     "text": [
      "0.8470543806646526\n",
      "              precision    recall  f1-score   support\n",
      "\n",
      "           0       0.83      0.88      0.85       102\n",
      "           1       0.78      0.74      0.76        99\n",
      "           2       0.95      0.88      0.91        90\n",
      "           3       0.88      0.86      0.87        99\n",
      "           4       0.92      0.92      0.92        91\n",
      "           5       0.84      0.72      0.77       109\n",
      "           6       0.97      0.99      0.98        89\n",
      "           7       0.78      0.89      0.83        93\n",
      "           8       0.97      0.91      0.94       103\n",
      "           9       0.80      0.78      0.79       111\n",
      "          10       0.73      0.65      0.69       113\n",
      "          11       0.93      0.90      0.92       103\n",
      "          12       0.93      0.96      0.95       101\n",
      "          13       0.69      0.81      0.75        97\n",
      "          14       0.85      0.90      0.88       105\n",
      "          15       0.98      0.93      0.96        92\n",
      "          16       0.95      0.91      0.93       119\n",
      "          17       0.77      0.87      0.82        98\n",
      "          18       0.88      0.92      0.90       104\n",
      "          19       0.74      0.81      0.77        99\n",
      "          20       0.93      0.91      0.92        93\n",
      "          21       0.77      0.75      0.76       100\n",
      "          22       0.99      0.98      0.98        92\n",
      "          23       0.86      0.76      0.81       115\n",
      "          24       0.66      0.68      0.67        87\n",
      "          25       0.91      0.97      0.94        92\n",
      "          26       0.68      0.65      0.67       109\n",
      "          27       0.79      0.82      0.81       108\n",
      "          28       0.95      0.95      0.95       108\n",
      "          29       0.96      0.93      0.94       100\n",
      "          30       0.90      0.90      0.90        88\n",
      "          31       0.71      0.70      0.70        89\n",
      "          32       0.91      0.77      0.84        97\n",
      "          33       0.80      0.83      0.81       105\n",
      "          34       0.87      0.88      0.88       102\n",
      "          35       0.94      0.94      0.94       108\n",
      "          36       0.89      0.79      0.83        99\n",
      "          37       0.83      0.75      0.79       117\n",
      "          38       0.82      0.88      0.85        98\n",
      "          39       0.70      0.73      0.71        95\n",
      "          40       0.84      0.90      0.87       109\n",
      "          41       0.83      0.88      0.86        94\n",
      "          42       0.89      0.97      0.93        87\n",
      "          43       0.82      0.84      0.83        87\n",
      "          44       0.81      0.79      0.80        90\n",
      "          45       0.98      0.98      0.98        87\n",
      "          46       0.90      0.98      0.94        84\n",
      "          47       0.87      0.73      0.79        91\n",
      "          48       0.85      0.85      0.85        98\n",
      "          49       0.72      0.89      0.79        99\n",
      "          50       0.66      0.63      0.65       113\n",
      "          51       1.00      1.00      1.00        55\n",
      "          52       0.99      0.98      0.98        82\n",
      "          53       0.80      0.76      0.78       101\n",
      "\n",
      "    accuracy                           0.85      5296\n",
      "   macro avg       0.85      0.85      0.85      5296\n",
      "weighted avg       0.85      0.85      0.85      5296\n",
      "\n",
      "[[90  0  0 ...  0  0  0]\n",
      " [ 0 73  0 ...  0  0  0]\n",
      " [ 0  0 79 ...  0  0  0]\n",
      " ...\n",
      " [ 0  0  0 ... 55  0  0]\n",
      " [ 0  0  0 ...  0 80  0]\n",
      " [ 0  1  0 ...  0  0 77]]\n"
     ]
    }
   ],
   "source": [
    "from sklearn.ensemble import RandomForestClassifier\n",
    "rfc=RandomForestClassifier()\n",
    "rfc.fit(xtrain,ytrain)\n",
    "predrfc=rfc.predict(xtest)\n",
    "print(accuracy_score(ytest,predrfc))\n",
    "print(classification_report(ytest,predrfc))\n",
    "print(confusion_matrix(ytest,predrfc))"
   ]
  },
  {
   "cell_type": "code",
   "execution_count": 230,
   "id": "aef5a76e",
   "metadata": {},
   "outputs": [
    {
     "name": "stdout",
     "output_type": "stream",
     "text": [
      "0.22696374622356497\n",
      "[[27  0  0 ...  0  0  0]\n",
      " [ 0 20  0 ...  0  0  0]\n",
      " [ 0  0 30 ...  2  0  0]\n",
      " ...\n",
      " [ 0  0  0 ... 48  0  0]\n",
      " [ 0  9  0 ...  0 15  0]\n",
      " [ 0  0  1 ...  2  0  3]]\n",
      "              precision    recall  f1-score   support\n",
      "\n",
      "           0       0.48      0.26      0.34       102\n",
      "           1       0.38      0.20      0.26        99\n",
      "           2       0.41      0.33      0.37        90\n",
      "           3       0.28      0.44      0.35        99\n",
      "           4       0.28      0.15      0.20        91\n",
      "           5       0.00      0.00      0.00       109\n",
      "           6       0.47      0.36      0.41        89\n",
      "           7       0.46      0.17      0.25        93\n",
      "           8       0.72      0.42      0.53       103\n",
      "           9       0.85      0.15      0.26       111\n",
      "          10       0.35      0.06      0.11       113\n",
      "          11       0.38      0.06      0.10       103\n",
      "          12       0.29      0.20      0.24       101\n",
      "          13       0.50      0.32      0.39        97\n",
      "          14       0.61      0.18      0.28       105\n",
      "          15       0.82      0.20      0.32        92\n",
      "          16       0.45      0.37      0.41       119\n",
      "          17       0.55      0.39      0.46        98\n",
      "          18       0.30      0.03      0.05       104\n",
      "          19       0.45      0.13      0.20        99\n",
      "          20       0.16      0.20      0.18        93\n",
      "          21       0.11      0.24      0.15       100\n",
      "          22       0.61      0.29      0.40        92\n",
      "          23       0.54      0.12      0.20       115\n",
      "          24       0.32      0.10      0.16        87\n",
      "          25       0.51      0.27      0.35        92\n",
      "          26       0.13      0.04      0.06       109\n",
      "          27       0.83      0.09      0.17       108\n",
      "          28       0.59      0.38      0.46       108\n",
      "          29       0.71      0.35      0.47       100\n",
      "          30       0.25      0.02      0.04        88\n",
      "          31       0.16      0.17      0.16        89\n",
      "          32       0.62      0.26      0.36        97\n",
      "          33       0.39      0.11      0.18       105\n",
      "          34       0.68      0.13      0.21       102\n",
      "          35       0.54      0.26      0.35       108\n",
      "          36       0.53      0.24      0.33        99\n",
      "          37       0.62      0.25      0.35       117\n",
      "          38       0.23      0.12      0.16        98\n",
      "          39       0.16      0.39      0.23        95\n",
      "          40       0.43      0.30      0.36       109\n",
      "          41       0.22      0.06      0.10        94\n",
      "          42       0.37      0.46      0.41        87\n",
      "          43       0.28      0.26      0.27        87\n",
      "          44       0.29      0.08      0.12        90\n",
      "          45       0.43      0.14      0.21        87\n",
      "          46       0.54      0.30      0.38        84\n",
      "          47       0.08      0.30      0.12        91\n",
      "          48       0.32      0.21      0.26        98\n",
      "          49       0.04      0.77      0.07        99\n",
      "          50       0.29      0.17      0.21       113\n",
      "          51       0.35      0.87      0.50        55\n",
      "          52       0.32      0.18      0.23        82\n",
      "          53       0.18      0.03      0.05       101\n",
      "\n",
      "    accuracy                           0.23      5296\n",
      "   macro avg       0.41      0.23      0.26      5296\n",
      "weighted avg       0.41      0.23      0.25      5296\n",
      "\n"
     ]
    }
   ],
   "source": [
    "#GaussianNB\n",
    "from sklearn.naive_bayes import GaussianNB\n",
    "gnb=GaussianNB()\n",
    "gnb.fit(xtrain,ytrain)\n",
    "gnb.score(xtrain,ytrain)\n",
    "predgnb=gnb.predict(xtest)\n",
    "print(accuracy_score(ytest,predgnb))\n",
    "print(confusion_matrix(ytest,predgnb))\n",
    "print(classification_report(ytest,predgnb))"
   ]
  },
  {
   "cell_type": "code",
   "execution_count": 231,
   "id": "a9e11d0b",
   "metadata": {},
   "outputs": [
    {
     "name": "stdout",
     "output_type": "stream",
     "text": [
      "0.2212990936555891\n",
      "              precision    recall  f1-score   support\n",
      "\n",
      "           0       1.00      0.07      0.13       102\n",
      "           1       0.34      0.23      0.28        99\n",
      "           2       0.79      0.38      0.51        90\n",
      "           3       0.00      0.00      0.00        99\n",
      "           4       0.62      0.35      0.45        91\n",
      "           5       0.00      0.00      0.00       109\n",
      "           6       0.76      0.33      0.46        89\n",
      "           7       0.08      0.14      0.10        93\n",
      "           8       0.95      0.39      0.55       103\n",
      "           9       0.39      0.16      0.23       111\n",
      "          10       0.00      0.00      0.00       113\n",
      "          11       0.61      0.34      0.44       103\n",
      "          12       0.63      0.31      0.41       101\n",
      "          13       0.50      0.11      0.18        97\n",
      "          14       0.00      0.00      0.00       105\n",
      "          15       1.00      0.37      0.54        92\n",
      "          16       0.00      0.00      0.00       119\n",
      "          17       0.61      0.32      0.42        98\n",
      "          18       0.94      0.15      0.26       104\n",
      "          19       0.25      0.03      0.05        99\n",
      "          20       0.15      0.22      0.18        93\n",
      "          21       0.00      0.00      0.00       100\n",
      "          22       0.89      0.37      0.52        92\n",
      "          23       0.00      0.00      0.00       115\n",
      "          24       0.50      0.11      0.19        87\n",
      "          25       0.83      0.48      0.61        92\n",
      "          26       0.00      0.00      0.00       109\n",
      "          27       0.33      0.12      0.18       108\n",
      "          28       0.90      0.48      0.63       108\n",
      "          29       0.93      0.43      0.59       100\n",
      "          30       0.29      0.30      0.29        88\n",
      "          31       0.37      0.08      0.13        89\n",
      "          32       0.64      0.29      0.40        97\n",
      "          33       0.46      0.31      0.37       105\n",
      "          34       0.00      0.00      0.00       102\n",
      "          35       0.77      0.37      0.50       108\n",
      "          36       0.33      0.02      0.04        99\n",
      "          37       0.00      0.00      0.00       117\n",
      "          38       0.12      0.36      0.18        98\n",
      "          39       0.07      0.27      0.11        95\n",
      "          40       0.56      0.31      0.40       109\n",
      "          41       0.52      0.33      0.40        94\n",
      "          42       0.69      0.43      0.52        87\n",
      "          43       0.39      0.24      0.30        87\n",
      "          44       0.14      0.43      0.21        90\n",
      "          45       0.85      0.33      0.48        87\n",
      "          46       1.00      0.38      0.55        84\n",
      "          47       0.00      0.00      0.00        91\n",
      "          48       0.00      0.00      0.00        98\n",
      "          49       0.04      0.98      0.07        99\n",
      "          50       0.00      0.00      0.00       113\n",
      "          51       0.81      0.55      0.65        55\n",
      "          52       0.90      0.23      0.37        82\n",
      "          53       0.52      0.33      0.40       101\n",
      "\n",
      "    accuracy                           0.22      5296\n",
      "   macro avg       0.43      0.23      0.26      5296\n",
      "weighted avg       0.42      0.22      0.25      5296\n",
      "\n",
      "[[ 7  0  0 ...  0  0  0]\n",
      " [ 0 23  0 ...  0  0  1]\n",
      " [ 0  0 34 ...  0  0  0]\n",
      " ...\n",
      " [ 0  0  1 ... 30  0  1]\n",
      " [ 0  0  0 ...  0 19  0]\n",
      " [ 0  7  0 ...  0  0 33]]\n"
     ]
    }
   ],
   "source": [
    "#SUPPORT VECTOR CLASSIFIER\n",
    "from sklearn.svm import SVC\n",
    "svc=SVC()\n",
    "svc.fit(xtrain,ytrain)\n",
    "predsvc=svc.predict(xtest)\n",
    "print(accuracy_score(ytest,predsvc))\n",
    "print(classification_report(ytest,predsvc))\n",
    "print(confusion_matrix(ytest,predsvc))"
   ]
  },
  {
   "cell_type": "code",
   "execution_count": 232,
   "id": "6b067de6",
   "metadata": {},
   "outputs": [
    {
     "name": "stdout",
     "output_type": "stream",
     "text": [
      "0.7139350453172205\n",
      "[[85  0  0 ...  0  0  0]\n",
      " [ 0 61  0 ...  0  0  2]\n",
      " [ 0  0 69 ...  0  0  1]\n",
      " ...\n",
      " [ 0  0  0 ... 55  0  0]\n",
      " [ 0  0  0 ...  0 73  0]\n",
      " [ 0  1  0 ...  0  0 65]]\n",
      "              precision    recall  f1-score   support\n",
      "\n",
      "           0       0.79      0.83      0.81       102\n",
      "           1       0.63      0.62      0.62        99\n",
      "           2       0.82      0.77      0.79        90\n",
      "           3       0.80      0.79      0.79        99\n",
      "           4       0.87      0.75      0.80        91\n",
      "           5       0.65      0.62      0.64       109\n",
      "           6       0.84      0.90      0.87        89\n",
      "           7       0.67      0.75      0.71        93\n",
      "           8       0.91      0.85      0.88       103\n",
      "           9       0.74      0.63      0.68       111\n",
      "          10       0.59      0.57      0.58       113\n",
      "          11       0.82      0.76      0.79       103\n",
      "          12       0.84      0.80      0.82       101\n",
      "          13       0.60      0.74      0.66        97\n",
      "          14       0.74      0.73      0.74       105\n",
      "          15       0.88      0.79      0.83        92\n",
      "          16       0.82      0.78      0.80       119\n",
      "          17       0.62      0.67      0.65        98\n",
      "          18       0.73      0.76      0.75       104\n",
      "          19       0.64      0.75      0.69        99\n",
      "          20       0.73      0.77      0.75        93\n",
      "          21       0.56      0.54      0.55       100\n",
      "          22       0.80      0.83      0.81        92\n",
      "          23       0.71      0.62      0.66       115\n",
      "          24       0.51      0.52      0.51        87\n",
      "          25       0.86      0.90      0.88        92\n",
      "          26       0.53      0.47      0.50       109\n",
      "          27       0.58      0.67      0.62       108\n",
      "          28       0.84      0.85      0.85       108\n",
      "          29       0.88      0.86      0.87       100\n",
      "          30       0.73      0.76      0.74        88\n",
      "          31       0.54      0.48      0.51        89\n",
      "          32       0.76      0.70      0.73        97\n",
      "          33       0.74      0.70      0.72       105\n",
      "          34       0.70      0.72      0.71       102\n",
      "          35       0.84      0.81      0.82       108\n",
      "          36       0.57      0.64      0.60        99\n",
      "          37       0.73      0.51      0.60       117\n",
      "          38       0.63      0.77      0.69        98\n",
      "          39       0.55      0.59      0.57        95\n",
      "          40       0.72      0.74      0.73       109\n",
      "          41       0.65      0.68      0.67        94\n",
      "          42       0.83      0.84      0.83        87\n",
      "          43       0.64      0.62      0.63        87\n",
      "          44       0.62      0.64      0.63        90\n",
      "          45       0.91      0.91      0.91        87\n",
      "          46       0.85      0.85      0.85        84\n",
      "          47       0.66      0.66      0.66        91\n",
      "          48       0.71      0.68      0.69        98\n",
      "          49       0.67      0.67      0.67        99\n",
      "          50       0.50      0.48      0.49       113\n",
      "          51       1.00      1.00      1.00        55\n",
      "          52       0.87      0.89      0.88        82\n",
      "          53       0.56      0.64      0.60       101\n",
      "\n",
      "    accuracy                           0.71      5296\n",
      "   macro avg       0.72      0.72      0.72      5296\n",
      "weighted avg       0.72      0.71      0.71      5296\n",
      "\n"
     ]
    }
   ],
   "source": [
    "from sklearn.tree import DecisionTreeClassifier\n",
    "#DecisionTreeClassifier\n",
    "dtc=DecisionTreeClassifier()\n",
    "dtc.fit(xtrain,ytrain)\n",
    "dtc.score(xtrain,ytrain)\n",
    "preddtc=dtc.predict(xtest)\n",
    "print(accuracy_score(ytest,preddtc))\n",
    "print(confusion_matrix(ytest,preddtc))\n",
    "print(classification_report(ytest,preddtc))"
   ]
  },
  {
   "cell_type": "markdown",
   "id": "141c7435",
   "metadata": {},
   "source": [
    "Among all the algorithms Random Forest Classifier gives the highest accuracy of 85%. so we will go with Random Forest Classifier"
   ]
  },
  {
   "cell_type": "code",
   "execution_count": 233,
   "id": "0ab241d2",
   "metadata": {},
   "outputs": [
    {
     "name": "stdout",
     "output_type": "stream",
     "text": [
      "cross validation score of logistic regression is 0.11330499669860557 0.07576312016625006\n"
     ]
    }
   ],
   "source": [
    "#CROSS VALIDATION \n",
    "from sklearn.model_selection import cross_val_score\n",
    "cr=cross_val_score(lg,x1,y1,cv=5)\n",
    "print('cross validation score of logistic regression is',cr.mean(),cr.std())"
   ]
  },
  {
   "cell_type": "code",
   "execution_count": 234,
   "id": "036618f8",
   "metadata": {},
   "outputs": [
    {
     "name": "stdout",
     "output_type": "stream",
     "text": [
      "cross validation score of GaussianNB is 0.1710845662416974 0.13582142596777852\n"
     ]
    }
   ],
   "source": [
    "cr2=cross_val_score(gnb,x1,y1,cv=5)\n",
    "print('cross validation score of GaussianNB is',cr2.mean(),cr2.std())"
   ]
  },
  {
   "cell_type": "code",
   "execution_count": 235,
   "id": "f85e5a03",
   "metadata": {},
   "outputs": [
    {
     "name": "stdout",
     "output_type": "stream",
     "text": [
      "cross validation score of Support Vector classifier is 0.21357892819808044 0.17456644182889383\n"
     ]
    }
   ],
   "source": [
    "cr3=cross_val_score(svc,x1,y1,cv=5)\n",
    "print('cross validation score of Support Vector classifier is',cr3.mean(),cr3.std())"
   ]
  },
  {
   "cell_type": "code",
   "execution_count": 238,
   "id": "985ee316",
   "metadata": {},
   "outputs": [
    {
     "name": "stdout",
     "output_type": "stream",
     "text": [
      "cross validation score of Random Forest Classifier is 0.5871634563313364 0.11049458547157727\n"
     ]
    }
   ],
   "source": [
    "cr4=cross_val_score(rfc,x1,y1,cv=5)\n",
    "print('cross validation score of Random Forest Classifier is',cr4.mean(),cr4.std())"
   ]
  },
  {
   "cell_type": "code",
   "execution_count": 239,
   "id": "740e5417",
   "metadata": {},
   "outputs": [
    {
     "name": "stdout",
     "output_type": "stream",
     "text": [
      "cross validation score of Decision Tree Classifier is 0.4704571328171445 0.09653275650508489\n"
     ]
    }
   ],
   "source": [
    "cr5=cross_val_score(dtc,x1,y1,cv=5)\n",
    "print('cross validation score of Decision Tree Classifier is',cr5.mean(),cr5.std())"
   ]
  }
 ],
 "metadata": {
  "kernelspec": {
   "display_name": "Python 3",
   "language": "python",
   "name": "python3"
  },
  "language_info": {
   "codemirror_mode": {
    "name": "ipython",
    "version": 3
   },
   "file_extension": ".py",
   "mimetype": "text/x-python",
   "name": "python",
   "nbconvert_exporter": "python",
   "pygments_lexer": "ipython3",
   "version": "3.8.8"
  }
 },
 "nbformat": 4,
 "nbformat_minor": 5
}
